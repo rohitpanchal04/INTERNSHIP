{
 "cells": [
  {
   "cell_type": "code",
   "execution_count": 1,
   "id": "ef63b838",
   "metadata": {},
   "outputs": [],
   "source": [
    "import requests\n",
    "from bs4 import BeautifulSoup\n",
    "import pandas as pd"
   ]
  },
  {
   "cell_type": "markdown",
   "id": "e7f8dcf1",
   "metadata": {},
   "source": [
    "QNO 1 --> Write a python program to display IMDB’s Top rated 100 Indian movies’ data\n",
    "https://www.imdb.com/list/ls056092300/ (i.e. name, rating, year ofrelease) and make data frame."
   ]
  },
  {
   "cell_type": "code",
   "execution_count": 2,
   "id": "48d04856",
   "metadata": {},
   "outputs": [
    {
     "data": {
      "text/plain": [
       "<Response [200]>"
      ]
     },
     "execution_count": 2,
     "metadata": {},
     "output_type": "execute_result"
    }
   ],
   "source": [
    "url='https://www.imdb.com/list/ls056092300/'\n",
    "response=requests.get(url)\n",
    "response"
   ]
  },
  {
   "cell_type": "code",
   "execution_count": 3,
   "id": "067b4a4a",
   "metadata": {},
   "outputs": [],
   "source": [
    "soup=BeautifulSoup(response.content)"
   ]
  },
  {
   "cell_type": "code",
   "execution_count": 4,
   "id": "8281f529",
   "metadata": {},
   "outputs": [],
   "source": [
    "Name=[]\n",
    "Rating=[]\n",
    "Year_of_release=[]\n",
    "Image=[]"
   ]
  },
  {
   "cell_type": "code",
   "execution_count": 5,
   "id": "7a705f23",
   "metadata": {},
   "outputs": [],
   "source": [
    "movie_data=soup.find_all('div',class_='lister-item mode-detail')"
   ]
  },
  {
   "cell_type": "code",
   "execution_count": 6,
   "id": "7f1c93c6",
   "metadata": {},
   "outputs": [],
   "source": [
    "for i in movie_data:\n",
    "    name=i.h3.a.text\n",
    "    Name.append(name)\n",
    "    \n",
    "    rating=i.find('span',class_=\"ipl-rating-star__rating\").text.replace(' ,',' ')\n",
    "    Rating.append(rating)\n",
    "    \n",
    "    release=i.find('span',class_=\"lister-item-year text-muted unbold\").text.replace('(','').replace(')','')\n",
    "    Year_of_release.append(release)\n",
    "    \n",
    "    img = i.find('img', class_='loadlate')\n",
    "    if img is not None:\n",
    "        Image.append(img.get('loadlate'))\n",
    "    else:\n",
    "        print(f\"Image not found for {name}\")"
   ]
  },
  {
   "cell_type": "code",
   "execution_count": 7,
   "id": "52465b40",
   "metadata": {},
   "outputs": [
    {
     "name": "stdout",
     "output_type": "stream",
     "text": [
      "100 100 100 100\n"
     ]
    }
   ],
   "source": [
    "print(len(Name),len(Rating),len(Year_of_release),len(Image))"
   ]
  },
  {
   "cell_type": "code",
   "execution_count": 8,
   "id": "41d99d79",
   "metadata": {},
   "outputs": [],
   "source": [
    "dataframe=pd.DataFrame({\"Name Of Movie\":Name,\"Rating Of Movie\":Rating,\"Year Of Release\":Year_of_release,\"Image of Movie\":Image})"
   ]
  },
  {
   "cell_type": "code",
   "execution_count": 9,
   "id": "742c2f1e",
   "metadata": {},
   "outputs": [
    {
     "data": {
      "text/html": [
       "<div>\n",
       "<style scoped>\n",
       "    .dataframe tbody tr th:only-of-type {\n",
       "        vertical-align: middle;\n",
       "    }\n",
       "\n",
       "    .dataframe tbody tr th {\n",
       "        vertical-align: top;\n",
       "    }\n",
       "\n",
       "    .dataframe thead th {\n",
       "        text-align: right;\n",
       "    }\n",
       "</style>\n",
       "<table border=\"1\" class=\"dataframe\">\n",
       "  <thead>\n",
       "    <tr style=\"text-align: right;\">\n",
       "      <th></th>\n",
       "      <th>Name Of Movie</th>\n",
       "      <th>Rating Of Movie</th>\n",
       "      <th>Year Of Release</th>\n",
       "      <th>Image of Movie</th>\n",
       "    </tr>\n",
       "  </thead>\n",
       "  <tbody>\n",
       "    <tr>\n",
       "      <th>0</th>\n",
       "      <td>Ship of Theseus</td>\n",
       "      <td>8</td>\n",
       "      <td>2012</td>\n",
       "      <td>https://m.media-amazon.com/images/M/MV5BMTU5Nj...</td>\n",
       "    </tr>\n",
       "    <tr>\n",
       "      <th>1</th>\n",
       "      <td>Iruvar</td>\n",
       "      <td>8.4</td>\n",
       "      <td>1997</td>\n",
       "      <td>https://m.media-amazon.com/images/M/MV5BYmUxMj...</td>\n",
       "    </tr>\n",
       "    <tr>\n",
       "      <th>2</th>\n",
       "      <td>Kaagaz Ke Phool</td>\n",
       "      <td>7.8</td>\n",
       "      <td>1959</td>\n",
       "      <td>https://m.media-amazon.com/images/M/MV5BMzhkZG...</td>\n",
       "    </tr>\n",
       "    <tr>\n",
       "      <th>3</th>\n",
       "      <td>Lagaan: Once Upon a Time in India</td>\n",
       "      <td>8.1</td>\n",
       "      <td>2001</td>\n",
       "      <td>https://m.media-amazon.com/images/M/MV5BNDYxNW...</td>\n",
       "    </tr>\n",
       "    <tr>\n",
       "      <th>4</th>\n",
       "      <td>Pather Panchali</td>\n",
       "      <td>8.2</td>\n",
       "      <td>1955</td>\n",
       "      <td>https://m.media-amazon.com/images/M/MV5BMmFkND...</td>\n",
       "    </tr>\n",
       "    <tr>\n",
       "      <th>...</th>\n",
       "      <td>...</td>\n",
       "      <td>...</td>\n",
       "      <td>...</td>\n",
       "      <td>...</td>\n",
       "    </tr>\n",
       "    <tr>\n",
       "      <th>95</th>\n",
       "      <td>Apur Sansar</td>\n",
       "      <td>8.4</td>\n",
       "      <td>1959</td>\n",
       "      <td>https://m.media-amazon.com/images/M/MV5BN2ZhM2...</td>\n",
       "    </tr>\n",
       "    <tr>\n",
       "      <th>96</th>\n",
       "      <td>Kanchivaram</td>\n",
       "      <td>8.2</td>\n",
       "      <td>2008</td>\n",
       "      <td>https://m.media-amazon.com/images/M/MV5BNDJhM2...</td>\n",
       "    </tr>\n",
       "    <tr>\n",
       "      <th>97</th>\n",
       "      <td>Monsoon Wedding</td>\n",
       "      <td>7.3</td>\n",
       "      <td>2001</td>\n",
       "      <td>https://m.media-amazon.com/images/M/MV5BZWMzMD...</td>\n",
       "    </tr>\n",
       "    <tr>\n",
       "      <th>98</th>\n",
       "      <td>Black</td>\n",
       "      <td>8.1</td>\n",
       "      <td>2005</td>\n",
       "      <td>https://m.media-amazon.com/images/M/MV5BNDQ1OT...</td>\n",
       "    </tr>\n",
       "    <tr>\n",
       "      <th>99</th>\n",
       "      <td>Deewaar</td>\n",
       "      <td>8</td>\n",
       "      <td>1975</td>\n",
       "      <td>https://m.media-amazon.com/images/M/MV5BMTU2NT...</td>\n",
       "    </tr>\n",
       "  </tbody>\n",
       "</table>\n",
       "<p>100 rows × 4 columns</p>\n",
       "</div>"
      ],
      "text/plain": [
       "                        Name Of Movie Rating Of Movie Year Of Release  \\\n",
       "0                     Ship of Theseus               8            2012   \n",
       "1                              Iruvar             8.4            1997   \n",
       "2                     Kaagaz Ke Phool             7.8            1959   \n",
       "3   Lagaan: Once Upon a Time in India             8.1            2001   \n",
       "4                     Pather Panchali             8.2            1955   \n",
       "..                                ...             ...             ...   \n",
       "95                        Apur Sansar             8.4            1959   \n",
       "96                        Kanchivaram             8.2            2008   \n",
       "97                    Monsoon Wedding             7.3            2001   \n",
       "98                              Black             8.1            2005   \n",
       "99                            Deewaar               8            1975   \n",
       "\n",
       "                                       Image of Movie  \n",
       "0   https://m.media-amazon.com/images/M/MV5BMTU5Nj...  \n",
       "1   https://m.media-amazon.com/images/M/MV5BYmUxMj...  \n",
       "2   https://m.media-amazon.com/images/M/MV5BMzhkZG...  \n",
       "3   https://m.media-amazon.com/images/M/MV5BNDYxNW...  \n",
       "4   https://m.media-amazon.com/images/M/MV5BMmFkND...  \n",
       "..                                                ...  \n",
       "95  https://m.media-amazon.com/images/M/MV5BN2ZhM2...  \n",
       "96  https://m.media-amazon.com/images/M/MV5BNDJhM2...  \n",
       "97  https://m.media-amazon.com/images/M/MV5BZWMzMD...  \n",
       "98  https://m.media-amazon.com/images/M/MV5BNDQ1OT...  \n",
       "99  https://m.media-amazon.com/images/M/MV5BMTU2NT...  \n",
       "\n",
       "[100 rows x 4 columns]"
      ]
     },
     "execution_count": 9,
     "metadata": {},
     "output_type": "execute_result"
    }
   ],
   "source": [
    "dataframe"
   ]
  },
  {
   "cell_type": "markdown",
   "id": "2d3eb99c",
   "metadata": {},
   "source": [
    "QNO 2 --> Write a python program to scrape product name, price and discounts from https://peachmode.com/search?q=bags"
   ]
  },
  {
   "cell_type": "code",
   "execution_count": 10,
   "id": "e84f88d6",
   "metadata": {},
   "outputs": [],
   "source": [
    "urll='https://peachmode.com/search?q=bags'\n",
    "responsee=requests.get(urll)\n",
    "#responsee"
   ]
  },
  {
   "cell_type": "code",
   "execution_count": 11,
   "id": "99f299fe",
   "metadata": {},
   "outputs": [],
   "source": [
    "souup=BeautifulSoup(responsee.content,'lxml')"
   ]
  },
  {
   "cell_type": "code",
   "execution_count": 12,
   "id": "fcfffd86",
   "metadata": {},
   "outputs": [],
   "source": [
    "dtta =souup.find('div', attrs={'class':'st-product'})\n",
    "#dtta\n",
    "pro=dtta.find('div',class_='product-inner')"
   ]
  },
  {
   "cell_type": "code",
   "execution_count": 13,
   "id": "5ae81338",
   "metadata": {},
   "outputs": [],
   "source": [
    "Product_Name=[]\n",
    "Price=[]\n",
    "Actual=[]"
   ]
  },
  {
   "cell_type": "code",
   "execution_count": 14,
   "id": "ac152153",
   "metadata": {},
   "outputs": [],
   "source": [
    "proname=pro.find('div',attrs={'class':'product-title'}).text\n",
    "price=pro.find('span',attrs={'class':'discounted_price'}).text\n",
    "actual=pro.find('span',attrs={'class':'price'}).text\n",
    "\n",
    "Product_Name.append(proname)\n",
    "Price.append(price)\n",
    "Actual.append(actual)"
   ]
  },
  {
   "cell_type": "markdown",
   "id": "ed01055b",
   "metadata": {},
   "source": [
    "QNO3--> Please visit https://www.cnbc.com/world/?region=world and scrap-\n",
    "a) headings\n",
    "b) date\n",
    "c) News link"
   ]
  },
  {
   "cell_type": "code",
   "execution_count": 15,
   "id": "bf7f8e50",
   "metadata": {},
   "outputs": [],
   "source": [
    "URL='https://www.cnbc.com/world/?region=world'"
   ]
  },
  {
   "cell_type": "code",
   "execution_count": 16,
   "id": "1a37c0ba",
   "metadata": {},
   "outputs": [
    {
     "data": {
      "text/plain": [
       "<Response [200]>"
      ]
     },
     "execution_count": 16,
     "metadata": {},
     "output_type": "execute_result"
    }
   ],
   "source": [
    "rspn=requests.get(URL)\n",
    "rspn"
   ]
  },
  {
   "cell_type": "code",
   "execution_count": 17,
   "id": "4da7cb7d",
   "metadata": {},
   "outputs": [],
   "source": [
    "soupp=BeautifulSoup(rspn.content)\n",
    "#soupp"
   ]
  },
  {
   "cell_type": "code",
   "execution_count": 18,
   "id": "402f4285",
   "metadata": {},
   "outputs": [],
   "source": [
    "Heading=[]\n",
    "Link=[]\n",
    "Date=[]"
   ]
  },
  {
   "cell_type": "code",
   "execution_count": 19,
   "id": "6b39f648",
   "metadata": {},
   "outputs": [],
   "source": [
    "dataa=soupp.find('div',class_='RiverPlus-riverPlusContainer')"
   ]
  },
  {
   "cell_type": "code",
   "execution_count": 20,
   "id": "20be34db",
   "metadata": {},
   "outputs": [],
   "source": [
    "import re"
   ]
  },
  {
   "cell_type": "code",
   "execution_count": 21,
   "id": "a0ca6345",
   "metadata": {},
   "outputs": [],
   "source": [
    "for i in dataa:\n",
    "    namee=i.find('div',class_='RiverHeadline-headline RiverHeadline-hasThumbnail').text if i.find('div',class_='RiverHeadline-headline RiverHeadline-hasThumbnail') else '^^^'\n",
    "    Heading.append(namee)\n",
    "    \n",
    "    link_tag = i.find('a')\n",
    "    pattern = re.compile(r'https?://\\S+.html')\n",
    "    link = pattern.findall(str(link_tag))\n",
    "    Link.append(link)\n",
    "    \n",
    "    date=i.find('a')\n",
    "    pattern='\\d{4}/\\d{2}/\\d{2}'\n",
    "    datee=re.findall(pattern,str(date))\n",
    "    Date.append(datee)"
   ]
  },
  {
   "cell_type": "code",
   "execution_count": 22,
   "id": "7b0aafc9",
   "metadata": {},
   "outputs": [],
   "source": [
    "NewsDataFrame=pd.DataFrame({'Headings':Heading,'Date':Date,'Link':Link})"
   ]
  },
  {
   "cell_type": "code",
   "execution_count": 23,
   "id": "c2758f22",
   "metadata": {},
   "outputs": [
    {
     "data": {
      "text/html": [
       "<div>\n",
       "<style scoped>\n",
       "    .dataframe tbody tr th:only-of-type {\n",
       "        vertical-align: middle;\n",
       "    }\n",
       "\n",
       "    .dataframe tbody tr th {\n",
       "        vertical-align: top;\n",
       "    }\n",
       "\n",
       "    .dataframe thead th {\n",
       "        text-align: right;\n",
       "    }\n",
       "</style>\n",
       "<table border=\"1\" class=\"dataframe\">\n",
       "  <thead>\n",
       "    <tr style=\"text-align: right;\">\n",
       "      <th></th>\n",
       "      <th>Headings</th>\n",
       "      <th>Date</th>\n",
       "      <th>Link</th>\n",
       "    </tr>\n",
       "  </thead>\n",
       "  <tbody>\n",
       "    <tr>\n",
       "      <th>0</th>\n",
       "      <td>'This is for Gaza': Middle East conflict defin...</td>\n",
       "      <td>[2024/03/01]</td>\n",
       "      <td>[https://www.cnbc.com/2024/03/01/this-is-for-g...</td>\n",
       "    </tr>\n",
       "    <tr>\n",
       "      <th>1</th>\n",
       "      <td>Citi names 'Super 7' global stocks similar to ...</td>\n",
       "      <td>[]</td>\n",
       "      <td>[]</td>\n",
       "    </tr>\n",
       "    <tr>\n",
       "      <th>2</th>\n",
       "      <td>China calls on foreign businesses to share the...</td>\n",
       "      <td>[2024/03/01]</td>\n",
       "      <td>[https://www.cnbc.com/2024/03/01/china-calls-o...</td>\n",
       "    </tr>\n",
       "    <tr>\n",
       "      <th>3</th>\n",
       "      <td>^^^</td>\n",
       "      <td>[]</td>\n",
       "      <td>[]</td>\n",
       "    </tr>\n",
       "    <tr>\n",
       "      <th>4</th>\n",
       "      <td>Stock futures edge higher after the market wra...</td>\n",
       "      <td>[2024/02/29]</td>\n",
       "      <td>[https://www.cnbc.com/2024/02/29/stock-market-...</td>\n",
       "    </tr>\n",
       "    <tr>\n",
       "      <th>5</th>\n",
       "      <td>Britain to lead 2024 European real estate boom...</td>\n",
       "      <td>[2024/03/01]</td>\n",
       "      <td>[https://www.cnbc.com/2024/03/01/uk-europe-rea...</td>\n",
       "    </tr>\n",
       "    <tr>\n",
       "      <th>6</th>\n",
       "      <td>AI is driving a market bubble that's unlikely ...</td>\n",
       "      <td>[2024/03/01]</td>\n",
       "      <td>[https://www.cnbc.com/2024/03/01/veteran-advis...</td>\n",
       "    </tr>\n",
       "    <tr>\n",
       "      <th>7</th>\n",
       "      <td>Forget cash — it's time to move into fixed inc...</td>\n",
       "      <td>[]</td>\n",
       "      <td>[]</td>\n",
       "    </tr>\n",
       "    <tr>\n",
       "      <th>8</th>\n",
       "      <td>How much wealth do you need to join the 1% clu...</td>\n",
       "      <td>[2024/02/29]</td>\n",
       "      <td>[https://www.cnbc.com/2024/02/29/how-much-weal...</td>\n",
       "    </tr>\n",
       "    <tr>\n",
       "      <th>9</th>\n",
       "      <td>Japan's Nikkei 225 closes shy of 40,000 record...</td>\n",
       "      <td>[2024/03/01]</td>\n",
       "      <td>[https://www.cnbc.com/2024/03/01/asia-markets-...</td>\n",
       "    </tr>\n",
       "    <tr>\n",
       "      <th>10</th>\n",
       "      <td>India 'easily' the fastest growing economy, IM...</td>\n",
       "      <td>[2024/03/01]</td>\n",
       "      <td>[https://www.cnbc.com/2024/03/01/india-easily-...</td>\n",
       "    </tr>\n",
       "    <tr>\n",
       "      <th>11</th>\n",
       "      <td>Deutsche Bank to file liquidation suit against...</td>\n",
       "      <td>[2024/03/01]</td>\n",
       "      <td>[https://www.cnbc.com/2024/03/01/deutsche-bank...</td>\n",
       "    </tr>\n",
       "    <tr>\n",
       "      <th>12</th>\n",
       "      <td>Here's what tech giants are betting on — from ...</td>\n",
       "      <td>[2024/03/01]</td>\n",
       "      <td>[https://www.cnbc.com/2024/03/01/latest-tech-g...</td>\n",
       "    </tr>\n",
       "    <tr>\n",
       "      <th>13</th>\n",
       "      <td>India approves chip plants with over $15 billi...</td>\n",
       "      <td>[2024/03/01]</td>\n",
       "      <td>[https://www.cnbc.com/2024/03/01/india-boosts-...</td>\n",
       "    </tr>\n",
       "    <tr>\n",
       "      <th>14</th>\n",
       "      <td>Japan's factory activity contracts most in ove...</td>\n",
       "      <td>[2024/03/01]</td>\n",
       "      <td>[https://www.cnbc.com/2024/03/01/japans-factor...</td>\n",
       "    </tr>\n",
       "    <tr>\n",
       "      <th>15</th>\n",
       "      <td>Evergrande chairman's second seized Hong Kong ...</td>\n",
       "      <td>[2024/03/01]</td>\n",
       "      <td>[https://www.cnbc.com/2024/03/01/evergrande-ch...</td>\n",
       "    </tr>\n",
       "    <tr>\n",
       "      <th>16</th>\n",
       "      <td>Microsoft introduces Copilot AI chatbot for fi...</td>\n",
       "      <td>[2024/02/29]</td>\n",
       "      <td>[https://www.cnbc.com/2024/02/29/microsoft-int...</td>\n",
       "    </tr>\n",
       "    <tr>\n",
       "      <th>17</th>\n",
       "      <td>Facebook is getting rid of the News tab in the...</td>\n",
       "      <td>[2024/03/01]</td>\n",
       "      <td>[https://www.cnbc.com/2024/03/01/facebook-is-g...</td>\n",
       "    </tr>\n",
       "    <tr>\n",
       "      <th>18</th>\n",
       "      <td>Putin warns of nuclear war if NATO sends troop...</td>\n",
       "      <td>[2024/02/29]</td>\n",
       "      <td>[https://www.cnbc.com/2024/02/29/putins-state-...</td>\n",
       "    </tr>\n",
       "    <tr>\n",
       "      <th>19</th>\n",
       "      <td>India’s Byju’s lost more than $20 billion in v...</td>\n",
       "      <td>[2024/03/01]</td>\n",
       "      <td>[https://www.cnbc.com/2024/03/01/the-rise-and-...</td>\n",
       "    </tr>\n",
       "  </tbody>\n",
       "</table>\n",
       "</div>"
      ],
      "text/plain": [
       "                                             Headings          Date  \\\n",
       "0   'This is for Gaza': Middle East conflict defin...  [2024/03/01]   \n",
       "1   Citi names 'Super 7' global stocks similar to ...            []   \n",
       "2   China calls on foreign businesses to share the...  [2024/03/01]   \n",
       "3                                                 ^^^            []   \n",
       "4   Stock futures edge higher after the market wra...  [2024/02/29]   \n",
       "5   Britain to lead 2024 European real estate boom...  [2024/03/01]   \n",
       "6   AI is driving a market bubble that's unlikely ...  [2024/03/01]   \n",
       "7   Forget cash — it's time to move into fixed inc...            []   \n",
       "8   How much wealth do you need to join the 1% clu...  [2024/02/29]   \n",
       "9   Japan's Nikkei 225 closes shy of 40,000 record...  [2024/03/01]   \n",
       "10  India 'easily' the fastest growing economy, IM...  [2024/03/01]   \n",
       "11  Deutsche Bank to file liquidation suit against...  [2024/03/01]   \n",
       "12  Here's what tech giants are betting on — from ...  [2024/03/01]   \n",
       "13  India approves chip plants with over $15 billi...  [2024/03/01]   \n",
       "14  Japan's factory activity contracts most in ove...  [2024/03/01]   \n",
       "15  Evergrande chairman's second seized Hong Kong ...  [2024/03/01]   \n",
       "16  Microsoft introduces Copilot AI chatbot for fi...  [2024/02/29]   \n",
       "17  Facebook is getting rid of the News tab in the...  [2024/03/01]   \n",
       "18  Putin warns of nuclear war if NATO sends troop...  [2024/02/29]   \n",
       "19  India’s Byju’s lost more than $20 billion in v...  [2024/03/01]   \n",
       "\n",
       "                                                 Link  \n",
       "0   [https://www.cnbc.com/2024/03/01/this-is-for-g...  \n",
       "1                                                  []  \n",
       "2   [https://www.cnbc.com/2024/03/01/china-calls-o...  \n",
       "3                                                  []  \n",
       "4   [https://www.cnbc.com/2024/02/29/stock-market-...  \n",
       "5   [https://www.cnbc.com/2024/03/01/uk-europe-rea...  \n",
       "6   [https://www.cnbc.com/2024/03/01/veteran-advis...  \n",
       "7                                                  []  \n",
       "8   [https://www.cnbc.com/2024/02/29/how-much-weal...  \n",
       "9   [https://www.cnbc.com/2024/03/01/asia-markets-...  \n",
       "10  [https://www.cnbc.com/2024/03/01/india-easily-...  \n",
       "11  [https://www.cnbc.com/2024/03/01/deutsche-bank...  \n",
       "12  [https://www.cnbc.com/2024/03/01/latest-tech-g...  \n",
       "13  [https://www.cnbc.com/2024/03/01/india-boosts-...  \n",
       "14  [https://www.cnbc.com/2024/03/01/japans-factor...  \n",
       "15  [https://www.cnbc.com/2024/03/01/evergrande-ch...  \n",
       "16  [https://www.cnbc.com/2024/02/29/microsoft-int...  \n",
       "17  [https://www.cnbc.com/2024/03/01/facebook-is-g...  \n",
       "18  [https://www.cnbc.com/2024/02/29/putins-state-...  \n",
       "19  [https://www.cnbc.com/2024/03/01/the-rise-and-...  "
      ]
     },
     "execution_count": 23,
     "metadata": {},
     "output_type": "execute_result"
    }
   ],
   "source": [
    "NewsDataFrame"
   ]
  },
  {
   "cell_type": "markdown",
   "id": "16af1634",
   "metadata": {},
   "source": [
    "QNO ---> 4 Q2-Please visit https://www.keaipublishing.com/en/journals/artificial-intelligence-in-agriculture/most-downloaded-articles/ and scrap-\n",
    "\n",
    "a) Paper title\n",
    "\n",
    "b) date\n",
    "\n",
    "c) Author"
   ]
  },
  {
   "cell_type": "code",
   "execution_count": 24,
   "id": "73d1c261",
   "metadata": {},
   "outputs": [],
   "source": [
    "URLL=' https://www.keaipublishing.com/en/journals/artificial-intelligence-in-agriculture/most-downloaded-articles/'\n",
    "request=requests.get(URLL)\n",
    "#request"
   ]
  },
  {
   "cell_type": "code",
   "execution_count": 25,
   "id": "3dcde28e",
   "metadata": {},
   "outputs": [],
   "source": [
    "sooup=BeautifulSoup(request.content,'lxml')\n",
    "#sooup.prettify"
   ]
  },
  {
   "cell_type": "code",
   "execution_count": 26,
   "id": "3c405b7f",
   "metadata": {},
   "outputs": [],
   "source": [
    "dtaa=sooup.find_all('div',class_='article-listing')\n",
    "#dtaa"
   ]
  },
  {
   "cell_type": "code",
   "execution_count": 27,
   "id": "2b894c4d",
   "metadata": {},
   "outputs": [],
   "source": [
    "Paper_title=[]\n",
    "Date=[]\n",
    "Author=[]"
   ]
  },
  {
   "cell_type": "code",
   "execution_count": 28,
   "id": "5fdd5aab",
   "metadata": {},
   "outputs": [],
   "source": [
    "for i in dtaa:\n",
    "    name=i.find('h2',class_='h5 article-title').text.strip()\n",
    "    Paper_title.append(name)\n",
    "    \n",
    "    time=i.find('p',class_='article-date').text\n",
    "    Date.append(time)\n",
    "    \n",
    "    writer=i.find('p',class_='article-authors').text\n",
    "    Author.append(writer)"
   ]
  },
  {
   "cell_type": "code",
   "execution_count": 29,
   "id": "a171083d",
   "metadata": {},
   "outputs": [],
   "source": [
    "JoyurnalDF=pd.DataFrame({'Paper_Title':Paper_title,'Date':Date,'Authors':Author})"
   ]
  },
  {
   "cell_type": "code",
   "execution_count": 30,
   "id": "4ca0fd9b",
   "metadata": {},
   "outputs": [
    {
     "data": {
      "text/html": [
       "<div>\n",
       "<style scoped>\n",
       "    .dataframe tbody tr th:only-of-type {\n",
       "        vertical-align: middle;\n",
       "    }\n",
       "\n",
       "    .dataframe tbody tr th {\n",
       "        vertical-align: top;\n",
       "    }\n",
       "\n",
       "    .dataframe thead th {\n",
       "        text-align: right;\n",
       "    }\n",
       "</style>\n",
       "<table border=\"1\" class=\"dataframe\">\n",
       "  <thead>\n",
       "    <tr style=\"text-align: right;\">\n",
       "      <th></th>\n",
       "      <th>Paper_Title</th>\n",
       "      <th>Date</th>\n",
       "      <th>Authors</th>\n",
       "    </tr>\n",
       "  </thead>\n",
       "  <tbody>\n",
       "    <tr>\n",
       "      <th>0</th>\n",
       "      <td>Implementation of artificial intelligence in a...</td>\n",
       "      <td>2020</td>\n",
       "      <td>Tanha Talaviya |  Dhara Shah |  Nivedita Pate...</td>\n",
       "    </tr>\n",
       "    <tr>\n",
       "      <th>1</th>\n",
       "      <td>Review of agricultural IoT technology</td>\n",
       "      <td>2022</td>\n",
       "      <td>Jinyuan Xu |  Baoxing Gu |  Guangzhao Tian</td>\n",
       "    </tr>\n",
       "    <tr>\n",
       "      <th>2</th>\n",
       "      <td>A comprehensive review on automation in agricu...</td>\n",
       "      <td>June 2019</td>\n",
       "      <td>Kirtan Jha |  Aalap Doshi |  Poojan Patel |  ...</td>\n",
       "    </tr>\n",
       "    <tr>\n",
       "      <th>3</th>\n",
       "      <td>Automation and digitization of agriculture usi...</td>\n",
       "      <td>2021</td>\n",
       "      <td>A. Subeesh |  C.R. Mehta</td>\n",
       "    </tr>\n",
       "    <tr>\n",
       "      <th>4</th>\n",
       "      <td>Applications of electronic nose (e-nose) and e...</td>\n",
       "      <td>2020</td>\n",
       "      <td>Juzhong Tan |  Jie Xu</td>\n",
       "    </tr>\n",
       "    <tr>\n",
       "      <th>5</th>\n",
       "      <td>Fruit ripeness classification: A survey</td>\n",
       "      <td>March 2023</td>\n",
       "      <td>Matteo Rizzo |  Matteo Marcuzzo |  Alessandro...</td>\n",
       "    </tr>\n",
       "    <tr>\n",
       "      <th>6</th>\n",
       "      <td>A review of imaging techniques for plant disea...</td>\n",
       "      <td>2020</td>\n",
       "      <td>Vijai Singh |  Namita Sharma |  Shikha Singh</td>\n",
       "    </tr>\n",
       "    <tr>\n",
       "      <th>7</th>\n",
       "      <td>Deep learning based computer vision approaches...</td>\n",
       "      <td>2022</td>\n",
       "      <td>V.G. Dhanya |  A. Subeesh |  N.L. Kushwaha | ...</td>\n",
       "    </tr>\n",
       "    <tr>\n",
       "      <th>8</th>\n",
       "      <td>Comparison of CNN-based deep learning architec...</td>\n",
       "      <td>September 2023</td>\n",
       "      <td>Md Taimur Ahad |  Yan Li |  Bo Song |  Touhid...</td>\n",
       "    </tr>\n",
       "    <tr>\n",
       "      <th>9</th>\n",
       "      <td>Transfer Learning for Multi-Crop Leaf Disease ...</td>\n",
       "      <td>2022</td>\n",
       "      <td>Ananda S. Paymode |  Vandana B. Malode</td>\n",
       "    </tr>\n",
       "    <tr>\n",
       "      <th>10</th>\n",
       "      <td>Plant disease detection using hybrid model bas...</td>\n",
       "      <td>2021</td>\n",
       "      <td>Punam Bedi |  Pushkar Gole</td>\n",
       "    </tr>\n",
       "    <tr>\n",
       "      <th>11</th>\n",
       "      <td>Machine learning in nutrient management: A review</td>\n",
       "      <td>September 2023</td>\n",
       "      <td>Oumnia Ennaji |  Leonardus Vergütz |  Achraf ...</td>\n",
       "    </tr>\n",
       "    <tr>\n",
       "      <th>12</th>\n",
       "      <td>DeepRice: A deep learning and deep feature bas...</td>\n",
       "      <td>March 2024</td>\n",
       "      <td>P. Isaac Ritharson |  Kumudha Raimond |  X. A...</td>\n",
       "    </tr>\n",
       "    <tr>\n",
       "      <th>13</th>\n",
       "      <td>How artificial intelligence uses to achieve th...</td>\n",
       "      <td>June 2023</td>\n",
       "      <td>Vilani Sachithra |  L.D.C.S. Subhashini</td>\n",
       "    </tr>\n",
       "    <tr>\n",
       "      <th>14</th>\n",
       "      <td>Machine learning for weed–plant discrimination...</td>\n",
       "      <td>December 2023</td>\n",
       "      <td>Filbert H. Juwono |  W.K. Wong |  Seema Verma...</td>\n",
       "    </tr>\n",
       "    <tr>\n",
       "      <th>15</th>\n",
       "      <td>Examining the interplay between artificial int...</td>\n",
       "      <td>2022</td>\n",
       "      <td>Abderahman Rejeb |  Karim Rejeb |  Suhaiza Za...</td>\n",
       "    </tr>\n",
       "    <tr>\n",
       "      <th>16</th>\n",
       "      <td>Deep convolutional neural network models for w...</td>\n",
       "      <td>2022</td>\n",
       "      <td>A. Subeesh |  S. Bhole |  K. Singh |  N.S. Ch...</td>\n",
       "    </tr>\n",
       "    <tr>\n",
       "      <th>17</th>\n",
       "      <td>A systematic review of machine learning techni...</td>\n",
       "      <td>2022</td>\n",
       "      <td>Md Ekramul Hossain |  Muhammad Ashad Kabir | ...</td>\n",
       "    </tr>\n",
       "    <tr>\n",
       "      <th>18</th>\n",
       "      <td>A review on computer vision systems in monitor...</td>\n",
       "      <td>2020</td>\n",
       "      <td>Cedric Okinda |  Innocent Nyalala |  Tchalla ...</td>\n",
       "    </tr>\n",
       "    <tr>\n",
       "      <th>19</th>\n",
       "      <td>Crop diagnostic system: A robust disease detec...</td>\n",
       "      <td>December 2023</td>\n",
       "      <td>R. Abbasi |  P. Martinez |  R. Ahmad</td>\n",
       "    </tr>\n",
       "    <tr>\n",
       "      <th>20</th>\n",
       "      <td>Artificial cognition for applications in smart...</td>\n",
       "      <td>2020</td>\n",
       "      <td>Misbah Pathan |  Nivedita Patel |  Hiteshri Y...</td>\n",
       "    </tr>\n",
       "    <tr>\n",
       "      <th>21</th>\n",
       "      <td>Explainable artificial intelligence and interp...</td>\n",
       "      <td>2022</td>\n",
       "      <td>Masahiro Ryo</td>\n",
       "    </tr>\n",
       "    <tr>\n",
       "      <th>22</th>\n",
       "      <td>Blockchain: A new safeguard for agri-foods</td>\n",
       "      <td>2020</td>\n",
       "      <td>Jie Xu |  Shuang Guo |  David Xie |  Yaxuan Yan</td>\n",
       "    </tr>\n",
       "    <tr>\n",
       "      <th>23</th>\n",
       "      <td>Study on body temperature detection of pig bas...</td>\n",
       "      <td>March 2019</td>\n",
       "      <td>Zaiqin Zhang |  Hang Zhang |  Tonghai Liu</td>\n",
       "    </tr>\n",
       "    <tr>\n",
       "      <th>24</th>\n",
       "      <td>Vision Intelligence for Smart Sheep Farming: A...</td>\n",
       "      <td>March 2024</td>\n",
       "      <td>Galib Muhammad Shahriar Himel |  Md. Masudul ...</td>\n",
       "    </tr>\n",
       "  </tbody>\n",
       "</table>\n",
       "</div>"
      ],
      "text/plain": [
       "                                          Paper_Title            Date  \\\n",
       "0   Implementation of artificial intelligence in a...            2020   \n",
       "1               Review of agricultural IoT technology            2022   \n",
       "2   A comprehensive review on automation in agricu...       June 2019   \n",
       "3   Automation and digitization of agriculture usi...            2021   \n",
       "4   Applications of electronic nose (e-nose) and e...            2020   \n",
       "5             Fruit ripeness classification: A survey      March 2023   \n",
       "6   A review of imaging techniques for plant disea...            2020   \n",
       "7   Deep learning based computer vision approaches...            2022   \n",
       "8   Comparison of CNN-based deep learning architec...  September 2023   \n",
       "9   Transfer Learning for Multi-Crop Leaf Disease ...            2022   \n",
       "10  Plant disease detection using hybrid model bas...            2021   \n",
       "11  Machine learning in nutrient management: A review  September 2023   \n",
       "12  DeepRice: A deep learning and deep feature bas...      March 2024   \n",
       "13  How artificial intelligence uses to achieve th...       June 2023   \n",
       "14  Machine learning for weed–plant discrimination...   December 2023   \n",
       "15  Examining the interplay between artificial int...            2022   \n",
       "16  Deep convolutional neural network models for w...            2022   \n",
       "17  A systematic review of machine learning techni...            2022   \n",
       "18  A review on computer vision systems in monitor...            2020   \n",
       "19  Crop diagnostic system: A robust disease detec...   December 2023   \n",
       "20  Artificial cognition for applications in smart...            2020   \n",
       "21  Explainable artificial intelligence and interp...            2022   \n",
       "22         Blockchain: A new safeguard for agri-foods            2020   \n",
       "23  Study on body temperature detection of pig bas...      March 2019   \n",
       "24  Vision Intelligence for Smart Sheep Farming: A...      March 2024   \n",
       "\n",
       "                                              Authors  \n",
       "0    Tanha Talaviya |  Dhara Shah |  Nivedita Pate...  \n",
       "1          Jinyuan Xu |  Baoxing Gu |  Guangzhao Tian  \n",
       "2    Kirtan Jha |  Aalap Doshi |  Poojan Patel |  ...  \n",
       "3                            A. Subeesh |  C.R. Mehta  \n",
       "4                               Juzhong Tan |  Jie Xu  \n",
       "5    Matteo Rizzo |  Matteo Marcuzzo |  Alessandro...  \n",
       "6        Vijai Singh |  Namita Sharma |  Shikha Singh  \n",
       "7    V.G. Dhanya |  A. Subeesh |  N.L. Kushwaha | ...  \n",
       "8    Md Taimur Ahad |  Yan Li |  Bo Song |  Touhid...  \n",
       "9              Ananda S. Paymode |  Vandana B. Malode  \n",
       "10                         Punam Bedi |  Pushkar Gole  \n",
       "11   Oumnia Ennaji |  Leonardus Vergütz |  Achraf ...  \n",
       "12   P. Isaac Ritharson |  Kumudha Raimond |  X. A...  \n",
       "13            Vilani Sachithra |  L.D.C.S. Subhashini  \n",
       "14   Filbert H. Juwono |  W.K. Wong |  Seema Verma...  \n",
       "15   Abderahman Rejeb |  Karim Rejeb |  Suhaiza Za...  \n",
       "16   A. Subeesh |  S. Bhole |  K. Singh |  N.S. Ch...  \n",
       "17   Md Ekramul Hossain |  Muhammad Ashad Kabir | ...  \n",
       "18   Cedric Okinda |  Innocent Nyalala |  Tchalla ...  \n",
       "19               R. Abbasi |  P. Martinez |  R. Ahmad  \n",
       "20   Misbah Pathan |  Nivedita Patel |  Hiteshri Y...  \n",
       "21                                       Masahiro Ryo  \n",
       "22    Jie Xu |  Shuang Guo |  David Xie |  Yaxuan Yan  \n",
       "23          Zaiqin Zhang |  Hang Zhang |  Tonghai Liu  \n",
       "24   Galib Muhammad Shahriar Himel |  Md. Masudul ...  "
      ]
     },
     "execution_count": 30,
     "metadata": {},
     "output_type": "execute_result"
    }
   ],
   "source": [
    "JoyurnalDF"
   ]
  },
  {
   "cell_type": "markdown",
   "id": "263f4df6",
   "metadata": {},
   "source": [
    "QNO - 6 --> Write a python program to scrape first 10 product details which include product name , price , Image URL from\n",
    "https://www.bewakoof.com/top-wear-for-women "
   ]
  },
  {
   "cell_type": "code",
   "execution_count": 31,
   "id": "6a9ecc88",
   "metadata": {},
   "outputs": [],
   "source": [
    "import requests\n",
    "from http.cookiejar import CookieJar\n",
    "\n",
    "# Initialize a new CookieJar object\n",
    "cookie_jar = CookieJar()\n",
    "\n",
    "# Create a session object with the CookieJar\n",
    "session = requests.Session()\n",
    "session.cookies = cookie_jar\n",
    "\n",
    "# Visit the website that sets the third-party cookies\n",
    "session.get('https://www.bewakoof.com/top-wear-for-women')\n",
    "\n",
    "# Now the session object will have the third-party cookies\n",
    "# You can proceed with your web scraping process\n",
    "response = session.get('https://www.bewakoof.com/top-wear-for-women')\n",
    "\n",
    "# Process the response as needed"
   ]
  },
  {
   "cell_type": "code",
   "execution_count": 32,
   "id": "387c54de",
   "metadata": {},
   "outputs": [],
   "source": [
    "soup=BeautifulSoup(response.content,'lxml')"
   ]
  },
  {
   "cell_type": "code",
   "execution_count": 33,
   "id": "4e3498d2",
   "metadata": {},
   "outputs": [],
   "source": [
    "data=soup.find_all('a',attrs={'class':'col-sm-4 col-xs-6 px-2'})"
   ]
  },
  {
   "cell_type": "code",
   "execution_count": 34,
   "id": "6dd8c161",
   "metadata": {},
   "outputs": [],
   "source": [
    "Name=[]\n",
    "Selling_Price=[]\n",
    "Actual_Price=[]\n",
    "Image_url=[]"
   ]
  },
  {
   "cell_type": "code",
   "execution_count": 35,
   "id": "4569e544",
   "metadata": {},
   "outputs": [],
   "source": [
    "for i in data:\n",
    "    name=i.h2.text\n",
    "    Name.append(name)\n",
    "    \n",
    "    price=i.find('div',class_='discountedPriceText').text.strip()\n",
    "    Selling_Price.append(price)\n",
    "    \n",
    "    price2=i.find('div',class_='actualPriceText').text.strip()\n",
    "    Actual_Price.append(price2)\n",
    "    \n",
    "    image=i.find('img')\n",
    "    Image_url.append(image['src'])"
   ]
  },
  {
   "cell_type": "code",
   "execution_count": 36,
   "id": "5ddc92ff",
   "metadata": {},
   "outputs": [],
   "source": [
    "Dataframe=pd.DataFrame({'Name_of_Product':Name,\"Discounted_Price\":Selling_Price,\"Actual_Price\":Actual_Price,\"Image_URL\":Image_url})"
   ]
  },
  {
   "cell_type": "code",
   "execution_count": 37,
   "id": "575f2791",
   "metadata": {},
   "outputs": [
    {
     "data": {
      "text/html": [
       "<div>\n",
       "<style scoped>\n",
       "    .dataframe tbody tr th:only-of-type {\n",
       "        vertical-align: middle;\n",
       "    }\n",
       "\n",
       "    .dataframe tbody tr th {\n",
       "        vertical-align: top;\n",
       "    }\n",
       "\n",
       "    .dataframe thead th {\n",
       "        text-align: right;\n",
       "    }\n",
       "</style>\n",
       "<table border=\"1\" class=\"dataframe\">\n",
       "  <thead>\n",
       "    <tr style=\"text-align: right;\">\n",
       "      <th></th>\n",
       "      <th>Name_of_Product</th>\n",
       "      <th>Discounted_Price</th>\n",
       "      <th>Actual_Price</th>\n",
       "      <th>Image_URL</th>\n",
       "    </tr>\n",
       "  </thead>\n",
       "  <tbody>\n",
       "    <tr>\n",
       "      <th>0</th>\n",
       "      <td>Women's Blue Round in Bugs Graphic Printed Ove...</td>\n",
       "      <td>₹542</td>\n",
       "      <td>₹1099</td>\n",
       "      <td>https://images.bewakoof.com/t640/women-s-blue-...</td>\n",
       "    </tr>\n",
       "    <tr>\n",
       "      <th>1</th>\n",
       "      <td>Women's Black Cat O'Clock Graphic Printed Over...</td>\n",
       "      <td>₹449</td>\n",
       "      <td>₹1199</td>\n",
       "      <td>https://images.bewakoof.com/t640/women-s-black...</td>\n",
       "    </tr>\n",
       "    <tr>\n",
       "      <th>2</th>\n",
       "      <td>Women's Black Illusion Graphic Printed Oversiz...</td>\n",
       "      <td>₹449</td>\n",
       "      <td>₹1199</td>\n",
       "      <td>https://images.bewakoof.com/t640/women-s-black...</td>\n",
       "    </tr>\n",
       "    <tr>\n",
       "      <th>3</th>\n",
       "      <td>Women's Red Lovestruck Graphic Printed Oversiz...</td>\n",
       "      <td>₹499</td>\n",
       "      <td>₹1299</td>\n",
       "      <td>https://images.bewakoof.com/t640/women-s-red-l...</td>\n",
       "    </tr>\n",
       "    <tr>\n",
       "      <th>4</th>\n",
       "      <td>Women's Black Sweet Memories Graphic Printed B...</td>\n",
       "      <td>₹549</td>\n",
       "      <td>₹1699</td>\n",
       "      <td>https://images.bewakoof.com/t640/women-s-black...</td>\n",
       "    </tr>\n",
       "    <tr>\n",
       "      <th>5</th>\n",
       "      <td>Women's Black Simba Graphic Printed Boyfriend ...</td>\n",
       "      <td>₹499</td>\n",
       "      <td>₹1299</td>\n",
       "      <td>https://images.bewakoof.com/t640/women-s-black...</td>\n",
       "    </tr>\n",
       "    <tr>\n",
       "      <th>6</th>\n",
       "      <td>Women's White Bloom Wildly Graphic Printed Boy...</td>\n",
       "      <td>₹549</td>\n",
       "      <td>₹1399</td>\n",
       "      <td>https://images.bewakoof.com/t640/women-s-white...</td>\n",
       "    </tr>\n",
       "    <tr>\n",
       "      <th>7</th>\n",
       "      <td>Women's Black Boyfriend T-shirt</td>\n",
       "      <td>₹399</td>\n",
       "      <td>₹999</td>\n",
       "      <td>https://images.bewakoof.com/t640/women-s-black...</td>\n",
       "    </tr>\n",
       "    <tr>\n",
       "      <th>8</th>\n",
       "      <td>Women's Black Lost In The Mountains Boyfriend ...</td>\n",
       "      <td>₹599</td>\n",
       "      <td>₹1099</td>\n",
       "      <td>https://images.bewakoof.com/t640/women-s-black...</td>\n",
       "    </tr>\n",
       "    <tr>\n",
       "      <th>9</th>\n",
       "      <td>Women's Red Boyfriend T-shirt</td>\n",
       "      <td>₹399</td>\n",
       "      <td>₹999</td>\n",
       "      <td>https://images.bewakoof.com/t640/women-s-red-b...</td>\n",
       "    </tr>\n",
       "  </tbody>\n",
       "</table>\n",
       "</div>"
      ],
      "text/plain": [
       "                                     Name_of_Product Discounted_Price  \\\n",
       "0  Women's Blue Round in Bugs Graphic Printed Ove...             ₹542   \n",
       "1  Women's Black Cat O'Clock Graphic Printed Over...             ₹449   \n",
       "2  Women's Black Illusion Graphic Printed Oversiz...             ₹449   \n",
       "3  Women's Red Lovestruck Graphic Printed Oversiz...             ₹499   \n",
       "4  Women's Black Sweet Memories Graphic Printed B...             ₹549   \n",
       "5  Women's Black Simba Graphic Printed Boyfriend ...             ₹499   \n",
       "6  Women's White Bloom Wildly Graphic Printed Boy...             ₹549   \n",
       "7                    Women's Black Boyfriend T-shirt             ₹399   \n",
       "8  Women's Black Lost In The Mountains Boyfriend ...             ₹599   \n",
       "9                      Women's Red Boyfriend T-shirt             ₹399   \n",
       "\n",
       "  Actual_Price                                          Image_URL  \n",
       "0        ₹1099  https://images.bewakoof.com/t640/women-s-blue-...  \n",
       "1        ₹1199  https://images.bewakoof.com/t640/women-s-black...  \n",
       "2        ₹1199  https://images.bewakoof.com/t640/women-s-black...  \n",
       "3        ₹1299  https://images.bewakoof.com/t640/women-s-red-l...  \n",
       "4        ₹1699  https://images.bewakoof.com/t640/women-s-black...  \n",
       "5        ₹1299  https://images.bewakoof.com/t640/women-s-black...  \n",
       "6        ₹1399  https://images.bewakoof.com/t640/women-s-white...  \n",
       "7         ₹999  https://images.bewakoof.com/t640/women-s-black...  \n",
       "8        ₹1099  https://images.bewakoof.com/t640/women-s-black...  \n",
       "9         ₹999  https://images.bewakoof.com/t640/women-s-red-b...  "
      ]
     },
     "execution_count": 37,
     "metadata": {},
     "output_type": "execute_result"
    }
   ],
   "source": [
    "Dataframe"
   ]
  },
  {
   "cell_type": "markdown",
   "id": "2558636e",
   "metadata": {},
   "source": [
    "QNO 5 --> Write a python program to scrape details of all the posts from https://www.patreon.com/coreyms .Scrape the\n",
    "heading, date, content and the likes for the video from the link for the youtube video from the post."
   ]
  },
  {
   "cell_type": "code",
   "execution_count": 38,
   "id": "728e9a27",
   "metadata": {},
   "outputs": [
    {
     "name": "stdout",
     "output_type": "stream",
     "text": [
      "<Response [200]>\n"
     ]
    }
   ],
   "source": [
    "resp = requests.get('https://www.patreon.com/coreyms')\n",
    "print(resp)"
   ]
  },
  {
   "cell_type": "code",
   "execution_count": 39,
   "id": "4fe88824",
   "metadata": {},
   "outputs": [],
   "source": [
    "sop=BeautifulSoup(resp.content)\n",
    "#sop.prettify"
   ]
  },
  {
   "cell_type": "code",
   "execution_count": 40,
   "id": "0168b55c",
   "metadata": {},
   "outputs": [],
   "source": [
    "data=sop.find('span',attrs={'class':\"sc-1hmaiaw-0\"})\n",
    "#data"
   ]
  },
  {
   "cell_type": "code",
   "execution_count": 41,
   "id": "e6232e70",
   "metadata": {},
   "outputs": [
    {
     "ename": "TypeError",
     "evalue": "'NoneType' object is not iterable",
     "output_type": "error",
     "traceback": [
      "\u001b[1;31m---------------------------------------------------------------------------\u001b[0m",
      "\u001b[1;31mTypeError\u001b[0m                                 Traceback (most recent call last)",
      "Cell \u001b[1;32mIn[41], line 1\u001b[0m\n\u001b[1;32m----> 1\u001b[0m \u001b[38;5;28;01mfor\u001b[39;00m i \u001b[38;5;129;01min\u001b[39;00m data:\n\u001b[0;32m      2\u001b[0m     nam\u001b[38;5;241m=\u001b[39mi\u001b[38;5;241m.\u001b[39mfind(\u001b[38;5;124m'\u001b[39m\u001b[38;5;124mdiv\u001b[39m\u001b[38;5;124m'\u001b[39m,class_\u001b[38;5;241m=\u001b[39m\u001b[38;5;124m'\u001b[39m\u001b[38;5;124msc-jvvksu fTaUtt\u001b[39m\u001b[38;5;124m'\u001b[39m)\n",
      "\u001b[1;31mTypeError\u001b[0m: 'NoneType' object is not iterable"
     ]
    }
   ],
   "source": [
    "for i in data:\n",
    "    nam=i.find('div',class_='sc-jvvksu fTaUtt')"
   ]
  },
  {
   "cell_type": "markdown",
   "id": "3a4c62c1",
   "metadata": {},
   "source": [
    "QNO 5 -->Write a python program to scrape house details from mentioned URL. It should include house title, location,\n",
    "area, EMI and price from https://www.nobroker.in/ .Enter three localities which are Indira Nagar, Jayanagar,\n",
    "Rajaji Nagar"
   ]
  },
  {
   "cell_type": "code",
   "execution_count": 45,
   "id": "c3027452",
   "metadata": {},
   "outputs": [],
   "source": [
    "URLR='https://www.nobroker.in/property/rent/bangalore/Indiranagar?searchParam=W3sibGF0IjoxMi45NzgzNjkyLCJsb24iOjc3LjY0MDgzNTYsInBsYWNlSWQiOiJDaElKa1FOM0dLUVdyanNSTmhCUUpyaEdEN1UiLCJwbGFjZU5hbWUiOiJJbmRpcmFuYWdhciJ9XQ==&radius=2.0&sharedAccomodation=0&city=bangalore&locality=Indiranagar'"
   ]
  },
  {
   "cell_type": "code",
   "execution_count": 46,
   "id": "a26dc2a0",
   "metadata": {},
   "outputs": [],
   "source": [
    "rspp=requests.get(URLR)\n",
    "bsoup=BeautifulSoup(rspp.content,'lxml')\n",
    "#bsoup"
   ]
  },
  {
   "cell_type": "code",
   "execution_count": 47,
   "id": "0aafac75",
   "metadata": {},
   "outputs": [],
   "source": [
    "datla=bsoup.find('div',class_=\"bg-white\")"
   ]
  },
  {
   "cell_type": "code",
   "execution_count": 48,
   "id": "da73289f",
   "metadata": {},
   "outputs": [],
   "source": [
    "for i in datla:\n",
    "    nme=i.find('div',class_='text-16')"
   ]
  },
  {
   "cell_type": "code",
   "execution_count": 49,
   "id": "5c10a6b0",
   "metadata": {},
   "outputs": [],
   "source": []
  }
 ],
 "metadata": {
  "kernelspec": {
   "display_name": "Python 3 (ipykernel)",
   "language": "python",
   "name": "python3"
  },
  "language_info": {
   "codemirror_mode": {
    "name": "ipython",
    "version": 3
   },
   "file_extension": ".py",
   "mimetype": "text/x-python",
   "name": "python",
   "nbconvert_exporter": "python",
   "pygments_lexer": "ipython3",
   "version": "3.11.5"
  }
 },
 "nbformat": 4,
 "nbformat_minor": 5
}
