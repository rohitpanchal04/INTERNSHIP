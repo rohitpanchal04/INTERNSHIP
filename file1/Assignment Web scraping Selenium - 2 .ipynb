{
 "cells": [
  {
   "cell_type": "code",
   "execution_count": 1,
   "id": "7ed5f457",
   "metadata": {},
   "outputs": [
    {
     "name": "stdout",
     "output_type": "stream",
     "text": [
      "Requirement already satisfied: selenium in c:\\users\\admn\\anaconda3\\lib\\site-packages (4.18.1)\n",
      "Requirement already satisfied: urllib3[socks]<3,>=1.26 in c:\\users\\admn\\anaconda3\\lib\\site-packages (from selenium) (1.26.16)\n",
      "Requirement already satisfied: trio~=0.17 in c:\\users\\admn\\anaconda3\\lib\\site-packages (from selenium) (0.24.0)\n",
      "Requirement already satisfied: trio-websocket~=0.9 in c:\\users\\admn\\anaconda3\\lib\\site-packages (from selenium) (0.11.1)\n",
      "Requirement already satisfied: certifi>=2021.10.8 in c:\\users\\admn\\anaconda3\\lib\\site-packages (from selenium) (2023.7.22)\n",
      "Requirement already satisfied: typing_extensions>=4.9.0 in c:\\users\\admn\\anaconda3\\lib\\site-packages (from selenium) (4.10.0)\n",
      "Requirement already satisfied: attrs>=20.1.0 in c:\\users\\admn\\anaconda3\\lib\\site-packages (from trio~=0.17->selenium) (22.1.0)\n",
      "Requirement already satisfied: sortedcontainers in c:\\users\\admn\\anaconda3\\lib\\site-packages (from trio~=0.17->selenium) (2.4.0)\n",
      "Requirement already satisfied: idna in c:\\users\\admn\\anaconda3\\lib\\site-packages (from trio~=0.17->selenium) (3.4)\n",
      "Requirement already satisfied: outcome in c:\\users\\admn\\anaconda3\\lib\\site-packages (from trio~=0.17->selenium) (1.3.0.post0)\n",
      "Requirement already satisfied: sniffio>=1.3.0 in c:\\users\\admn\\anaconda3\\lib\\site-packages (from trio~=0.17->selenium) (1.3.1)\n",
      "Requirement already satisfied: cffi>=1.14 in c:\\users\\admn\\anaconda3\\lib\\site-packages (from trio~=0.17->selenium) (1.15.1)\n",
      "Requirement already satisfied: wsproto>=0.14 in c:\\users\\admn\\anaconda3\\lib\\site-packages (from trio-websocket~=0.9->selenium) (1.2.0)\n",
      "Requirement already satisfied: PySocks!=1.5.7,<2.0,>=1.5.6 in c:\\users\\admn\\anaconda3\\lib\\site-packages (from urllib3[socks]<3,>=1.26->selenium) (1.7.1)\n",
      "Requirement already satisfied: pycparser in c:\\users\\admn\\anaconda3\\lib\\site-packages (from cffi>=1.14->trio~=0.17->selenium) (2.21)\n",
      "Requirement already satisfied: h11<1,>=0.9.0 in c:\\users\\admn\\anaconda3\\lib\\site-packages (from wsproto>=0.14->trio-websocket~=0.9->selenium) (0.14.0)\n"
     ]
    }
   ],
   "source": [
    "!pip install selenium"
   ]
  },
  {
   "cell_type": "code",
   "execution_count": 2,
   "id": "fa2d2517",
   "metadata": {},
   "outputs": [],
   "source": [
    "import selenium\n",
    "import pandas as pd\n",
    "from selenium import webdriver\n",
    "import warnings\n",
    "warnings.filterwarnings('ignore')\n",
    "from selenium.webdriver.common.by import By\n",
    "import time"
   ]
  },
  {
   "cell_type": "markdown",
   "id": "642acf75",
   "metadata": {},
   "source": [
    "Q1: Write a python program to scrape data for “Data Analyst” Job position in “Bangalore” location.\n",
    "You have to scrape the job-title, job-location, company_name, experience_required. You have to\n",
    "scrape first 10 jobs data. 'https://www.shine.com/'"
   ]
  },
  {
   "cell_type": "code",
   "execution_count": 16,
   "id": "68b220de",
   "metadata": {},
   "outputs": [],
   "source": [
    "driver=webdriver.Chrome()"
   ]
  },
  {
   "cell_type": "code",
   "execution_count": 17,
   "id": "f0c49734",
   "metadata": {},
   "outputs": [],
   "source": [
    "#Opening the Shine pae on automated Chrome Browser\n",
    "driver.get('https://www.shine.com/')"
   ]
  },
  {
   "cell_type": "code",
   "execution_count": 18,
   "id": "4750e6f6",
   "metadata": {},
   "outputs": [],
   "source": [
    "designation=driver.find_element(By.CLASS_NAME,\"form-control  \")\n",
    "designation.send_keys(\"Data Analyst\")"
   ]
  },
  {
   "cell_type": "code",
   "execution_count": 19,
   "id": "a510b5cf",
   "metadata": {},
   "outputs": [],
   "source": [
    "location=driver.find_element(By.XPATH,\"/html/body/div/div[4]/div/div[2]/div[2]/div/form/div/div[1]/ul/li[2]/div/input\")\n",
    "location.send_keys(\"Bangalore\")"
   ]
  },
  {
   "cell_type": "code",
   "execution_count": 20,
   "id": "d5437b38",
   "metadata": {},
   "outputs": [],
   "source": [
    "search=driver.find_element(By.XPATH,\"/html/body/div/div[4]/div/div[2]/div[2]/div/form/div/div[2]/div/button\")\n",
    "search.click()"
   ]
  },
  {
   "cell_type": "code",
   "execution_count": 29,
   "id": "0ec39b4f",
   "metadata": {},
   "outputs": [],
   "source": [
    "job_title=[]\n",
    "job_location=[]\n",
    "company_name=[]\n",
    "experience_required=[]"
   ]
  },
  {
   "cell_type": "code",
   "execution_count": 30,
   "id": "92b56e59",
   "metadata": {},
   "outputs": [],
   "source": [
    "title_tag=driver.find_elements(By.XPATH,'//div[@class=\"parentClass position-relative\"]/div/div/div/h2/a')\n",
    "for i in title_tag:\n",
    "    title=i.text\n",
    "    job_title.append(title)\n",
    "\n",
    "location_tag=driver.find_elements(By.XPATH,'//div[@class=\" jobCard_jobCard_lists_item__YxRkV jobCard_locationIcon__zrWt2\"]')\n",
    "for i in location_tag:\n",
    "    location=i.text\n",
    "    job_location.append(location)\n",
    "\n",
    "names=driver.find_elements(By.XPATH,'//div[@class=\"jobCard_jobCard_cName__mYnow\"]/span')\n",
    "for i in names:\n",
    "    name=i.text\n",
    "    company_name.append(name)\n",
    "    \n",
    "experience=driver.find_elements(By.XPATH,'//div[@class=\" jobCard_jobCard_lists_item__YxRkV jobCard_jobIcon__3FB1t\"]')\n",
    "for i in experience:\n",
    "    req=i.text\n",
    "    experience_required.append(req)"
   ]
  },
  {
   "cell_type": "code",
   "execution_count": 32,
   "id": "c0249cc2",
   "metadata": {},
   "outputs": [],
   "source": [
    "df=pd.DataFrame({\"Job Title\":job_title,\"Job Location\":job_location,\"Company Name\":company_name,\"Experience Required\":experience_required})"
   ]
  },
  {
   "cell_type": "code",
   "execution_count": 33,
   "id": "3f6041e5",
   "metadata": {},
   "outputs": [
    {
     "data": {
      "text/html": [
       "<div>\n",
       "<style scoped>\n",
       "    .dataframe tbody tr th:only-of-type {\n",
       "        vertical-align: middle;\n",
       "    }\n",
       "\n",
       "    .dataframe tbody tr th {\n",
       "        vertical-align: top;\n",
       "    }\n",
       "\n",
       "    .dataframe thead th {\n",
       "        text-align: right;\n",
       "    }\n",
       "</style>\n",
       "<table border=\"1\" class=\"dataframe\">\n",
       "  <thead>\n",
       "    <tr style=\"text-align: right;\">\n",
       "      <th></th>\n",
       "      <th>Job Title</th>\n",
       "      <th>Job Location</th>\n",
       "      <th>Company Name</th>\n",
       "      <th>Experience Required</th>\n",
       "    </tr>\n",
       "  </thead>\n",
       "  <tbody>\n",
       "    <tr>\n",
       "      <th>0</th>\n",
       "      <td>Sr.DataAnalyst/Analyst Analytics</td>\n",
       "      <td>Other Karnataka</td>\n",
       "      <td>simplilearn</td>\n",
       "      <td>1 to 4 Yrs</td>\n",
       "    </tr>\n",
       "    <tr>\n",
       "      <th>1</th>\n",
       "      <td>People Analyst</td>\n",
       "      <td>Hyderabad\\n+1</td>\n",
       "      <td>highradius</td>\n",
       "      <td>2 to 3 Yrs</td>\n",
       "    </tr>\n",
       "    <tr>\n",
       "      <th>2</th>\n",
       "      <td>Business Analyst</td>\n",
       "      <td>All India</td>\n",
       "      <td>skill hire</td>\n",
       "      <td>0 to 1 Yr</td>\n",
       "    </tr>\n",
       "    <tr>\n",
       "      <th>3</th>\n",
       "      <td>Data Scientist</td>\n",
       "      <td>All India</td>\n",
       "      <td>adrsta</td>\n",
       "      <td>2 to 6 Yrs</td>\n",
       "    </tr>\n",
       "  </tbody>\n",
       "</table>\n",
       "</div>"
      ],
      "text/plain": [
       "                          Job Title     Job Location Company Name  \\\n",
       "0  Sr.DataAnalyst/Analyst Analytics  Other Karnataka  simplilearn   \n",
       "1                    People Analyst    Hyderabad\\n+1   highradius   \n",
       "2                  Business Analyst        All India   skill hire   \n",
       "3                    Data Scientist        All India       adrsta   \n",
       "\n",
       "  Experience Required  \n",
       "0          1 to 4 Yrs  \n",
       "1          2 to 3 Yrs  \n",
       "2           0 to 1 Yr  \n",
       "3          2 to 6 Yrs  "
      ]
     },
     "execution_count": 33,
     "metadata": {},
     "output_type": "execute_result"
    }
   ],
   "source": [
    "df"
   ]
  },
  {
   "cell_type": "markdown",
   "id": "0fc101ee",
   "metadata": {},
   "source": [
    "#There is only 4 Jobs on that criteria on thje site"
   ]
  },
  {
   "cell_type": "markdown",
   "id": "146b7913",
   "metadata": {},
   "source": [
    "Q2: Write a python program to scrape data for ““Data Scientist” Job position in “Bangalore” location.\n",
    "You have to scrape the job-title, job-location, company_name, experience_required. You have to\n",
    "scrape first 10 jobs data. 'https://www.naukri.com/''"
   ]
  },
  {
   "cell_type": "code",
   "execution_count": 38,
   "id": "1a86718a",
   "metadata": {},
   "outputs": [],
   "source": [
    "driver=webdriver.Chrome()"
   ]
  },
  {
   "cell_type": "code",
   "execution_count": 39,
   "id": "6f6e26d5",
   "metadata": {},
   "outputs": [],
   "source": [
    "driver.get( 'https://www.naukri.com/') "
   ]
  },
  {
   "cell_type": "code",
   "execution_count": 40,
   "id": "95960045",
   "metadata": {},
   "outputs": [],
   "source": [
    "designation=driver.find_element(By.XPATH,\"/html/body/div[1]/div[7]/div/div/div[1]/div/div/div/div[1]/div/input\")\n",
    "designation.send_keys('Data Analyst')"
   ]
  },
  {
   "cell_type": "code",
   "execution_count": 42,
   "id": "c8240c66",
   "metadata": {},
   "outputs": [],
   "source": [
    "location=driver.find_element(By.XPATH,\"/html/body/div[1]/div[7]/div/div/div[5]/div/div/div/div[1]/div/input\")\n",
    "location.send_keys(\"Bangalore\")"
   ]
  },
  {
   "cell_type": "code",
   "execution_count": 43,
   "id": "520211b9",
   "metadata": {},
   "outputs": [],
   "source": [
    "search=driver.find_element(By.XPATH,\"/html/body/div[1]/div[7]/div/div/div[6]\")\n",
    "search.click()"
   ]
  },
  {
   "cell_type": "code",
   "execution_count": 44,
   "id": "4b440ac9",
   "metadata": {},
   "outputs": [],
   "source": [
    "Job_Title=[]\n",
    "Job_Location=[]\n",
    "Company_Name=[]\n",
    "Experience_Required=[]"
   ]
  },
  {
   "cell_type": "code",
   "execution_count": 52,
   "id": "771a2ab2",
   "metadata": {},
   "outputs": [],
   "source": [
    "title=driver.find_elements(By.XPATH,'//div[@class=\"srp-jobtuple-wrapper\"]/div/div/a')\n",
    "for i in title:\n",
    "    title_tag=i.text\n",
    "    Job_Title.append(title_tag)\n",
    "    Job_Title=Job_Title[0:10]\n",
    "    \n",
    "location=driver.find_elements(By.XPATH,'//span[@class=\"locWdth\"]')\n",
    "for i in location:\n",
    "    loc=i.text\n",
    "    Job_Location.append(loc)\n",
    "    Job_Location=Job_Location[0:10]\n",
    "\n",
    "company=driver.find_elements(By.XPATH,'//span[@class=\" comp-dtls-wrap\"]/a[1]')\n",
    "for i in company:\n",
    "    name=i.text\n",
    "    Company_Name.append(name)\n",
    "    Company_Name=Company_Name[0:10]\n",
    "    \n",
    "experience=driver.find_elements(By.XPATH,'//span[@class=\"expwdth\"]')\n",
    "for i in experience:\n",
    "    Requirement=i.text\n",
    "    Experience_Required.append(Requirement)\n",
    "    Experience_Required=Experience_Required[0:10]\n",
    "    \n"
   ]
  },
  {
   "cell_type": "code",
   "execution_count": 53,
   "id": "470701c1",
   "metadata": {},
   "outputs": [],
   "source": [
    "Dataframe=pd.DataFrame({'Job Title':Job_Title,'Location':Job_Location,'Comapny Name':Company_Name,'Experience Required':Experience_Required})"
   ]
  },
  {
   "cell_type": "code",
   "execution_count": 54,
   "id": "ebb4c9b0",
   "metadata": {},
   "outputs": [
    {
     "data": {
      "text/html": [
       "<div>\n",
       "<style scoped>\n",
       "    .dataframe tbody tr th:only-of-type {\n",
       "        vertical-align: middle;\n",
       "    }\n",
       "\n",
       "    .dataframe tbody tr th {\n",
       "        vertical-align: top;\n",
       "    }\n",
       "\n",
       "    .dataframe thead th {\n",
       "        text-align: right;\n",
       "    }\n",
       "</style>\n",
       "<table border=\"1\" class=\"dataframe\">\n",
       "  <thead>\n",
       "    <tr style=\"text-align: right;\">\n",
       "      <th></th>\n",
       "      <th>Job Title</th>\n",
       "      <th>Location</th>\n",
       "      <th>Comapny Name</th>\n",
       "      <th>Experience Required</th>\n",
       "    </tr>\n",
       "  </thead>\n",
       "  <tbody>\n",
       "    <tr>\n",
       "      <th>0</th>\n",
       "      <td>Data Analyst</td>\n",
       "      <td>Kolkata, Mumbai, New Delhi, Hyderabad, Pune, C...</td>\n",
       "      <td>Orbit Skyline, Inc</td>\n",
       "      <td>2-4 Yrs</td>\n",
       "    </tr>\n",
       "    <tr>\n",
       "      <th>1</th>\n",
       "      <td>Data Analyst</td>\n",
       "      <td>Bengaluru</td>\n",
       "      <td>Target</td>\n",
       "      <td>2-4 Yrs</td>\n",
       "    </tr>\n",
       "    <tr>\n",
       "      <th>2</th>\n",
       "      <td>Data Analyst</td>\n",
       "      <td>Kolkata, Mumbai, New Delhi, Hyderabad, Pune, C...</td>\n",
       "      <td>TELUS International</td>\n",
       "      <td>1-4 Yrs</td>\n",
       "    </tr>\n",
       "    <tr>\n",
       "      <th>3</th>\n",
       "      <td>Online Data Analyst</td>\n",
       "      <td>Mumbai, Bengaluru</td>\n",
       "      <td>FedEx TSCS (India) Pvt Ltd</td>\n",
       "      <td>1-4 Yrs</td>\n",
       "    </tr>\n",
       "    <tr>\n",
       "      <th>4</th>\n",
       "      <td>Data Analyst</td>\n",
       "      <td>Bangalore/Bengaluru(Domlur)</td>\n",
       "      <td>Fenyes Engineered Technology Pvt Ltd</td>\n",
       "      <td>5-6 Yrs</td>\n",
       "    </tr>\n",
       "    <tr>\n",
       "      <th>5</th>\n",
       "      <td>Data Analyst (automotive)</td>\n",
       "      <td>Hybrid - Bangalore Rural, Karnataka, Hyderabad...</td>\n",
       "      <td>Tsit Digital Technologies</td>\n",
       "      <td>5-10 Yrs</td>\n",
       "    </tr>\n",
       "    <tr>\n",
       "      <th>6</th>\n",
       "      <td>Data Analyst</td>\n",
       "      <td>Bengaluru(4th Phase JP Nagar)</td>\n",
       "      <td>Objectwin Technology</td>\n",
       "      <td>1-5 Yrs</td>\n",
       "    </tr>\n",
       "    <tr>\n",
       "      <th>7</th>\n",
       "      <td>Data Analyst</td>\n",
       "      <td>Bangalore Rural, Karnataka, Hyderabad, Telanga...</td>\n",
       "      <td>Talent Sketchers</td>\n",
       "      <td>6-10 Yrs</td>\n",
       "    </tr>\n",
       "    <tr>\n",
       "      <th>8</th>\n",
       "      <td>Job opportunity _ Data Analyst</td>\n",
       "      <td>Hybrid - Bengaluru</td>\n",
       "      <td>2coms</td>\n",
       "      <td>5-10 Yrs</td>\n",
       "    </tr>\n",
       "    <tr>\n",
       "      <th>9</th>\n",
       "      <td>Data Analyst</td>\n",
       "      <td>Bengaluru</td>\n",
       "      <td>Intelliswift</td>\n",
       "      <td>5-10 Yrs</td>\n",
       "    </tr>\n",
       "  </tbody>\n",
       "</table>\n",
       "</div>"
      ],
      "text/plain": [
       "                        Job Title  \\\n",
       "0                    Data Analyst   \n",
       "1                    Data Analyst   \n",
       "2                    Data Analyst   \n",
       "3             Online Data Analyst   \n",
       "4                    Data Analyst   \n",
       "5       Data Analyst (automotive)   \n",
       "6                    Data Analyst   \n",
       "7                    Data Analyst   \n",
       "8  Job opportunity _ Data Analyst   \n",
       "9                    Data Analyst   \n",
       "\n",
       "                                            Location  \\\n",
       "0  Kolkata, Mumbai, New Delhi, Hyderabad, Pune, C...   \n",
       "1                                          Bengaluru   \n",
       "2  Kolkata, Mumbai, New Delhi, Hyderabad, Pune, C...   \n",
       "3                                  Mumbai, Bengaluru   \n",
       "4                        Bangalore/Bengaluru(Domlur)   \n",
       "5  Hybrid - Bangalore Rural, Karnataka, Hyderabad...   \n",
       "6                      Bengaluru(4th Phase JP Nagar)   \n",
       "7  Bangalore Rural, Karnataka, Hyderabad, Telanga...   \n",
       "8                                 Hybrid - Bengaluru   \n",
       "9                                          Bengaluru   \n",
       "\n",
       "                           Comapny Name Experience Required  \n",
       "0                    Orbit Skyline, Inc             2-4 Yrs  \n",
       "1                                Target             2-4 Yrs  \n",
       "2                   TELUS International             1-4 Yrs  \n",
       "3            FedEx TSCS (India) Pvt Ltd             1-4 Yrs  \n",
       "4  Fenyes Engineered Technology Pvt Ltd             5-6 Yrs  \n",
       "5             Tsit Digital Technologies            5-10 Yrs  \n",
       "6                  Objectwin Technology             1-5 Yrs  \n",
       "7                      Talent Sketchers            6-10 Yrs  \n",
       "8                                 2coms            5-10 Yrs  \n",
       "9                          Intelliswift            5-10 Yrs  "
      ]
     },
     "execution_count": 54,
     "metadata": {},
     "output_type": "execute_result"
    }
   ],
   "source": [
    "Dataframe"
   ]
  },
  {
   "cell_type": "markdown",
   "id": "0f2014c5",
   "metadata": {},
   "source": [
    "Q3: Scrape data of first 100 sunglasses listings on flipkart.com. You have to scrape four attributes:\n",
    "https://www.flipkart.com/"
   ]
  },
  {
   "cell_type": "code",
   "execution_count": 77,
   "id": "b591202b",
   "metadata": {},
   "outputs": [],
   "source": [
    "driver=webdriver.Chrome()"
   ]
  },
  {
   "cell_type": "code",
   "execution_count": 78,
   "id": "2512e1d7",
   "metadata": {},
   "outputs": [],
   "source": [
    "driver.get(' https://www.flipkart.com/')"
   ]
  },
  {
   "cell_type": "code",
   "execution_count": 92,
   "id": "cbe1717d",
   "metadata": {},
   "outputs": [],
   "source": [
    "Brand=[]\n",
    "Product_Description=[]\n",
    "Price=[]\n",
    "Discount=[]"
   ]
  },
  {
   "cell_type": "code",
   "execution_count": 93,
   "id": "75ad14c8",
   "metadata": {},
   "outputs": [],
   "source": [
    "start=0\n",
    "end=3\n",
    "for page in range(start,end):\n",
    "    brand=driver.find_elements(By.XPATH,'//div[@class=\"_2WkVRV\"]')\n",
    "    for i in brand:\n",
    "        name=i.text\n",
    "        Brand.append(name)\n",
    "        Brand=Brand[0:100]\n",
    "    \n",
    "    description=driver.find_elements(By.XPATH,'//a[@class=\"IRpwTa\"]')\n",
    "    for i in description:\n",
    "        descriptive=i.text\n",
    "        Product_Description.append(descriptive)\n",
    "        Product_Description=Product_Description[0:100]\n",
    "    \n",
    "    price=driver.find_elements(By.XPATH,'//div[@class=\"_30jeq3\"]')\n",
    "    for i in price:\n",
    "        prc=i.text\n",
    "        Price.append(prc)\n",
    "        Price=Price[0:100]\n",
    "\n",
    "    discount=driver.find_elements(By.XPATH,'//div[@class=\"_3Ay6Sb\"]/span')\n",
    "    for i in discount:\n",
    "        disc=i.text\n",
    "        Discount.append(disc)\n",
    "        Discount=Discount[0:100]\n",
    "\n",
    "\n",
    "    nextpage=driver.find_element(By.XPATH,'/html/body/div/div/div[3]/div[1]/div[2]/div[12]/div/div/nav/a[11]')\n",
    "    nextpage.click()\n",
    "    time.sleep(3)\n",
    "    \n",
    "        "
   ]
  },
  {
   "cell_type": "code",
   "execution_count": 84,
   "id": "ff00deba",
   "metadata": {},
   "outputs": [
    {
     "name": "stdout",
     "output_type": "stream",
     "text": [
      "100 100 100 100\n"
     ]
    }
   ],
   "source": [
    "print(len(Brand),len(Product_Description),len(Price),len(Discount))"
   ]
  },
  {
   "cell_type": "code",
   "execution_count": 96,
   "id": "34c8e0ef",
   "metadata": {},
   "outputs": [],
   "source": [
    "FlipKart=pd.DataFrame({'Brand':Brand,'Product Description':Product_Description,'Price':Price,'Discount':Discount})"
   ]
  },
  {
   "cell_type": "code",
   "execution_count": 97,
   "id": "895ef6c5",
   "metadata": {},
   "outputs": [
    {
     "data": {
      "text/html": [
       "<div>\n",
       "<style scoped>\n",
       "    .dataframe tbody tr th:only-of-type {\n",
       "        vertical-align: middle;\n",
       "    }\n",
       "\n",
       "    .dataframe tbody tr th {\n",
       "        vertical-align: top;\n",
       "    }\n",
       "\n",
       "    .dataframe thead th {\n",
       "        text-align: right;\n",
       "    }\n",
       "</style>\n",
       "<table border=\"1\" class=\"dataframe\">\n",
       "  <thead>\n",
       "    <tr style=\"text-align: right;\">\n",
       "      <th></th>\n",
       "      <th>Brand</th>\n",
       "      <th>Product Description</th>\n",
       "      <th>Price</th>\n",
       "      <th>Discount</th>\n",
       "    </tr>\n",
       "  </thead>\n",
       "  <tbody>\n",
       "    <tr>\n",
       "      <th>0</th>\n",
       "      <td>NuVew</td>\n",
       "      <td>UV Protection Over-sized, Wayfarer Sunglasses ...</td>\n",
       "      <td>₹449</td>\n",
       "      <td>74% off</td>\n",
       "    </tr>\n",
       "    <tr>\n",
       "      <th>1</th>\n",
       "      <td>AISLIN</td>\n",
       "      <td>UV Protection Wayfarer, Oval Sunglasses (57)</td>\n",
       "      <td>₹449</td>\n",
       "      <td>85% off</td>\n",
       "    </tr>\n",
       "    <tr>\n",
       "      <th>2</th>\n",
       "      <td>Ray-Ban</td>\n",
       "      <td>UV Protection Shield Sunglasses (58)</td>\n",
       "      <td>₹8,063</td>\n",
       "      <td>31% off</td>\n",
       "    </tr>\n",
       "    <tr>\n",
       "      <th>3</th>\n",
       "      <td>IDEE</td>\n",
       "      <td>Polarized Rectangular Sunglasses (61)</td>\n",
       "      <td>₹1,519</td>\n",
       "      <td>57% off</td>\n",
       "    </tr>\n",
       "    <tr>\n",
       "      <th>4</th>\n",
       "      <td>VINCENT CHASE</td>\n",
       "      <td>by Lenskart Polarized, UV Protection Wayfarer ...</td>\n",
       "      <td>₹806</td>\n",
       "      <td>59% off</td>\n",
       "    </tr>\n",
       "    <tr>\n",
       "      <th>...</th>\n",
       "      <td>...</td>\n",
       "      <td>...</td>\n",
       "      <td>...</td>\n",
       "      <td>...</td>\n",
       "    </tr>\n",
       "    <tr>\n",
       "      <th>95</th>\n",
       "      <td>Lenskart STUDIO</td>\n",
       "      <td>Polarized, UV Protection Rectangular Sunglasse...</td>\n",
       "      <td>₹1,111</td>\n",
       "      <td>68% off</td>\n",
       "    </tr>\n",
       "    <tr>\n",
       "      <th>96</th>\n",
       "      <td>AISLIN</td>\n",
       "      <td>UV Protection Oval, Aviator Sunglasses (60)</td>\n",
       "      <td>₹449</td>\n",
       "      <td>81% off</td>\n",
       "    </tr>\n",
       "    <tr>\n",
       "      <th>97</th>\n",
       "      <td>PERKEY</td>\n",
       "      <td>Polarized, UV Protection Retro Square, Over-si...</td>\n",
       "      <td>₹1,709</td>\n",
       "      <td>57% off</td>\n",
       "    </tr>\n",
       "    <tr>\n",
       "      <th>98</th>\n",
       "      <td>Legend Eyewear</td>\n",
       "      <td>Mirrored, Gradient, Night Vision, Polarized, R...</td>\n",
       "      <td>₹355</td>\n",
       "      <td>81% off</td>\n",
       "    </tr>\n",
       "    <tr>\n",
       "      <th>99</th>\n",
       "      <td>ROYAL SON</td>\n",
       "      <td>UV Protection, Gradient Butterfly Sunglasses (62)</td>\n",
       "      <td>₹664</td>\n",
       "      <td>66% off</td>\n",
       "    </tr>\n",
       "  </tbody>\n",
       "</table>\n",
       "<p>100 rows × 4 columns</p>\n",
       "</div>"
      ],
      "text/plain": [
       "              Brand                                Product Description  \\\n",
       "0             NuVew  UV Protection Over-sized, Wayfarer Sunglasses ...   \n",
       "1            AISLIN       UV Protection Wayfarer, Oval Sunglasses (57)   \n",
       "2           Ray-Ban               UV Protection Shield Sunglasses (58)   \n",
       "3              IDEE              Polarized Rectangular Sunglasses (61)   \n",
       "4     VINCENT CHASE  by Lenskart Polarized, UV Protection Wayfarer ...   \n",
       "..              ...                                                ...   \n",
       "95  Lenskart STUDIO  Polarized, UV Protection Rectangular Sunglasse...   \n",
       "96           AISLIN        UV Protection Oval, Aviator Sunglasses (60)   \n",
       "97           PERKEY  Polarized, UV Protection Retro Square, Over-si...   \n",
       "98   Legend Eyewear  Mirrored, Gradient, Night Vision, Polarized, R...   \n",
       "99        ROYAL SON  UV Protection, Gradient Butterfly Sunglasses (62)   \n",
       "\n",
       "     Price Discount  \n",
       "0     ₹449  74% off  \n",
       "1     ₹449  85% off  \n",
       "2   ₹8,063  31% off  \n",
       "3   ₹1,519  57% off  \n",
       "4     ₹806  59% off  \n",
       "..     ...      ...  \n",
       "95  ₹1,111  68% off  \n",
       "96    ₹449  81% off  \n",
       "97  ₹1,709  57% off  \n",
       "98    ₹355  81% off  \n",
       "99    ₹664  66% off  \n",
       "\n",
       "[100 rows x 4 columns]"
      ]
     },
     "execution_count": 97,
     "metadata": {},
     "output_type": "execute_result"
    }
   ],
   "source": [
    "FlipKart"
   ]
  }
 ],
 "metadata": {
  "kernelspec": {
   "display_name": "Python 3 (ipykernel)",
   "language": "python",
   "name": "python3"
  },
  "language_info": {
   "codemirror_mode": {
    "name": "ipython",
    "version": 3
   },
   "file_extension": ".py",
   "mimetype": "text/x-python",
   "name": "python",
   "nbconvert_exporter": "python",
   "pygments_lexer": "ipython3",
   "version": "3.11.5"
  }
 },
 "nbformat": 4,
 "nbformat_minor": 5
}
