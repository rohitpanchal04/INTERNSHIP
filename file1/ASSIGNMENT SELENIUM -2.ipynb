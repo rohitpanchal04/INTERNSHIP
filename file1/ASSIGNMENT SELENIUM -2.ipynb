{
 "cells": [
  {
   "cell_type": "code",
   "execution_count": 1,
   "id": "80c1478c",
   "metadata": {},
   "outputs": [],
   "source": [
    "import selenium\n",
    "import pandas as pd\n",
    "from selenium import webdriver\n",
    "import warnings\n",
    "warnings.filterwarnings('ignore')\n",
    "from selenium.webdriver.common.by import By\n",
    "import time"
   ]
  },
  {
   "cell_type": "markdown",
   "id": "f4a7bc6b",
   "metadata": {},
   "source": [
    "#QUESTION - 1"
   ]
  },
  {
   "cell_type": "code",
   "execution_count": 2,
   "id": "4f2ee842",
   "metadata": {},
   "outputs": [],
   "source": [
    "driver=webdriver.Chrome()"
   ]
  },
  {
   "cell_type": "code",
   "execution_count": 3,
   "id": "156aeb09",
   "metadata": {},
   "outputs": [],
   "source": [
    "driver.get('https://www.naukri.com/')"
   ]
  },
  {
   "cell_type": "code",
   "execution_count": 4,
   "id": "0633fd01",
   "metadata": {},
   "outputs": [],
   "source": [
    "designation=driver.find_element(By.XPATH,'/html/body/div[1]/div[7]/div/div/div[1]/div/div/div/div[1]/div/input')\n",
    "designation.send_keys('Data Scientist')"
   ]
  },
  {
   "cell_type": "code",
   "execution_count": 5,
   "id": "f6d8c45c",
   "metadata": {},
   "outputs": [],
   "source": [
    "search=driver.find_element(By.XPATH,'/html/body/div[1]/div[7]/div/div/div[6]')\n",
    "search.click()"
   ]
  },
  {
   "cell_type": "code",
   "execution_count": 7,
   "id": "337e8a7d",
   "metadata": {},
   "outputs": [],
   "source": [
    "salary=driver.find_element(By.XPATH,'/html/body/div/div/main/div[1]/div[1]/div/div/div[2]/div[3]/div[2]/div[2]/label')\n",
    "salary.click()"
   ]
  },
  {
   "cell_type": "code",
   "execution_count": 8,
   "id": "fdab476b",
   "metadata": {},
   "outputs": [],
   "source": [
    "location=driver.find_element(By.XPATH,'/html/body/div/div/main/div[1]/div[1]/div/div/div[2]/div[4]/div[2]/div[3]/label')\n",
    "location.click()"
   ]
  },
  {
   "cell_type": "code",
   "execution_count": 9,
   "id": "42ea1a81",
   "metadata": {},
   "outputs": [],
   "source": [
    "Job_Title=[]\n",
    "Job_Location=[]\n",
    "Company_Name=[]\n",
    "Experience_Required=[]"
   ]
  },
  {
   "cell_type": "code",
   "execution_count": 10,
   "id": "083e21fc",
   "metadata": {},
   "outputs": [],
   "source": [
    "#Scraping data of job title,Location,Name,Experience from website\n",
    "\n",
    "jobtitle=driver.find_elements(By.XPATH,'//a[@class=\"title \"]')\n",
    "for i in jobtitle:\n",
    "    title=i.text\n",
    "    Job_Title.append(title)\n",
    "    Job_Title=Job_Title[0:10]\n",
    "    \n",
    "location=driver.find_elements(By.XPATH,'//span[@class=\"ni-job-tuple-icon ni-job-tuple-icon-srp-location loc\"]')\n",
    "for i in location:\n",
    "    loc=i.text\n",
    "    Job_Location.append(loc)\n",
    "    Job_Location=Job_Location[0:10]\n",
    "    \n",
    "Name=driver.find_elements(By.XPATH,'//a[@class=\" comp-name mw-25\"]')\n",
    "for i in Name:\n",
    "    name=i.text\n",
    "    Company_Name.append(name)\n",
    "    Company_Name=Company_Name[0:10]\n",
    "    \n",
    "experience=driver.find_elements(By.XPATH,'//span[@class=\"expwdth\"]')\n",
    "for i in experience:\n",
    "    exp=i.text\n",
    "    Experience_Required.append(exp)\n",
    "    Experience_Required= Experience_Required[0:10]"
   ]
  },
  {
   "cell_type": "code",
   "execution_count": 11,
   "id": "0962c1b6",
   "metadata": {},
   "outputs": [
    {
     "name": "stdout",
     "output_type": "stream",
     "text": [
      "10 10 10 10\n"
     ]
    }
   ],
   "source": [
    "print(len(Job_Title),len(Job_Location),len(Company_Name),len(Experience_Required))"
   ]
  },
  {
   "cell_type": "code",
   "execution_count": 12,
   "id": "45fa5eef",
   "metadata": {},
   "outputs": [],
   "source": [
    "NokriDF=pd.DataFrame({'Job_Title':Job_Title,'Job_Location':Job_Location,'Company_Name':Company_Name,\n",
    "                      'Experience_Required':Experience_Required})"
   ]
  },
  {
   "cell_type": "code",
   "execution_count": 13,
   "id": "982f9142",
   "metadata": {},
   "outputs": [
    {
     "data": {
      "text/html": [
       "<div>\n",
       "<style scoped>\n",
       "    .dataframe tbody tr th:only-of-type {\n",
       "        vertical-align: middle;\n",
       "    }\n",
       "\n",
       "    .dataframe tbody tr th {\n",
       "        vertical-align: top;\n",
       "    }\n",
       "\n",
       "    .dataframe thead th {\n",
       "        text-align: right;\n",
       "    }\n",
       "</style>\n",
       "<table border=\"1\" class=\"dataframe\">\n",
       "  <thead>\n",
       "    <tr style=\"text-align: right;\">\n",
       "      <th></th>\n",
       "      <th>Job_Title</th>\n",
       "      <th>Job_Location</th>\n",
       "      <th>Company_Name</th>\n",
       "      <th>Experience_Required</th>\n",
       "    </tr>\n",
       "  </thead>\n",
       "  <tbody>\n",
       "    <tr>\n",
       "      <th>0</th>\n",
       "      <td>Data Scientist HTHD</td>\n",
       "      <td>Kolkata, Mumbai, New Delhi, Hyderabad, Pune, C...</td>\n",
       "      <td>Ford</td>\n",
       "      <td>1-4 Yrs</td>\n",
       "    </tr>\n",
       "    <tr>\n",
       "      <th>1</th>\n",
       "      <td>Data Scientist</td>\n",
       "      <td>Mumbai, Hyderabad, Gurugram</td>\n",
       "      <td>Deloitte</td>\n",
       "      <td>3-6 Yrs</td>\n",
       "    </tr>\n",
       "    <tr>\n",
       "      <th>2</th>\n",
       "      <td>Data Scientist</td>\n",
       "      <td>Gurugram, Bengaluru</td>\n",
       "      <td>Blackbuck</td>\n",
       "      <td>3-7 Yrs</td>\n",
       "    </tr>\n",
       "    <tr>\n",
       "      <th>3</th>\n",
       "      <td>Sr. Data Scientist</td>\n",
       "      <td>Greater Noida, Bengaluru</td>\n",
       "      <td>Honeywell</td>\n",
       "      <td>3-6 Yrs</td>\n",
       "    </tr>\n",
       "    <tr>\n",
       "      <th>4</th>\n",
       "      <td>Sr. Data Scientist</td>\n",
       "      <td>Kolkata, Mumbai, New Delhi, Hyderabad/Secunder...</td>\n",
       "      <td>Fort Technologies</td>\n",
       "      <td>3-7 Yrs</td>\n",
       "    </tr>\n",
       "    <tr>\n",
       "      <th>5</th>\n",
       "      <td></td>\n",
       "      <td>Kolkata, Mumbai, New Delhi, Hyderabad, Pune, C...</td>\n",
       "      <td>ZS Associates</td>\n",
       "      <td>1-3 Yrs</td>\n",
       "    </tr>\n",
       "    <tr>\n",
       "      <th>6</th>\n",
       "      <td></td>\n",
       "      <td>Pune, Gurugram</td>\n",
       "      <td>Course5 Intelligence</td>\n",
       "      <td>2-4 Yrs</td>\n",
       "    </tr>\n",
       "    <tr>\n",
       "      <th>7</th>\n",
       "      <td></td>\n",
       "      <td>Mumbai, Gurugram, Bengaluru</td>\n",
       "      <td>Innovaccer</td>\n",
       "      <td>3-6 Yrs</td>\n",
       "    </tr>\n",
       "    <tr>\n",
       "      <th>8</th>\n",
       "      <td>Data Scientist II</td>\n",
       "      <td>Noida</td>\n",
       "      <td>Times Internet</td>\n",
       "      <td>2-7 Yrs</td>\n",
       "    </tr>\n",
       "    <tr>\n",
       "      <th>9</th>\n",
       "      <td>Lead Data Scientist</td>\n",
       "      <td>Noida</td>\n",
       "      <td>The Scholar</td>\n",
       "      <td>3-8 Yrs</td>\n",
       "    </tr>\n",
       "  </tbody>\n",
       "</table>\n",
       "</div>"
      ],
      "text/plain": [
       "             Job_Title                                       Job_Location  \\\n",
       "0  Data Scientist HTHD  Kolkata, Mumbai, New Delhi, Hyderabad, Pune, C...   \n",
       "1       Data Scientist                        Mumbai, Hyderabad, Gurugram   \n",
       "2       Data Scientist                                Gurugram, Bengaluru   \n",
       "3   Sr. Data Scientist                           Greater Noida, Bengaluru   \n",
       "4   Sr. Data Scientist  Kolkata, Mumbai, New Delhi, Hyderabad/Secunder...   \n",
       "5                       Kolkata, Mumbai, New Delhi, Hyderabad, Pune, C...   \n",
       "6                                                          Pune, Gurugram   \n",
       "7                                             Mumbai, Gurugram, Bengaluru   \n",
       "8    Data Scientist II                                              Noida   \n",
       "9  Lead Data Scientist                                              Noida   \n",
       "\n",
       "           Company_Name Experience_Required  \n",
       "0                  Ford             1-4 Yrs  \n",
       "1              Deloitte             3-6 Yrs  \n",
       "2             Blackbuck             3-7 Yrs  \n",
       "3             Honeywell             3-6 Yrs  \n",
       "4     Fort Technologies             3-7 Yrs  \n",
       "5         ZS Associates             1-3 Yrs  \n",
       "6  Course5 Intelligence             2-4 Yrs  \n",
       "7            Innovaccer             3-6 Yrs  \n",
       "8        Times Internet             2-7 Yrs  \n",
       "9           The Scholar             3-8 Yrs  "
      ]
     },
     "execution_count": 13,
     "metadata": {},
     "output_type": "execute_result"
    }
   ],
   "source": [
    "NokriDF"
   ]
  },
  {
   "cell_type": "markdown",
   "id": "e8a6cd62",
   "metadata": {},
   "source": [
    "#QUESTION --> 2"
   ]
  },
  {
   "cell_type": "code",
   "execution_count": 14,
   "id": "4159ab2e",
   "metadata": {},
   "outputs": [],
   "source": [
    "driver=webdriver.Chrome()"
   ]
  },
  {
   "cell_type": "code",
   "execution_count": 15,
   "id": "ddb7c4c4",
   "metadata": {},
   "outputs": [],
   "source": [
    "driver.get('https://www.shine.com/')"
   ]
  },
  {
   "cell_type": "code",
   "execution_count": 16,
   "id": "5df84e00",
   "metadata": {},
   "outputs": [],
   "source": [
    "title=driver.find_element(By.XPATH,'/html/body/div/div[4]/div/div[2]/div[2]/div/form/div/div[1]/ul/li[1]/div/input')\n",
    "title.send_keys('Data Scientist')"
   ]
  },
  {
   "cell_type": "code",
   "execution_count": 17,
   "id": "138cc85f",
   "metadata": {},
   "outputs": [],
   "source": [
    "location=driver.find_element(By.XPATH,'/html/body/div/div[4]/div/div[2]/div[2]/div/form/div/div[1]/ul/li[2]/div/input')\n",
    "location.send_keys('Bangalore')"
   ]
  },
  {
   "cell_type": "code",
   "execution_count": 18,
   "id": "729037d5",
   "metadata": {},
   "outputs": [],
   "source": [
    "search=driver.find_element(By.XPATH,'/html/body/div/div[4]/div/div[2]/div[2]/div/form/div/div[2]/div/button')\n",
    "search.click()"
   ]
  },
  {
   "cell_type": "code",
   "execution_count": 19,
   "id": "113c0459",
   "metadata": {},
   "outputs": [],
   "source": [
    "job_title=[]\n",
    "job_location=[]\n",
    "company_name=[]\n",
    "experience=[]"
   ]
  },
  {
   "cell_type": "code",
   "execution_count": 20,
   "id": "13a52f60",
   "metadata": {},
   "outputs": [],
   "source": [
    "titlee=driver.find_elements(By.XPATH,'//*[@id=\"1\"]/div/div[1]/div[1]/h2/a')\n",
    "for i in titlee:\n",
    "    titl=i.text\n",
    "    job_title.append(titl)\n",
    "    \n",
    "locationn=driver.find_elements(By.XPATH,'//*[@id=\"1\"]/div/div[1]/div[1]/div[3]/div[2]')\n",
    "for i in locationn:\n",
    "    loc=i.text\n",
    "    job_location.append(loc)\n",
    "    \n",
    "name=driver.find_elements(By.XPATH,'//*[@id=\"1\"]/div/div[1]/div[1]/div[2]/span')\n",
    "for i in name:\n",
    "    nam=i.text\n",
    "    company_name.append(nam)\n",
    "    \n",
    "exp=driver.find_elements(By.XPATH,'//*[@id=\"1\"]/div/div[1]/div[1]/div[3]/div[1]')\n",
    "for i in exp:\n",
    "    expp=i.text\n",
    "    experience.append(expp)"
   ]
  },
  {
   "cell_type": "code",
   "execution_count": 21,
   "id": "9c874bf7",
   "metadata": {},
   "outputs": [],
   "source": [
    "job_title=job_title [0:10]\n",
    "job_location=job_location [0:10]\n",
    "company_name=company_name [0:10]\n",
    "experience=experience [0:10]"
   ]
  },
  {
   "cell_type": "code",
   "execution_count": 22,
   "id": "d153e351",
   "metadata": {},
   "outputs": [],
   "source": [
    "DataFrame=pd.DataFrame({'Job Title':job_title,'job Location':job_location,'Company Name':company_name,\n",
    "                       'Experience Required':experience})"
   ]
  },
  {
   "cell_type": "code",
   "execution_count": 23,
   "id": "f177594e",
   "metadata": {},
   "outputs": [
    {
     "data": {
      "text/html": [
       "<div>\n",
       "<style scoped>\n",
       "    .dataframe tbody tr th:only-of-type {\n",
       "        vertical-align: middle;\n",
       "    }\n",
       "\n",
       "    .dataframe tbody tr th {\n",
       "        vertical-align: top;\n",
       "    }\n",
       "\n",
       "    .dataframe thead th {\n",
       "        text-align: right;\n",
       "    }\n",
       "</style>\n",
       "<table border=\"1\" class=\"dataframe\">\n",
       "  <thead>\n",
       "    <tr style=\"text-align: right;\">\n",
       "      <th></th>\n",
       "      <th>Job Title</th>\n",
       "      <th>job Location</th>\n",
       "      <th>Company Name</th>\n",
       "      <th>Experience Required</th>\n",
       "    </tr>\n",
       "  </thead>\n",
       "  <tbody>\n",
       "    <tr>\n",
       "      <th>0</th>\n",
       "      <td>Data Scientist Opening</td>\n",
       "      <td>Bangalore\\n+15</td>\n",
       "      <td>renuka interprises</td>\n",
       "      <td>0 to 4 Yrs</td>\n",
       "    </tr>\n",
       "    <tr>\n",
       "      <th>1</th>\n",
       "      <td>Data Scientist Opening</td>\n",
       "      <td>Bangalore\\n+15</td>\n",
       "      <td>renuka interprises</td>\n",
       "      <td>0 to 4 Yrs</td>\n",
       "    </tr>\n",
       "    <tr>\n",
       "      <th>2</th>\n",
       "      <td>Data Scientist Recruitment</td>\n",
       "      <td>Bangalore\\n+9</td>\n",
       "      <td>radhika enterprises</td>\n",
       "      <td>0 to 4 Yrs</td>\n",
       "    </tr>\n",
       "    <tr>\n",
       "      <th>3</th>\n",
       "      <td>Data Scientist</td>\n",
       "      <td>Bangalore\\n+8</td>\n",
       "      <td>techno endura</td>\n",
       "      <td>0 to 2 Yrs</td>\n",
       "    </tr>\n",
       "    <tr>\n",
       "      <th>4</th>\n",
       "      <td>ML Data Scientist</td>\n",
       "      <td>Bangalore\\n+3</td>\n",
       "      <td>gujarat facility services hiring fo...</td>\n",
       "      <td>5 to 8 Yrs</td>\n",
       "    </tr>\n",
       "    <tr>\n",
       "      <th>5</th>\n",
       "      <td>Data Scientist Urgent Vacancy</td>\n",
       "      <td>Bangalore\\n+15</td>\n",
       "      <td>renuka interprises</td>\n",
       "      <td>0 to 4 Yrs</td>\n",
       "    </tr>\n",
       "    <tr>\n",
       "      <th>6</th>\n",
       "      <td>Data Scientist</td>\n",
       "      <td>Bangalore\\n+4</td>\n",
       "      <td>acme services private limited</td>\n",
       "      <td>3 to 5 Yrs</td>\n",
       "    </tr>\n",
       "    <tr>\n",
       "      <th>7</th>\n",
       "      <td>Data Scientist Recruitment</td>\n",
       "      <td>Bangalore\\n+15</td>\n",
       "      <td>renuka interprises</td>\n",
       "      <td>0 to 4 Yrs</td>\n",
       "    </tr>\n",
       "    <tr>\n",
       "      <th>8</th>\n",
       "      <td>Data Scientist Recruitment</td>\n",
       "      <td>Bangalore\\n+15</td>\n",
       "      <td>renuka interprises</td>\n",
       "      <td>0 to 4 Yrs</td>\n",
       "    </tr>\n",
       "    <tr>\n",
       "      <th>9</th>\n",
       "      <td>Clinical Data Associate</td>\n",
       "      <td>Bangalore\\n+6</td>\n",
       "      <td>techno endura</td>\n",
       "      <td>0 to 1 Yr</td>\n",
       "    </tr>\n",
       "  </tbody>\n",
       "</table>\n",
       "</div>"
      ],
      "text/plain": [
       "                       Job Title    job Location  \\\n",
       "0         Data Scientist Opening  Bangalore\\n+15   \n",
       "1         Data Scientist Opening  Bangalore\\n+15   \n",
       "2     Data Scientist Recruitment   Bangalore\\n+9   \n",
       "3                 Data Scientist   Bangalore\\n+8   \n",
       "4              ML Data Scientist   Bangalore\\n+3   \n",
       "5  Data Scientist Urgent Vacancy  Bangalore\\n+15   \n",
       "6                 Data Scientist   Bangalore\\n+4   \n",
       "7     Data Scientist Recruitment  Bangalore\\n+15   \n",
       "8     Data Scientist Recruitment  Bangalore\\n+15   \n",
       "9        Clinical Data Associate   Bangalore\\n+6   \n",
       "\n",
       "                             Company Name Experience Required  \n",
       "0                      renuka interprises          0 to 4 Yrs  \n",
       "1                      renuka interprises          0 to 4 Yrs  \n",
       "2                     radhika enterprises          0 to 4 Yrs  \n",
       "3                           techno endura          0 to 2 Yrs  \n",
       "4  gujarat facility services hiring fo...          5 to 8 Yrs  \n",
       "5                      renuka interprises          0 to 4 Yrs  \n",
       "6           acme services private limited          3 to 5 Yrs  \n",
       "7                      renuka interprises          0 to 4 Yrs  \n",
       "8                      renuka interprises          0 to 4 Yrs  \n",
       "9                           techno endura           0 to 1 Yr  "
      ]
     },
     "execution_count": 23,
     "metadata": {},
     "output_type": "execute_result"
    }
   ],
   "source": [
    "DataFrame"
   ]
  },
  {
   "cell_type": "markdown",
   "id": "53588b77",
   "metadata": {},
   "source": [
    "#QUESTION -->3"
   ]
  },
  {
   "cell_type": "code",
   "execution_count": 24,
   "id": "fa0b515a",
   "metadata": {},
   "outputs": [],
   "source": [
    "driver=webdriver.Chrome()"
   ]
  },
  {
   "cell_type": "code",
   "execution_count": 25,
   "id": "78c0ad4e",
   "metadata": {},
   "outputs": [],
   "source": [
    "driver.get('https://www.flipkart.com/apple-iphone-11-black-64-gb/product-reviews/itm4e5041ba101fd?pid=MOBFWQ6BXGJCEYNY&lid=LSTMOBFWQ6BXGJCEYNYZXSHRJ&marketplace=FLIPKART')"
   ]
  },
  {
   "cell_type": "code",
   "execution_count": 26,
   "id": "46f535f7",
   "metadata": {},
   "outputs": [],
   "source": [
    "Rating=[]\n",
    "Review=[]\n",
    "Full_Review=[]"
   ]
  },
  {
   "cell_type": "code",
   "execution_count": 27,
   "id": "bb65d29c",
   "metadata": {},
   "outputs": [],
   "source": [
    "start=0\n",
    "end=20\n",
    "for page in range(start,end):\n",
    "    rating=driver.find_elements(By.XPATH,'//div[@class=\"_3LWZlK _1BLPMq\"]')\n",
    "    for i in rating:\n",
    "        rate=i.text\n",
    "        Rating.append(rate)\n",
    "        Rating=Rating[0:100]\n",
    "        \n",
    "    review=driver.find_elements(By.XPATH,'//p[@class=\"_2-N8zT\"]')\n",
    "    for i in review:\n",
    "        reviews=i.text\n",
    "        Review.append(reviews)\n",
    "        Review=Review[0:100]\n",
    "        \n",
    "    full=driver.find_elements(By.XPATH,'//div[@class=\"t-ZTKy\"]')\n",
    "    for i in full:\n",
    "        Full=i.text\n",
    "        Full_Review.append(Full)\n",
    "        Full_Review=Full_Review[0:100]\n",
    "        \n",
    "    nextp=driver.find_element(By.XPATH,'/html/body/div/div/div[3]/div/div/div[2]/div[13]/div/div/nav/a[11]')\n",
    "    nextp.click()\n",
    "    time.sleep(3)"
   ]
  },
  {
   "cell_type": "code",
   "execution_count": 28,
   "id": "5855be6c",
   "metadata": {},
   "outputs": [
    {
     "name": "stdout",
     "output_type": "stream",
     "text": [
      "100 100 100\n"
     ]
    }
   ],
   "source": [
    "print(len(Rating),len(Review),len(Full_Review))"
   ]
  },
  {
   "cell_type": "code",
   "execution_count": 29,
   "id": "7d8578ae",
   "metadata": {},
   "outputs": [],
   "source": [
    "FlipkartDF=pd.DataFrame({'Rating':Rating,\"Review\":Review,\"Full_Review\":Full_Review})"
   ]
  },
  {
   "cell_type": "code",
   "execution_count": 30,
   "id": "ceb80389",
   "metadata": {},
   "outputs": [
    {
     "data": {
      "text/html": [
       "<div>\n",
       "<style scoped>\n",
       "    .dataframe tbody tr th:only-of-type {\n",
       "        vertical-align: middle;\n",
       "    }\n",
       "\n",
       "    .dataframe tbody tr th {\n",
       "        vertical-align: top;\n",
       "    }\n",
       "\n",
       "    .dataframe thead th {\n",
       "        text-align: right;\n",
       "    }\n",
       "</style>\n",
       "<table border=\"1\" class=\"dataframe\">\n",
       "  <thead>\n",
       "    <tr style=\"text-align: right;\">\n",
       "      <th></th>\n",
       "      <th>Rating</th>\n",
       "      <th>Review</th>\n",
       "      <th>Full_Review</th>\n",
       "    </tr>\n",
       "  </thead>\n",
       "  <tbody>\n",
       "    <tr>\n",
       "      <th>0</th>\n",
       "      <td>5</td>\n",
       "      <td>Best in the market!</td>\n",
       "      <td>Good Camera</td>\n",
       "    </tr>\n",
       "    <tr>\n",
       "      <th>1</th>\n",
       "      <td>5</td>\n",
       "      <td>Worth every penny</td>\n",
       "      <td>Feeling awesome after getting the delivery of ...</td>\n",
       "    </tr>\n",
       "    <tr>\n",
       "      <th>2</th>\n",
       "      <td>5</td>\n",
       "      <td>Classy product</td>\n",
       "      <td>Camera is awesome\\nBest battery backup\\nA perf...</td>\n",
       "    </tr>\n",
       "    <tr>\n",
       "      <th>3</th>\n",
       "      <td>5</td>\n",
       "      <td>Terrific</td>\n",
       "      <td>Very very good</td>\n",
       "    </tr>\n",
       "    <tr>\n",
       "      <th>4</th>\n",
       "      <td>5</td>\n",
       "      <td>Fabulous!</td>\n",
       "      <td>Super🔥 and good performance 👌❤️</td>\n",
       "    </tr>\n",
       "  </tbody>\n",
       "</table>\n",
       "</div>"
      ],
      "text/plain": [
       "  Rating               Review  \\\n",
       "0      5  Best in the market!   \n",
       "1      5    Worth every penny   \n",
       "2      5       Classy product   \n",
       "3      5             Terrific   \n",
       "4      5            Fabulous!   \n",
       "\n",
       "                                         Full_Review  \n",
       "0                                        Good Camera  \n",
       "1  Feeling awesome after getting the delivery of ...  \n",
       "2  Camera is awesome\\nBest battery backup\\nA perf...  \n",
       "3                                     Very very good  \n",
       "4                    Super🔥 and good performance 👌❤️  "
      ]
     },
     "execution_count": 30,
     "metadata": {},
     "output_type": "execute_result"
    }
   ],
   "source": [
    "FlipkartDF.head()"
   ]
  },
  {
   "cell_type": "markdown",
   "id": "7dd7ffbd",
   "metadata": {},
   "source": [
    "#QUESTION -->4"
   ]
  },
  {
   "cell_type": "code",
   "execution_count": 31,
   "id": "d551f1b2",
   "metadata": {},
   "outputs": [],
   "source": [
    "driver=webdriver.Chrome()"
   ]
  },
  {
   "cell_type": "code",
   "execution_count": 32,
   "id": "3ed99f1b",
   "metadata": {},
   "outputs": [],
   "source": [
    "driver.get('https://www.flipkart.com/')"
   ]
  },
  {
   "cell_type": "code",
   "execution_count": 34,
   "id": "c807d7c8",
   "metadata": {},
   "outputs": [],
   "source": [
    "title=driver.find_element(By.XPATH,'/html/body/div[1]/div/div[1]/div/div/div/div/div[1]/div/div[1]/div/div[1]/div[1]/header/div[1]/div[2]/form/div/div/input')\n",
    "title.send_keys('sneakers')"
   ]
  },
  {
   "cell_type": "code",
   "execution_count": 36,
   "id": "4293a182",
   "metadata": {},
   "outputs": [],
   "source": [
    "search=driver.find_element(By.XPATH,'/html/body/div[1]/div/div[1]/div/div/div/div/div[1]/div/div[1]/div/div[1]/div[1]/header/div[1]/div[2]/form/div/button')\n",
    "search.click()"
   ]
  },
  {
   "cell_type": "code",
   "execution_count": 37,
   "id": "619389ae",
   "metadata": {},
   "outputs": [],
   "source": [
    "Brand=[]\n",
    "Product_Description=[]\n",
    "Price=[]"
   ]
  },
  {
   "cell_type": "code",
   "execution_count": 38,
   "id": "c67cf79d",
   "metadata": {},
   "outputs": [],
   "source": [
    "start=0\n",
    "end=5\n",
    "for page in range(start,end):\n",
    "    brand=driver.find_elements(By.XPATH,'//div[@class=\"_2WkVRV\"]')\n",
    "    for i in brand:\n",
    "        bnd=i.text\n",
    "        Brand.append(bnd)\n",
    "        \n",
    "    product=driver.find_elements(By.XPATH,'//*[@id=\"container\"]/div/div[3]/div[1]/div[2]/div/div/div/div/div/a[1]')\n",
    "    for i in product:\n",
    "        prd=i.text\n",
    "        Product_Description.append(prd)\n",
    "        \n",
    "    price=driver.find_elements(By.XPATH,'//div[@class=\"_30jeq3\"]')\n",
    "    for i in price:\n",
    "        prc=i.text\n",
    "        Price.append(prc)\n",
    "        \n",
    "    nextpage=driver.find_element(By.XPATH,'/html/body/div/div/div[3]/div[1]/div[2]/div[12]/div/div/nav/a[11]')\n",
    "    nextpage.click()\n",
    "    time.sleep(3)\n",
    "    "
   ]
  },
  {
   "cell_type": "code",
   "execution_count": 40,
   "id": "ae0f0b8d",
   "metadata": {},
   "outputs": [],
   "source": [
    "Brand=Brand[0:100]\n",
    "Product_Description=Product_Description[2:102]\n",
    "Price=Price[0:100]"
   ]
  },
  {
   "cell_type": "code",
   "execution_count": 41,
   "id": "1ec2ec26",
   "metadata": {},
   "outputs": [],
   "source": [
    "sneakerdf=pd.DataFrame({'Brand':Brand,'Product Description':Product_Description,'Price':Price})"
   ]
  },
  {
   "cell_type": "code",
   "execution_count": 42,
   "id": "95ad5ecb",
   "metadata": {},
   "outputs": [
    {
     "data": {
      "text/html": [
       "<div>\n",
       "<style scoped>\n",
       "    .dataframe tbody tr th:only-of-type {\n",
       "        vertical-align: middle;\n",
       "    }\n",
       "\n",
       "    .dataframe tbody tr th {\n",
       "        vertical-align: top;\n",
       "    }\n",
       "\n",
       "    .dataframe thead th {\n",
       "        text-align: right;\n",
       "    }\n",
       "</style>\n",
       "<table border=\"1\" class=\"dataframe\">\n",
       "  <thead>\n",
       "    <tr style=\"text-align: right;\">\n",
       "      <th></th>\n",
       "      <th>Brand</th>\n",
       "      <th>Product Description</th>\n",
       "      <th>Price</th>\n",
       "    </tr>\n",
       "  </thead>\n",
       "  <tbody>\n",
       "    <tr>\n",
       "      <th>0</th>\n",
       "      <td>aadi</td>\n",
       "      <td>Synthetic Leather |Lightweight|Comfort|Summer|...</td>\n",
       "      <td>₹289</td>\n",
       "    </tr>\n",
       "    <tr>\n",
       "      <th>1</th>\n",
       "      <td>BRUTON</td>\n",
       "      <td>Combo Pack Of 2 Casual Shoes for mens Sneakers...</td>\n",
       "      <td>₹499</td>\n",
       "    </tr>\n",
       "    <tr>\n",
       "      <th>2</th>\n",
       "      <td>Deals4you</td>\n",
       "      <td>Sneakers For Women</td>\n",
       "      <td>₹439</td>\n",
       "    </tr>\n",
       "    <tr>\n",
       "      <th>3</th>\n",
       "      <td>URBANBOX</td>\n",
       "      <td>Trending Stylish Casual Outdoor Shoes For Men ...</td>\n",
       "      <td>₹299</td>\n",
       "    </tr>\n",
       "    <tr>\n",
       "      <th>4</th>\n",
       "      <td>RED TAPE</td>\n",
       "      <td>Casual Sneakers Shoes for Men | Soft Cushioned...</td>\n",
       "      <td>₹1,179</td>\n",
       "    </tr>\n",
       "  </tbody>\n",
       "</table>\n",
       "</div>"
      ],
      "text/plain": [
       "       Brand                                Product Description   Price\n",
       "0       aadi  Synthetic Leather |Lightweight|Comfort|Summer|...    ₹289\n",
       "1     BRUTON  Combo Pack Of 2 Casual Shoes for mens Sneakers...    ₹499\n",
       "2  Deals4you                                 Sneakers For Women    ₹439\n",
       "3   URBANBOX  Trending Stylish Casual Outdoor Shoes For Men ...    ₹299\n",
       "4   RED TAPE  Casual Sneakers Shoes for Men | Soft Cushioned...  ₹1,179"
      ]
     },
     "execution_count": 42,
     "metadata": {},
     "output_type": "execute_result"
    }
   ],
   "source": [
    "sneakerdf.head(5)"
   ]
  },
  {
   "cell_type": "markdown",
   "id": "f061d6fc",
   "metadata": {},
   "source": [
    "#QUESTION --> 5"
   ]
  },
  {
   "cell_type": "code",
   "execution_count": 43,
   "id": "aa251d87",
   "metadata": {},
   "outputs": [],
   "source": [
    "driver=webdriver.Chrome()"
   ]
  },
  {
   "cell_type": "code",
   "execution_count": 44,
   "id": "a4dfdd28",
   "metadata": {},
   "outputs": [],
   "source": [
    "driver.get('https://www.amazon.in/')"
   ]
  },
  {
   "cell_type": "code",
   "execution_count": 45,
   "id": "cc4b0c48",
   "metadata": {},
   "outputs": [],
   "source": [
    "product=driver.find_element(By.XPATH,'/html/body/div[1]/header/div/div[1]/div[2]/div/form/div[2]/div[1]/input')\n",
    "product.send_keys('Laptop')\n",
    "search=driver.find_element(By.XPATH,'/html/body/div[1]/header/div/div[1]/div[2]/div/form/div[3]/div/span/input')\n",
    "search.click()"
   ]
  },
  {
   "cell_type": "code",
   "execution_count": 46,
   "id": "62d639c5",
   "metadata": {},
   "outputs": [],
   "source": [
    "cpu_type=driver.find_element(By.XPATH,'/html/body/div[1]/div[1]/div[1]/div[2]/div/div[3]/span/div/div/div/div[6]/ul[19]/span/span[9]/li/span/a/span')\n",
    "cpu_type.click()"
   ]
  },
  {
   "cell_type": "code",
   "execution_count": 47,
   "id": "fe252969",
   "metadata": {},
   "outputs": [],
   "source": [
    "Title=[]\n",
    "Ratings=[]\n",
    "Price=[]"
   ]
  },
  {
   "cell_type": "code",
   "execution_count": 48,
   "id": "fc2d1eaa",
   "metadata": {},
   "outputs": [],
   "source": [
    "title=driver.find_elements(By.XPATH,'//h2[@class=\"a-size-mini a-spacing-none a-color-base s-line-clamp-2\"]')\n",
    "for i in title:\n",
    "    ttl=i.text\n",
    "    Title.append(ttl)\n",
    "    Title=Title[0:10]\n",
    "rating=driver.find_elements(By.XPATH,'//a[@class=\"a-popover-trigger a-declarative\"]')\n",
    "for i in rating:\n",
    "    rate=i.text\n",
    "    Rating.append(rate)\n",
    "    Rating=Rating[0:10]\n",
    "price=driver.find_elements(By.XPATH,'//span[@class=\"a-price-whole\"]')\n",
    "for i in price:\n",
    "    prc=i.text\n",
    "    Price.append(prc)\n",
    "    Price=Price[0:10]"
   ]
  },
  {
   "cell_type": "code",
   "execution_count": 49,
   "id": "9573ff6d",
   "metadata": {},
   "outputs": [],
   "source": [
    "Laptop=pd.DataFrame({\"Title\":Title,\"Rating\":Rating,\"Price in ₹\":Price})"
   ]
  },
  {
   "cell_type": "code",
   "execution_count": 50,
   "id": "63ae1c1d",
   "metadata": {},
   "outputs": [
    {
     "data": {
      "text/html": [
       "<div>\n",
       "<style scoped>\n",
       "    .dataframe tbody tr th:only-of-type {\n",
       "        vertical-align: middle;\n",
       "    }\n",
       "\n",
       "    .dataframe tbody tr th {\n",
       "        vertical-align: top;\n",
       "    }\n",
       "\n",
       "    .dataframe thead th {\n",
       "        text-align: right;\n",
       "    }\n",
       "</style>\n",
       "<table border=\"1\" class=\"dataframe\">\n",
       "  <thead>\n",
       "    <tr style=\"text-align: right;\">\n",
       "      <th></th>\n",
       "      <th>Title</th>\n",
       "      <th>Rating</th>\n",
       "      <th>Price in ₹</th>\n",
       "    </tr>\n",
       "  </thead>\n",
       "  <tbody>\n",
       "    <tr>\n",
       "      <th>0</th>\n",
       "      <td>Lenovo IdeaPad Slim 3 Intel Core i7 12th Gen 1...</td>\n",
       "      <td>5</td>\n",
       "      <td>69,990</td>\n",
       "    </tr>\n",
       "    <tr>\n",
       "      <th>1</th>\n",
       "      <td>MSI Modern 14, Intel 12th Gen. i7-1255U, 36CM ...</td>\n",
       "      <td>5</td>\n",
       "      <td>62,990</td>\n",
       "    </tr>\n",
       "    <tr>\n",
       "      <th>2</th>\n",
       "      <td>MSI Modern 14, Intel 12th Gen. i7-1255U, 36CM ...</td>\n",
       "      <td>5</td>\n",
       "      <td>49,990</td>\n",
       "    </tr>\n",
       "    <tr>\n",
       "      <th>3</th>\n",
       "      <td>Lenovo IdeaPad Slim 3 Intel Core i7 12th Gen 1...</td>\n",
       "      <td>5</td>\n",
       "      <td>49,990</td>\n",
       "    </tr>\n",
       "    <tr>\n",
       "      <th>4</th>\n",
       "      <td>ASUS TUF Gaming F15, 15.6\"(39.62 cms) FHD 144H...</td>\n",
       "      <td>5</td>\n",
       "      <td>62,990</td>\n",
       "    </tr>\n",
       "    <tr>\n",
       "      <th>5</th>\n",
       "      <td>Acer Travelmate Business Laptop Intel Core i7-...</td>\n",
       "      <td>5</td>\n",
       "      <td>74,990</td>\n",
       "    </tr>\n",
       "    <tr>\n",
       "      <th>6</th>\n",
       "      <td>ASUS Vivobook 15, Intel Core i7-12650H 12th Ge...</td>\n",
       "      <td>5</td>\n",
       "      <td>1,19,990</td>\n",
       "    </tr>\n",
       "    <tr>\n",
       "      <th>7</th>\n",
       "      <td>HP Pavilion X360 11th Gen Intel Core i7 14\" (3...</td>\n",
       "      <td>5</td>\n",
       "      <td>49,990</td>\n",
       "    </tr>\n",
       "    <tr>\n",
       "      <th>8</th>\n",
       "      <td>HP Victus Gaming Laptop, 12th Gen Intel Core i...</td>\n",
       "      <td>5</td>\n",
       "      <td>59,990</td>\n",
       "    </tr>\n",
       "    <tr>\n",
       "      <th>9</th>\n",
       "      <td>HP Pavilion 14 12th Gen Intel Core i7 16GB SDR...</td>\n",
       "      <td>5</td>\n",
       "      <td>67,990</td>\n",
       "    </tr>\n",
       "  </tbody>\n",
       "</table>\n",
       "</div>"
      ],
      "text/plain": [
       "                                               Title Rating Price in ₹\n",
       "0  Lenovo IdeaPad Slim 3 Intel Core i7 12th Gen 1...      5     69,990\n",
       "1  MSI Modern 14, Intel 12th Gen. i7-1255U, 36CM ...      5     62,990\n",
       "2  MSI Modern 14, Intel 12th Gen. i7-1255U, 36CM ...      5     49,990\n",
       "3  Lenovo IdeaPad Slim 3 Intel Core i7 12th Gen 1...      5     49,990\n",
       "4  ASUS TUF Gaming F15, 15.6\"(39.62 cms) FHD 144H...      5     62,990\n",
       "5  Acer Travelmate Business Laptop Intel Core i7-...      5     74,990\n",
       "6  ASUS Vivobook 15, Intel Core i7-12650H 12th Ge...      5   1,19,990\n",
       "7  HP Pavilion X360 11th Gen Intel Core i7 14\" (3...      5     49,990\n",
       "8  HP Victus Gaming Laptop, 12th Gen Intel Core i...      5     59,990\n",
       "9  HP Pavilion 14 12th Gen Intel Core i7 16GB SDR...      5     67,990"
      ]
     },
     "execution_count": 50,
     "metadata": {},
     "output_type": "execute_result"
    }
   ],
   "source": [
    "Laptop"
   ]
  },
  {
   "cell_type": "markdown",
   "id": "bc5567fb",
   "metadata": {},
   "source": [
    "#QUESTION -->6"
   ]
  },
  {
   "cell_type": "code",
   "execution_count": 51,
   "id": "76d97b96",
   "metadata": {},
   "outputs": [],
   "source": [
    "driver=webdriver.Chrome()"
   ]
  },
  {
   "cell_type": "code",
   "execution_count": 52,
   "id": "fbabff58",
   "metadata": {},
   "outputs": [],
   "source": [
    "driver.get('https://www.azquotes.com/')"
   ]
  },
  {
   "cell_type": "code",
   "execution_count": 57,
   "id": "ca148d8c",
   "metadata": {},
   "outputs": [],
   "source": [
    "Quote=[]\n",
    "Author=[]\n",
    "Types_of_Quote=[]"
   ]
  },
  {
   "cell_type": "code",
   "execution_count": 59,
   "id": "276926b3",
   "metadata": {},
   "outputs": [
    {
     "ename": "NoSuchElementException",
     "evalue": "Message: no such element: Unable to locate element: {\"method\":\"xpath\",\"selector\":\"/html/body/div/div[2]/div/div/div/div[1]/div/div[3]/li[13]/a\"}\n  (Session info: chrome=122.0.6261.112); For documentation on this error, please visit: https://www.selenium.dev/documentation/webdriver/troubleshooting/errors#no-such-element-exception\nStacktrace:\n\tGetHandleVerifier [0x00007FF77E41AD32+56930]\n\t(No symbol) [0x00007FF77E38F632]\n\t(No symbol) [0x00007FF77E2442E5]\n\t(No symbol) [0x00007FF77E2898ED]\n\t(No symbol) [0x00007FF77E289A2C]\n\t(No symbol) [0x00007FF77E2CA967]\n\t(No symbol) [0x00007FF77E2ABCDF]\n\t(No symbol) [0x00007FF77E2C81E2]\n\t(No symbol) [0x00007FF77E2ABA43]\n\t(No symbol) [0x00007FF77E27D438]\n\t(No symbol) [0x00007FF77E27E4D1]\n\tGetHandleVerifier [0x00007FF77E796ABD+3709933]\n\tGetHandleVerifier [0x00007FF77E7EFFFD+4075821]\n\tGetHandleVerifier [0x00007FF77E7E818F+4043455]\n\tGetHandleVerifier [0x00007FF77E4B9766+706710]\n\t(No symbol) [0x00007FF77E39B90F]\n\t(No symbol) [0x00007FF77E396AF4]\n\t(No symbol) [0x00007FF77E396C4C]\n\t(No symbol) [0x00007FF77E386904]\n\tBaseThreadInitThunk [0x00007FFF68D67344+20]\n\tRtlUserThreadStart [0x00007FFF693426B1+33]\n",
     "output_type": "error",
     "traceback": [
      "\u001b[1;31m---------------------------------------------------------------------------\u001b[0m",
      "\u001b[1;31mNoSuchElementException\u001b[0m                    Traceback (most recent call last)",
      "Cell \u001b[1;32mIn[59], line 19\u001b[0m\n\u001b[0;32m     16\u001b[0m     \u001b[38;5;28mtype\u001b[39m\u001b[38;5;241m=\u001b[39mi\u001b[38;5;241m.\u001b[39mtext\n\u001b[0;32m     17\u001b[0m     Types_of_Quote\u001b[38;5;241m.\u001b[39mappend(\u001b[38;5;28mtype\u001b[39m)\n\u001b[1;32m---> 19\u001b[0m nextpage\u001b[38;5;241m=\u001b[39mdriver\u001b[38;5;241m.\u001b[39mfind_element(By\u001b[38;5;241m.\u001b[39mXPATH,\u001b[38;5;124m'\u001b[39m\u001b[38;5;124m/html/body/div/div[2]/div/div/div/div[1]/div/div[3]/li[13]/a\u001b[39m\u001b[38;5;124m'\u001b[39m)\n\u001b[0;32m     20\u001b[0m nextpage\u001b[38;5;241m.\u001b[39mclick()\n\u001b[0;32m     21\u001b[0m time\u001b[38;5;241m.\u001b[39msleep(\u001b[38;5;241m3\u001b[39m)\n",
      "File \u001b[1;32m~\\anaconda3\\Lib\\site-packages\\selenium\\webdriver\\remote\\webdriver.py:741\u001b[0m, in \u001b[0;36mWebDriver.find_element\u001b[1;34m(self, by, value)\u001b[0m\n\u001b[0;32m    738\u001b[0m     by \u001b[38;5;241m=\u001b[39m By\u001b[38;5;241m.\u001b[39mCSS_SELECTOR\n\u001b[0;32m    739\u001b[0m     value \u001b[38;5;241m=\u001b[39m \u001b[38;5;124mf\u001b[39m\u001b[38;5;124m'\u001b[39m\u001b[38;5;124m[name=\u001b[39m\u001b[38;5;124m\"\u001b[39m\u001b[38;5;132;01m{\u001b[39;00mvalue\u001b[38;5;132;01m}\u001b[39;00m\u001b[38;5;124m\"\u001b[39m\u001b[38;5;124m]\u001b[39m\u001b[38;5;124m'\u001b[39m\n\u001b[1;32m--> 741\u001b[0m \u001b[38;5;28;01mreturn\u001b[39;00m \u001b[38;5;28mself\u001b[39m\u001b[38;5;241m.\u001b[39mexecute(Command\u001b[38;5;241m.\u001b[39mFIND_ELEMENT, {\u001b[38;5;124m\"\u001b[39m\u001b[38;5;124musing\u001b[39m\u001b[38;5;124m\"\u001b[39m: by, \u001b[38;5;124m\"\u001b[39m\u001b[38;5;124mvalue\u001b[39m\u001b[38;5;124m\"\u001b[39m: value})[\u001b[38;5;124m\"\u001b[39m\u001b[38;5;124mvalue\u001b[39m\u001b[38;5;124m\"\u001b[39m]\n",
      "File \u001b[1;32m~\\anaconda3\\Lib\\site-packages\\selenium\\webdriver\\remote\\webdriver.py:347\u001b[0m, in \u001b[0;36mWebDriver.execute\u001b[1;34m(self, driver_command, params)\u001b[0m\n\u001b[0;32m    345\u001b[0m response \u001b[38;5;241m=\u001b[39m \u001b[38;5;28mself\u001b[39m\u001b[38;5;241m.\u001b[39mcommand_executor\u001b[38;5;241m.\u001b[39mexecute(driver_command, params)\n\u001b[0;32m    346\u001b[0m \u001b[38;5;28;01mif\u001b[39;00m response:\n\u001b[1;32m--> 347\u001b[0m     \u001b[38;5;28mself\u001b[39m\u001b[38;5;241m.\u001b[39merror_handler\u001b[38;5;241m.\u001b[39mcheck_response(response)\n\u001b[0;32m    348\u001b[0m     response[\u001b[38;5;124m\"\u001b[39m\u001b[38;5;124mvalue\u001b[39m\u001b[38;5;124m\"\u001b[39m] \u001b[38;5;241m=\u001b[39m \u001b[38;5;28mself\u001b[39m\u001b[38;5;241m.\u001b[39m_unwrap_value(response\u001b[38;5;241m.\u001b[39mget(\u001b[38;5;124m\"\u001b[39m\u001b[38;5;124mvalue\u001b[39m\u001b[38;5;124m\"\u001b[39m, \u001b[38;5;28;01mNone\u001b[39;00m))\n\u001b[0;32m    349\u001b[0m     \u001b[38;5;28;01mreturn\u001b[39;00m response\n",
      "File \u001b[1;32m~\\anaconda3\\Lib\\site-packages\\selenium\\webdriver\\remote\\errorhandler.py:229\u001b[0m, in \u001b[0;36mErrorHandler.check_response\u001b[1;34m(self, response)\u001b[0m\n\u001b[0;32m    227\u001b[0m         alert_text \u001b[38;5;241m=\u001b[39m value[\u001b[38;5;124m\"\u001b[39m\u001b[38;5;124malert\u001b[39m\u001b[38;5;124m\"\u001b[39m]\u001b[38;5;241m.\u001b[39mget(\u001b[38;5;124m\"\u001b[39m\u001b[38;5;124mtext\u001b[39m\u001b[38;5;124m\"\u001b[39m)\n\u001b[0;32m    228\u001b[0m     \u001b[38;5;28;01mraise\u001b[39;00m exception_class(message, screen, stacktrace, alert_text)  \u001b[38;5;66;03m# type: ignore[call-arg]  # mypy is not smart enough here\u001b[39;00m\n\u001b[1;32m--> 229\u001b[0m \u001b[38;5;28;01mraise\u001b[39;00m exception_class(message, screen, stacktrace)\n",
      "\u001b[1;31mNoSuchElementException\u001b[0m: Message: no such element: Unable to locate element: {\"method\":\"xpath\",\"selector\":\"/html/body/div/div[2]/div/div/div/div[1]/div/div[3]/li[13]/a\"}\n  (Session info: chrome=122.0.6261.112); For documentation on this error, please visit: https://www.selenium.dev/documentation/webdriver/troubleshooting/errors#no-such-element-exception\nStacktrace:\n\tGetHandleVerifier [0x00007FF77E41AD32+56930]\n\t(No symbol) [0x00007FF77E38F632]\n\t(No symbol) [0x00007FF77E2442E5]\n\t(No symbol) [0x00007FF77E2898ED]\n\t(No symbol) [0x00007FF77E289A2C]\n\t(No symbol) [0x00007FF77E2CA967]\n\t(No symbol) [0x00007FF77E2ABCDF]\n\t(No symbol) [0x00007FF77E2C81E2]\n\t(No symbol) [0x00007FF77E2ABA43]\n\t(No symbol) [0x00007FF77E27D438]\n\t(No symbol) [0x00007FF77E27E4D1]\n\tGetHandleVerifier [0x00007FF77E796ABD+3709933]\n\tGetHandleVerifier [0x00007FF77E7EFFFD+4075821]\n\tGetHandleVerifier [0x00007FF77E7E818F+4043455]\n\tGetHandleVerifier [0x00007FF77E4B9766+706710]\n\t(No symbol) [0x00007FF77E39B90F]\n\t(No symbol) [0x00007FF77E396AF4]\n\t(No symbol) [0x00007FF77E396C4C]\n\t(No symbol) [0x00007FF77E386904]\n\tBaseThreadInitThunk [0x00007FFF68D67344+20]\n\tRtlUserThreadStart [0x00007FFF693426B1+33]\n"
     ]
    }
   ],
   "source": [
    "start=0\n",
    "end=10\n",
    "for page in range(start,end):\n",
    "    quote=driver.find_elements(By.XPATH,'//a[@class=\"title\"]')\n",
    "    for i in quote:\n",
    "        quotee=i.text\n",
    "        Quote.append(quotee)\n",
    "    \n",
    "    author=driver.find_elements(By.XPATH,'//div[@class=\"author\"]')\n",
    "    for i in author:\n",
    "        athr=i.text\n",
    "        Author.append(athr)\n",
    "        \n",
    "    Type=driver.find_elements(By.XPATH,'//div[@class=\"tags\"]')\n",
    "    for i in Type:\n",
    "        type=i.text\n",
    "        Types_of_Quote.append(type)\n",
    "        \n",
    "    nextpage=driver.find_element(By.XPATH,'/html/body/div/div[2]/div/div/div/div[1]/div/div[3]/li[13]/a')\n",
    "    nextpage.click()\n",
    "    time.sleep(3)"
   ]
  },
  {
   "cell_type": "code",
   "execution_count": 60,
   "id": "e58e15fa",
   "metadata": {},
   "outputs": [],
   "source": [
    "Quote=Quote[0:1000]\n",
    "Author=Author[0:1000]\n",
    "Types_of_Quote=Types_of_Quote[0:1000]"
   ]
  },
  {
   "cell_type": "code",
   "execution_count": 61,
   "id": "6d2b8788",
   "metadata": {},
   "outputs": [
    {
     "name": "stdout",
     "output_type": "stream",
     "text": [
      "1000 1000 1000\n"
     ]
    }
   ],
   "source": [
    "print(len(Quote),len(Author),len(Types_of_Quote))"
   ]
  },
  {
   "cell_type": "code",
   "execution_count": 62,
   "id": "46348611",
   "metadata": {},
   "outputs": [],
   "source": [
    "df=pd.DataFrame({\"Quote\":Quote,\"Author\":Author,\"Types_of_Quotes\":Types_of_Quote})"
   ]
  },
  {
   "cell_type": "code",
   "execution_count": 63,
   "id": "9fac01bf",
   "metadata": {},
   "outputs": [
    {
     "data": {
      "text/html": [
       "<div>\n",
       "<style scoped>\n",
       "    .dataframe tbody tr th:only-of-type {\n",
       "        vertical-align: middle;\n",
       "    }\n",
       "\n",
       "    .dataframe tbody tr th {\n",
       "        vertical-align: top;\n",
       "    }\n",
       "\n",
       "    .dataframe thead th {\n",
       "        text-align: right;\n",
       "    }\n",
       "</style>\n",
       "<table border=\"1\" class=\"dataframe\">\n",
       "  <thead>\n",
       "    <tr style=\"text-align: right;\">\n",
       "      <th></th>\n",
       "      <th>Quote</th>\n",
       "      <th>Author</th>\n",
       "      <th>Types_of_Quotes</th>\n",
       "    </tr>\n",
       "  </thead>\n",
       "  <tbody>\n",
       "    <tr>\n",
       "      <th>0</th>\n",
       "      <td>Can words describe the fragrance of the very b...</td>\n",
       "      <td>Neltje Blanchan</td>\n",
       "      <td>Spring, April, Fragrance</td>\n",
       "    </tr>\n",
       "    <tr>\n",
       "      <th>1</th>\n",
       "      <td>Faith is to believe what you do not see; the r...</td>\n",
       "      <td>Saint Augustine</td>\n",
       "      <td>Inspirational, Faith, Spiritual</td>\n",
       "    </tr>\n",
       "    <tr>\n",
       "      <th>2</th>\n",
       "      <td>When everything seems to be going against you,...</td>\n",
       "      <td>Henry Ford</td>\n",
       "      <td>Inspirational, Motivational, Positive</td>\n",
       "    </tr>\n",
       "    <tr>\n",
       "      <th>3</th>\n",
       "      <td>I have found that if you love life, life will ...</td>\n",
       "      <td>Arthur Rubinstein</td>\n",
       "      <td>Love, Inspirational, Life</td>\n",
       "    </tr>\n",
       "    <tr>\n",
       "      <th>4</th>\n",
       "      <td>To disarm the people... was the best and most ...</td>\n",
       "      <td>George Mason</td>\n",
       "      <td>Strength, Peace, Gun</td>\n",
       "    </tr>\n",
       "    <tr>\n",
       "      <th>...</th>\n",
       "      <td>...</td>\n",
       "      <td>...</td>\n",
       "      <td>...</td>\n",
       "    </tr>\n",
       "    <tr>\n",
       "      <th>995</th>\n",
       "      <td>To love means loving the unlovable. To forgive...</td>\n",
       "      <td>Gilbert K. Chesterton</td>\n",
       "      <td>Love, Inspirational, Success</td>\n",
       "    </tr>\n",
       "    <tr>\n",
       "      <th>996</th>\n",
       "      <td>Be brave. Take risks. Nothing can substitute e...</td>\n",
       "      <td>Paulo Coelho</td>\n",
       "      <td>Encouraging, Courage, Inspiration</td>\n",
       "    </tr>\n",
       "    <tr>\n",
       "      <th>997</th>\n",
       "      <td>If you really want to do something, you'll fin...</td>\n",
       "      <td>Jim Rohn</td>\n",
       "      <td>Inspirational, Motivational, Success</td>\n",
       "    </tr>\n",
       "    <tr>\n",
       "      <th>998</th>\n",
       "      <td>It is neither wealth nor splendor; but tranqui...</td>\n",
       "      <td>Thomas Jefferson</td>\n",
       "      <td>Life, Happiness, Work</td>\n",
       "    </tr>\n",
       "    <tr>\n",
       "      <th>999</th>\n",
       "      <td>A thousand words will not leave so deep an imp...</td>\n",
       "      <td>Henrik Ibsen</td>\n",
       "      <td>Inspirational, Inspiring, Positivity</td>\n",
       "    </tr>\n",
       "  </tbody>\n",
       "</table>\n",
       "<p>1000 rows × 3 columns</p>\n",
       "</div>"
      ],
      "text/plain": [
       "                                                 Quote                 Author  \\\n",
       "0    Can words describe the fragrance of the very b...        Neltje Blanchan   \n",
       "1    Faith is to believe what you do not see; the r...        Saint Augustine   \n",
       "2    When everything seems to be going against you,...             Henry Ford   \n",
       "3    I have found that if you love life, life will ...      Arthur Rubinstein   \n",
       "4    To disarm the people... was the best and most ...           George Mason   \n",
       "..                                                 ...                    ...   \n",
       "995  To love means loving the unlovable. To forgive...  Gilbert K. Chesterton   \n",
       "996  Be brave. Take risks. Nothing can substitute e...           Paulo Coelho   \n",
       "997  If you really want to do something, you'll fin...               Jim Rohn   \n",
       "998  It is neither wealth nor splendor; but tranqui...       Thomas Jefferson   \n",
       "999  A thousand words will not leave so deep an imp...           Henrik Ibsen   \n",
       "\n",
       "                           Types_of_Quotes  \n",
       "0                 Spring, April, Fragrance  \n",
       "1          Inspirational, Faith, Spiritual  \n",
       "2    Inspirational, Motivational, Positive  \n",
       "3                Love, Inspirational, Life  \n",
       "4                     Strength, Peace, Gun  \n",
       "..                                     ...  \n",
       "995           Love, Inspirational, Success  \n",
       "996      Encouraging, Courage, Inspiration  \n",
       "997   Inspirational, Motivational, Success  \n",
       "998                  Life, Happiness, Work  \n",
       "999   Inspirational, Inspiring, Positivity  \n",
       "\n",
       "[1000 rows x 3 columns]"
      ]
     },
     "execution_count": 63,
     "metadata": {},
     "output_type": "execute_result"
    }
   ],
   "source": [
    "df"
   ]
  },
  {
   "cell_type": "markdown",
   "id": "3b1e6a47",
   "metadata": {},
   "source": [
    "#QUESTION --> 7"
   ]
  },
  {
   "cell_type": "code",
   "execution_count": 65,
   "id": "490917ee",
   "metadata": {},
   "outputs": [],
   "source": [
    "driver=webdriver.Chrome()"
   ]
  },
  {
   "cell_type": "code",
   "execution_count": 66,
   "id": "2d43c631",
   "metadata": {},
   "outputs": [],
   "source": [
    "driver.get('https://www.jagranjosh.com/general-knowledge/list-of-all-prime-ministers-of-india-1473165149-1')"
   ]
  },
  {
   "cell_type": "code",
   "execution_count": 89,
   "id": "51c87574",
   "metadata": {},
   "outputs": [],
   "source": [
    "Name=[]\n",
    "Born_Dead=[]\n",
    "Term_of_office=[]\n",
    "Remarks=[]"
   ]
  },
  {
   "cell_type": "code",
   "execution_count": 90,
   "id": "bf80f509",
   "metadata": {},
   "outputs": [],
   "source": [
    "name=driver.find_elements(By.XPATH,'//*[@id=\"itemdiv\"]/div[3]/div[6]/div/table/tbody/tr/td[2]/div')\n",
    "for i in name:\n",
    "    namee=i.text\n",
    "    Name.append(namee)\n",
    "    \n",
    "born_dead=driver.find_elements(By.XPATH,'//*[@id=\"itemdiv\"]/div[3]/div[6]/div/table/tbody/tr/td[3]/div')\n",
    "for i in born_dead:\n",
    "    bd=i.text\n",
    "    Born_Dead.append(bd)\n",
    "    \n",
    "term=driver.find_elements(By.XPATH,'//*[@id=\"itemdiv\"]/div[3]/div[6]/div/table/tbody/tr/td[4]')\n",
    "for i in term:\n",
    "    trm=i.text\n",
    "    Term_of_office.append(trm)\n",
    "    \n",
    "remark=driver.find_elements(By.XPATH,'//*[@id=\"itemdiv\"]/div[3]/div[6]/div/table/tbody/tr/td[5]')\n",
    "for i in remark:\n",
    "    rem=i.text\n",
    "    Remarks.append(rem)"
   ]
  },
  {
   "cell_type": "code",
   "execution_count": 91,
   "id": "94145baf",
   "metadata": {},
   "outputs": [],
   "source": [
    "Prime_Minister_DF=pd.DataFrame({\"Name\":Name,'Born-Dead':Born_Dead,'Term of Office':Term_of_office,'Remarks':Remarks})"
   ]
  },
  {
   "cell_type": "code",
   "execution_count": 92,
   "id": "b6e0b423",
   "metadata": {},
   "outputs": [
    {
     "data": {
      "text/html": [
       "<div>\n",
       "<style scoped>\n",
       "    .dataframe tbody tr th:only-of-type {\n",
       "        vertical-align: middle;\n",
       "    }\n",
       "\n",
       "    .dataframe tbody tr th {\n",
       "        vertical-align: top;\n",
       "    }\n",
       "\n",
       "    .dataframe thead th {\n",
       "        text-align: right;\n",
       "    }\n",
       "</style>\n",
       "<table border=\"1\" class=\"dataframe\">\n",
       "  <thead>\n",
       "    <tr style=\"text-align: right;\">\n",
       "      <th></th>\n",
       "      <th>Name</th>\n",
       "      <th>Born-Dead</th>\n",
       "      <th>Term of Office</th>\n",
       "      <th>Remarks</th>\n",
       "    </tr>\n",
       "  </thead>\n",
       "  <tbody>\n",
       "    <tr>\n",
       "      <th>0</th>\n",
       "      <td>Jawahar Lal Nehru</td>\n",
       "      <td>(1889–1964)</td>\n",
       "      <td>15 August 1947 to 27 May 1964\\n16 years, 286 days</td>\n",
       "      <td>The first prime minister of India and the long...</td>\n",
       "    </tr>\n",
       "    <tr>\n",
       "      <th>1</th>\n",
       "      <td>Gulzarilal Nanda (Acting)</td>\n",
       "      <td>(1898-1998)</td>\n",
       "      <td>27 May 1964 to 9 June 1964,\\n13 days</td>\n",
       "      <td>First acting PM of India</td>\n",
       "    </tr>\n",
       "    <tr>\n",
       "      <th>2</th>\n",
       "      <td>Lal Bahadur Shastri</td>\n",
       "      <td>(1904–1966)</td>\n",
       "      <td>9 June 1964 to 11 January 1966\\n1 year, 216 days</td>\n",
       "      <td>He has given the slogan of 'Jai Jawan Jai Kisa...</td>\n",
       "    </tr>\n",
       "    <tr>\n",
       "      <th>3</th>\n",
       "      <td>Gulzari Lal Nanda  (Acting)</td>\n",
       "      <td>(1898-1998)</td>\n",
       "      <td>11 January 1966 to 24 January 1966\\n13 days</td>\n",
       "      <td>-</td>\n",
       "    </tr>\n",
       "    <tr>\n",
       "      <th>4</th>\n",
       "      <td>Indira Gandhi</td>\n",
       "      <td>(1917–1984)</td>\n",
       "      <td>24 January 1966 to 24 March 1977\\n11 years, 59...</td>\n",
       "      <td>First female Prime Minister of India</td>\n",
       "    </tr>\n",
       "    <tr>\n",
       "      <th>5</th>\n",
       "      <td>Morarji Desai</td>\n",
       "      <td>(1896–1995)</td>\n",
       "      <td>24 March 1977 to  28 July 1979 \\n2 year, 126 days</td>\n",
       "      <td>Oldest to become PM (81 years old) and first t...</td>\n",
       "    </tr>\n",
       "    <tr>\n",
       "      <th>6</th>\n",
       "      <td>Charan Singh</td>\n",
       "      <td>(1902–1987)</td>\n",
       "      <td>28 July 1979 to 14 January 1980\\n170 days</td>\n",
       "      <td>Only PM who did not face the Parliament</td>\n",
       "    </tr>\n",
       "    <tr>\n",
       "      <th>7</th>\n",
       "      <td>Indira Gandhi</td>\n",
       "      <td>(1917–1984)</td>\n",
       "      <td>14 January 1980 to 31 October 1984\\n4 years, 2...</td>\n",
       "      <td>The first lady who served as PM for the second...</td>\n",
       "    </tr>\n",
       "    <tr>\n",
       "      <th>8</th>\n",
       "      <td>Rajiv Gandhi</td>\n",
       "      <td>(1944–1991)</td>\n",
       "      <td>31 October 1984 to 2 December 1989\\n5 years, 3...</td>\n",
       "      <td>Youngest to become PM (40 years old)</td>\n",
       "    </tr>\n",
       "    <tr>\n",
       "      <th>9</th>\n",
       "      <td>V. P. Singh</td>\n",
       "      <td>(1931–2008)</td>\n",
       "      <td>2 December 1989 to 10 November 1990\\n343 days</td>\n",
       "      <td>First PM to step down after a vote of no confi...</td>\n",
       "    </tr>\n",
       "    <tr>\n",
       "      <th>10</th>\n",
       "      <td>Chandra Shekhar</td>\n",
       "      <td>(1927–2007)</td>\n",
       "      <td>10 November 1990 to 21 June 1991\\n223 days</td>\n",
       "      <td>He belongs to  Samajwadi Janata Party</td>\n",
       "    </tr>\n",
       "    <tr>\n",
       "      <th>11</th>\n",
       "      <td>P. V. Narasimha Rao</td>\n",
       "      <td>(1921–2004)</td>\n",
       "      <td>21 June 1991 to 16 May 1996\\n4 years, 330 days</td>\n",
       "      <td>First PM from South India</td>\n",
       "    </tr>\n",
       "    <tr>\n",
       "      <th>12</th>\n",
       "      <td>Atal Bihari Vajpayee</td>\n",
       "      <td>(1924- 2018)</td>\n",
       "      <td>16 May 1996 to 1 June 1996\\n16 days</td>\n",
       "      <td>PM for shortest tenure</td>\n",
       "    </tr>\n",
       "    <tr>\n",
       "      <th>13</th>\n",
       "      <td>H. D. Deve Gowda</td>\n",
       "      <td>(born 1933)</td>\n",
       "      <td>1 June 1996 to 21 April 1997\\n324 days</td>\n",
       "      <td>He belongs to  Janata Dal</td>\n",
       "    </tr>\n",
       "    <tr>\n",
       "      <th>14</th>\n",
       "      <td>Inder Kumar Gujral</td>\n",
       "      <td>(1919–2012)</td>\n",
       "      <td>21 April 1997 to 19 March 1998 \\n332 days</td>\n",
       "      <td>------</td>\n",
       "    </tr>\n",
       "    <tr>\n",
       "      <th>15</th>\n",
       "      <td>Atal Bihari Vajpayee</td>\n",
       "      <td>(1924-2018)</td>\n",
       "      <td>19 March 1998 to 22 May 2004 \\n6 years, 64 days</td>\n",
       "      <td>The first non-congress PM who completed a ful...</td>\n",
       "    </tr>\n",
       "    <tr>\n",
       "      <th>16</th>\n",
       "      <td>Manmohan Singh</td>\n",
       "      <td>(born 1932)</td>\n",
       "      <td>22 May 2004 to 26 May 2014   \\n10 years, 4 days</td>\n",
       "      <td>First Sikh PM</td>\n",
       "    </tr>\n",
       "    <tr>\n",
       "      <th>17</th>\n",
       "      <td>Narendra Modi</td>\n",
       "      <td>(born 1950)</td>\n",
       "      <td>26 May 2014 - 2019</td>\n",
       "      <td>4th Prime Minister of India who served two con...</td>\n",
       "    </tr>\n",
       "    <tr>\n",
       "      <th>18</th>\n",
       "      <td>Narendra Modi</td>\n",
       "      <td>(born 1950)</td>\n",
       "      <td>30 May 2019- Incumbent</td>\n",
       "      <td>First non-congress PM with two consecutive ten...</td>\n",
       "    </tr>\n",
       "  </tbody>\n",
       "</table>\n",
       "</div>"
      ],
      "text/plain": [
       "                           Name     Born-Dead  \\\n",
       "0             Jawahar Lal Nehru   (1889–1964)   \n",
       "1     Gulzarilal Nanda (Acting)   (1898-1998)   \n",
       "2           Lal Bahadur Shastri   (1904–1966)   \n",
       "3   Gulzari Lal Nanda  (Acting)   (1898-1998)   \n",
       "4                 Indira Gandhi   (1917–1984)   \n",
       "5                 Morarji Desai   (1896–1995)   \n",
       "6                  Charan Singh   (1902–1987)   \n",
       "7                 Indira Gandhi   (1917–1984)   \n",
       "8                  Rajiv Gandhi   (1944–1991)   \n",
       "9                   V. P. Singh   (1931–2008)   \n",
       "10              Chandra Shekhar   (1927–2007)   \n",
       "11          P. V. Narasimha Rao   (1921–2004)   \n",
       "12         Atal Bihari Vajpayee  (1924- 2018)   \n",
       "13             H. D. Deve Gowda   (born 1933)   \n",
       "14           Inder Kumar Gujral   (1919–2012)   \n",
       "15         Atal Bihari Vajpayee   (1924-2018)   \n",
       "16               Manmohan Singh   (born 1932)   \n",
       "17                Narendra Modi   (born 1950)   \n",
       "18                Narendra Modi   (born 1950)   \n",
       "\n",
       "                                       Term of Office  \\\n",
       "0   15 August 1947 to 27 May 1964\\n16 years, 286 days   \n",
       "1                27 May 1964 to 9 June 1964,\\n13 days   \n",
       "2    9 June 1964 to 11 January 1966\\n1 year, 216 days   \n",
       "3         11 January 1966 to 24 January 1966\\n13 days   \n",
       "4   24 January 1966 to 24 March 1977\\n11 years, 59...   \n",
       "5   24 March 1977 to  28 July 1979 \\n2 year, 126 days   \n",
       "6           28 July 1979 to 14 January 1980\\n170 days   \n",
       "7   14 January 1980 to 31 October 1984\\n4 years, 2...   \n",
       "8   31 October 1984 to 2 December 1989\\n5 years, 3...   \n",
       "9       2 December 1989 to 10 November 1990\\n343 days   \n",
       "10         10 November 1990 to 21 June 1991\\n223 days   \n",
       "11     21 June 1991 to 16 May 1996\\n4 years, 330 days   \n",
       "12                16 May 1996 to 1 June 1996\\n16 days   \n",
       "13             1 June 1996 to 21 April 1997\\n324 days   \n",
       "14          21 April 1997 to 19 March 1998 \\n332 days   \n",
       "15    19 March 1998 to 22 May 2004 \\n6 years, 64 days   \n",
       "16    22 May 2004 to 26 May 2014   \\n10 years, 4 days   \n",
       "17                                 26 May 2014 - 2019   \n",
       "18                             30 May 2019- Incumbent   \n",
       "\n",
       "                                              Remarks  \n",
       "0   The first prime minister of India and the long...  \n",
       "1                            First acting PM of India  \n",
       "2   He has given the slogan of 'Jai Jawan Jai Kisa...  \n",
       "3                                                   -  \n",
       "4                First female Prime Minister of India  \n",
       "5   Oldest to become PM (81 years old) and first t...  \n",
       "6             Only PM who did not face the Parliament  \n",
       "7   The first lady who served as PM for the second...  \n",
       "8                Youngest to become PM (40 years old)  \n",
       "9   First PM to step down after a vote of no confi...  \n",
       "10              He belongs to  Samajwadi Janata Party  \n",
       "11                          First PM from South India  \n",
       "12                             PM for shortest tenure  \n",
       "13                          He belongs to  Janata Dal  \n",
       "14                                             ------  \n",
       "15   The first non-congress PM who completed a ful...  \n",
       "16                                      First Sikh PM  \n",
       "17  4th Prime Minister of India who served two con...  \n",
       "18  First non-congress PM with two consecutive ten...  "
      ]
     },
     "execution_count": 92,
     "metadata": {},
     "output_type": "execute_result"
    }
   ],
   "source": [
    "Prime_Minister_DF"
   ]
  },
  {
   "cell_type": "markdown",
   "id": "c8c957b5",
   "metadata": {},
   "source": [
    "#QUESTION --> 8"
   ]
  },
  {
   "cell_type": "code",
   "execution_count": 93,
   "id": "6f799574",
   "metadata": {},
   "outputs": [],
   "source": [
    "driver=webdriver.Chrome()"
   ]
  },
  {
   "cell_type": "code",
   "execution_count": 94,
   "id": "6795c328",
   "metadata": {},
   "outputs": [],
   "source": [
    "driver.get('https://www.motor1.com')"
   ]
  },
  {
   "cell_type": "code",
   "execution_count": 95,
   "id": "72631c01",
   "metadata": {},
   "outputs": [],
   "source": [
    "cars=driver.find_element(By.XPATH,'/html/body/div[9]/div[2]/div/div/div[3]/div/div/button')\n",
    "cars.send_keys('50 most expensive cars')"
   ]
  },
  {
   "cell_type": "code",
   "execution_count": 97,
   "id": "5b4a14aa",
   "metadata": {},
   "outputs": [],
   "source": [
    "search=driver.find_element(By.XPATH,'/html/body/div[9]/div[2]/div/div/div[3]/div/div/div/form/button[1]')\n",
    "search.click()"
   ]
  },
  {
   "cell_type": "code",
   "execution_count": 98,
   "id": "d0f3924f",
   "metadata": {},
   "outputs": [],
   "source": [
    "carsearch=driver.find_element(By.XPATH,'/html/body/div[9]/div[9]/div[3]/div[1]/div/div/div[2]')\n",
    "carsearch.click()"
   ]
  },
  {
   "cell_type": "code",
   "execution_count": 99,
   "id": "815a4c49",
   "metadata": {},
   "outputs": [],
   "source": [
    "CAR_NAME=[]\n",
    "PRICE=[]"
   ]
  },
  {
   "cell_type": "code",
   "execution_count": 100,
   "id": "cec8648e",
   "metadata": {},
   "outputs": [],
   "source": [
    "name=driver.find_elements(By.XPATH,'//*[@id=\"article_box\"]/div[1]/div[2]/div[1]/h3')\n",
    "for i in name:\n",
    "    car=i.text\n",
    "    CAR_NAME.append(car)\n",
    "    \n",
    "price=driver.find_elements(By.XPATH,'//*[@id=\"article_box\"]/div[1]/div[2]/div[1]/p/strong')\n",
    "for i in price:\n",
    "    prc=i.text\n",
    "    PRICE.append(prc)"
   ]
  },
  {
   "cell_type": "code",
   "execution_count": 101,
   "id": "da62d62c",
   "metadata": {},
   "outputs": [],
   "source": [
    "CarDF=pd.DataFrame({'Car Name':CAR_NAME,'Price':PRICE})"
   ]
  },
  {
   "cell_type": "code",
   "execution_count": 105,
   "id": "c6f55253",
   "metadata": {},
   "outputs": [
    {
     "data": {
      "text/html": [
       "<div>\n",
       "<style scoped>\n",
       "    .dataframe tbody tr th:only-of-type {\n",
       "        vertical-align: middle;\n",
       "    }\n",
       "\n",
       "    .dataframe tbody tr th {\n",
       "        vertical-align: top;\n",
       "    }\n",
       "\n",
       "    .dataframe thead th {\n",
       "        text-align: right;\n",
       "    }\n",
       "</style>\n",
       "<table border=\"1\" class=\"dataframe\">\n",
       "  <thead>\n",
       "    <tr style=\"text-align: right;\">\n",
       "      <th></th>\n",
       "      <th>Car Name</th>\n",
       "      <th>Price</th>\n",
       "    </tr>\n",
       "  </thead>\n",
       "  <tbody>\n",
       "    <tr>\n",
       "      <th>0</th>\n",
       "      <td>Ferrari LaFerrari</td>\n",
       "      <td>Price: £1.1 million ($1.4 million)</td>\n",
       "    </tr>\n",
       "    <tr>\n",
       "      <th>1</th>\n",
       "      <td>Pagani Huayra</td>\n",
       "      <td>Price: £1.1 million ($1.4 million)</td>\n",
       "    </tr>\n",
       "    <tr>\n",
       "      <th>2</th>\n",
       "      <td>McLaren Elva</td>\n",
       "      <td></td>\n",
       "    </tr>\n",
       "    <tr>\n",
       "      <th>3</th>\n",
       "      <td>Ferrari Monza</td>\n",
       "      <td>Price: £1.3 million ($1.7 million)</td>\n",
       "    </tr>\n",
       "    <tr>\n",
       "      <th>4</th>\n",
       "      <td>Bentley Bacalar</td>\n",
       "      <td>Price: £1.3 million ($1.7 million)</td>\n",
       "    </tr>\n",
       "  </tbody>\n",
       "</table>\n",
       "</div>"
      ],
      "text/plain": [
       "            Car Name                               Price\n",
       "0  Ferrari LaFerrari  Price: £1.1 million ($1.4 million)\n",
       "1      Pagani Huayra  Price: £1.1 million ($1.4 million)\n",
       "2       McLaren Elva                                    \n",
       "3      Ferrari Monza  Price: £1.3 million ($1.7 million)\n",
       "4    Bentley Bacalar  Price: £1.3 million ($1.7 million)"
      ]
     },
     "execution_count": 105,
     "metadata": {},
     "output_type": "execute_result"
    }
   ],
   "source": [
    "CarDF.head(5)"
   ]
  }
 ],
 "metadata": {
  "kernelspec": {
   "display_name": "Python 3 (ipykernel)",
   "language": "python",
   "name": "python3"
  },
  "language_info": {
   "codemirror_mode": {
    "name": "ipython",
    "version": 3
   },
   "file_extension": ".py",
   "mimetype": "text/x-python",
   "name": "python",
   "nbconvert_exporter": "python",
   "pygments_lexer": "ipython3",
   "version": "3.11.5"
  }
 },
 "nbformat": 4,
 "nbformat_minor": 5
}
