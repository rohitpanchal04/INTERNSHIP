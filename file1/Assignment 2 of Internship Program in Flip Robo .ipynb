{
 "cells": [
  {
   "cell_type": "code",
   "execution_count": 1,
   "id": "74aacb53",
   "metadata": {},
   "outputs": [],
   "source": [
    "import regex as re"
   ]
  },
  {
   "cell_type": "markdown",
   "id": "76b5ce85",
   "metadata": {},
   "source": [
    "#1st Question"
   ]
  },
  {
   "cell_type": "code",
   "execution_count": 2,
   "id": "17764b4d",
   "metadata": {},
   "outputs": [
    {
     "name": "stdout",
     "output_type": "stream",
     "text": [
      "Expected_result =  Python:Exercise::PHP:exercises:\n"
     ]
    }
   ],
   "source": [
    "sample_text='Python Exercise, PHP exercises '\n",
    "expected_output=re.sub('[, .]',':',sample_text)\n",
    "print(\"Expected_result = \",expected_output)"
   ]
  },
  {
   "cell_type": "markdown",
   "id": "08a9fa1a",
   "metadata": {},
   "source": [
    "#2nd Question"
   ]
  },
  {
   "cell_type": "code",
   "execution_count": 3,
   "id": "77b3e0b8",
   "metadata": {},
   "outputs": [
    {
     "data": {
      "text/html": [
       "<div>\n",
       "<style scoped>\n",
       "    .dataframe tbody tr th:only-of-type {\n",
       "        vertical-align: middle;\n",
       "    }\n",
       "\n",
       "    .dataframe tbody tr th {\n",
       "        vertical-align: top;\n",
       "    }\n",
       "\n",
       "    .dataframe thead th {\n",
       "        text-align: right;\n",
       "    }\n",
       "</style>\n",
       "<table border=\"1\" class=\"dataframe\">\n",
       "  <thead>\n",
       "    <tr style=\"text-align: right;\">\n",
       "      <th></th>\n",
       "      <th>SUMMARY</th>\n",
       "    </tr>\n",
       "  </thead>\n",
       "  <tbody>\n",
       "    <tr>\n",
       "      <th>0</th>\n",
       "      <td>hello, world!</td>\n",
       "    </tr>\n",
       "    <tr>\n",
       "      <th>1</th>\n",
       "      <td>XXXXX test</td>\n",
       "    </tr>\n",
       "    <tr>\n",
       "      <th>2</th>\n",
       "      <td>123four,five:;six...</td>\n",
       "    </tr>\n",
       "  </tbody>\n",
       "</table>\n",
       "</div>"
      ],
      "text/plain": [
       "                SUMMARY\n",
       "0         hello, world!\n",
       "1            XXXXX test\n",
       "2  123four,five:;six..."
      ]
     },
     "execution_count": 3,
     "metadata": {},
     "output_type": "execute_result"
    }
   ],
   "source": [
    "import pandas as pd\n",
    "Dictionary={'SUMMARY':['hello, world!','XXXXX test','123four,five:;six...']}\n",
    "df=pd.DataFrame(Dictionary)\n",
    "df"
   ]
  },
  {
   "cell_type": "code",
   "execution_count": 4,
   "id": "7476cc0d",
   "metadata": {},
   "outputs": [],
   "source": [
    "def cleaning(text):\n",
    "    clean=re.sub(r'[^a-zA-Z\\s]',' ',text)\n",
    "    return clean"
   ]
  },
  {
   "cell_type": "code",
   "execution_count": 5,
   "id": "56fbd12f",
   "metadata": {},
   "outputs": [],
   "source": [
    "df['SUMMARY']=df['SUMMARY'].apply(cleaning)"
   ]
  },
  {
   "cell_type": "code",
   "execution_count": 6,
   "id": "bbcccbc9",
   "metadata": {},
   "outputs": [
    {
     "data": {
      "text/html": [
       "<div>\n",
       "<style scoped>\n",
       "    .dataframe tbody tr th:only-of-type {\n",
       "        vertical-align: middle;\n",
       "    }\n",
       "\n",
       "    .dataframe tbody tr th {\n",
       "        vertical-align: top;\n",
       "    }\n",
       "\n",
       "    .dataframe thead th {\n",
       "        text-align: right;\n",
       "    }\n",
       "</style>\n",
       "<table border=\"1\" class=\"dataframe\">\n",
       "  <thead>\n",
       "    <tr style=\"text-align: right;\">\n",
       "      <th></th>\n",
       "      <th>SUMMARY</th>\n",
       "    </tr>\n",
       "  </thead>\n",
       "  <tbody>\n",
       "    <tr>\n",
       "      <th>0</th>\n",
       "      <td>hello  world</td>\n",
       "    </tr>\n",
       "    <tr>\n",
       "      <th>1</th>\n",
       "      <td>XXXXX test</td>\n",
       "    </tr>\n",
       "    <tr>\n",
       "      <th>2</th>\n",
       "      <td>four five  six</td>\n",
       "    </tr>\n",
       "  </tbody>\n",
       "</table>\n",
       "</div>"
      ],
      "text/plain": [
       "                SUMMARY\n",
       "0         hello  world \n",
       "1            XXXXX test\n",
       "2     four five  six   "
      ]
     },
     "execution_count": 6,
     "metadata": {},
     "output_type": "execute_result"
    }
   ],
   "source": [
    "df"
   ]
  },
  {
   "cell_type": "markdown",
   "id": "426f0cf6",
   "metadata": {},
   "source": [
    "#3rd Question"
   ]
  },
  {
   "cell_type": "code",
   "execution_count": 7,
   "id": "bc39c776",
   "metadata": {},
   "outputs": [],
   "source": [
    "string='''Chandrayan-3 is a follow on mission to chandryan-2 to \n",
    "demonstrate end-to-end capability in safe landing and roving on the lunar surface'''"
   ]
  },
  {
   "cell_type": "code",
   "execution_count": 8,
   "id": "2cde03a8",
   "metadata": {},
   "outputs": [],
   "source": [
    "str_pattern=r\"\\w{4}\"\n",
    "#compiling the pattern\n",
    "regex_pattern=re.compile(str_pattern)"
   ]
  },
  {
   "cell_type": "code",
   "execution_count": 9,
   "id": "1eaef3ee",
   "metadata": {},
   "outputs": [
    {
     "name": "stdout",
     "output_type": "stream",
     "text": [
      "regex.Regex('\\\\w{4}', flags=regex.V0) \n",
      "\n"
     ]
    }
   ],
   "source": [
    "print(regex_pattern,'\\n')"
   ]
  },
  {
   "cell_type": "code",
   "execution_count": 10,
   "id": "25d9bbf0",
   "metadata": {},
   "outputs": [],
   "source": [
    "result=regex_pattern.findall(string)"
   ]
  },
  {
   "cell_type": "code",
   "execution_count": 11,
   "id": "fa7afd3a",
   "metadata": {},
   "outputs": [
    {
     "name": "stdout",
     "output_type": "stream",
     "text": [
      "['Chan', 'dray', 'foll', 'miss', 'chan', 'drya', 'demo', 'nstr', 'capa', 'bili', 'safe', 'land', 'rovi', 'luna', 'surf'] "
     ]
    }
   ],
   "source": [
    "print(result,end=\" \")"
   ]
  },
  {
   "cell_type": "markdown",
   "id": "0e71675e",
   "metadata": {},
   "source": [
    "#4 Question"
   ]
  },
  {
   "cell_type": "code",
   "execution_count": 12,
   "id": "3a869f42",
   "metadata": {},
   "outputs": [],
   "source": [
    "string1=\"\"\"Strings are a fundamental concept in programming and are used to represent text data.\n",
    "In programming, a string is a sequence of characters, such as letters, numbers, and symbols.\n",
    "They are widely used for storing and manipulating textual data in various programming languages\"\"\""
   ]
  },
  {
   "cell_type": "code",
   "execution_count": 13,
   "id": "2889ce0e",
   "metadata": {},
   "outputs": [],
   "source": [
    "pattern=r\"\\w{3,5}\"\n",
    "regex1_patter=re.compile(pattern)"
   ]
  },
  {
   "cell_type": "code",
   "execution_count": 14,
   "id": "094b0f48",
   "metadata": {},
   "outputs": [
    {
     "name": "stdout",
     "output_type": "stream",
     "text": [
      "['Strin', 'are', 'funda', 'menta', 'conce', 'progr', 'ammin', 'and', 'are', 'used', 'repre', 'sent', 'text', 'data', 'progr', 'ammin', 'strin', 'seque', 'nce', 'chara', 'cters', 'such', 'lette', 'numbe', 'and', 'symbo', 'They', 'are', 'widel', 'used', 'for', 'stori', 'and', 'manip', 'ulati', 'textu', 'data', 'vario', 'progr', 'ammin', 'langu', 'ages'] "
     ]
    }
   ],
   "source": [
    "result1=regex1_patter.findall(string1)\n",
    "print(result1,end=\" \")"
   ]
  },
  {
   "cell_type": "markdown",
   "id": "91158d9f",
   "metadata": {},
   "source": [
    "#5 Question"
   ]
  },
  {
   "cell_type": "code",
   "execution_count": 15,
   "id": "7e6cb53d",
   "metadata": {},
   "outputs": [],
   "source": [
    "Sample_Text=[\"example(.com)\",\"hr@fliprobo(.com)\",\"github(.com)\",\"Hello(Data Science World)\",\"Data(Scientist)\"]"
   ]
  },
  {
   "cell_type": "code",
   "execution_count": 16,
   "id": "6342fff9",
   "metadata": {},
   "outputs": [],
   "source": [
    "ptrn=r\"[()]\"\n",
    "#Compiling the patterns\n",
    "rx_ptrn=re.compile(ptrn)"
   ]
  },
  {
   "cell_type": "code",
   "execution_count": 17,
   "id": "8e7c7594",
   "metadata": {},
   "outputs": [
    {
     "name": "stdout",
     "output_type": "stream",
     "text": [
      "['example.com', 'hr@fliprobo.com', 'github.com', 'HelloData Science World', 'DataScientist']\n"
     ]
    }
   ],
   "source": [
    "result2=[rx_ptrn.sub('', s) for s in Sample_Text]\n",
    "print(result2)"
   ]
  },
  {
   "cell_type": "markdown",
   "id": "9c079e46",
   "metadata": {},
   "source": [
    "#6 Question"
   ]
  },
  {
   "cell_type": "code",
   "execution_count": 18,
   "id": "f0442839",
   "metadata": {},
   "outputs": [],
   "source": [
    "Sample_text=['Example(.com)','hr@fliprobo(.com)','github(.com)','Hello(Data Science World)','Data(Scientist)']\n"
   ]
  },
  {
   "cell_type": "code",
   "execution_count": 19,
   "id": "3262249e",
   "metadata": {},
   "outputs": [],
   "source": [
    "ptrn3=r'\\([^()]*\\)'\n",
    "#compiling the Pattern\n",
    "rex_ptn=re.compile(ptrn3)"
   ]
  },
  {
   "cell_type": "code",
   "execution_count": 20,
   "id": "4ada03e0",
   "metadata": {},
   "outputs": [
    {
     "name": "stdout",
     "output_type": "stream",
     "text": [
      "Expected Result : ['Example', 'hr@fliprobo', 'github', 'Hello', 'Data']\n"
     ]
    }
   ],
   "source": [
    "result3=[rex_ptn.sub('',a) for a in Sample_text]\n",
    "print('Expected Result :',result3)"
   ]
  },
  {
   "cell_type": "markdown",
   "id": "9cc08d01",
   "metadata": {},
   "source": [
    "#7 Question"
   ]
  },
  {
   "cell_type": "code",
   "execution_count": 21,
   "id": "469466b6",
   "metadata": {},
   "outputs": [],
   "source": [
    "text='ImportanceOfRegularExpressionInPython'"
   ]
  },
  {
   "cell_type": "code",
   "execution_count": 22,
   "id": "e7fdcc40",
   "metadata": {},
   "outputs": [],
   "source": [
    "ex=re.findall('[A-Z][^A-Z]*',text)"
   ]
  },
  {
   "cell_type": "code",
   "execution_count": 23,
   "id": "1effbe22",
   "metadata": {},
   "outputs": [
    {
     "name": "stdout",
     "output_type": "stream",
     "text": [
      "['Importance', 'Of', 'Regular', 'Expression', 'In', 'Python']\n"
     ]
    }
   ],
   "source": [
    "print(ex)"
   ]
  },
  {
   "cell_type": "markdown",
   "id": "162d4557",
   "metadata": {},
   "source": [
    "#8 Question"
   ]
  },
  {
   "cell_type": "code",
   "execution_count": 24,
   "id": "85c4428f",
   "metadata": {},
   "outputs": [
    {
     "name": "stdout",
     "output_type": "stream",
     "text": [
      "RegularExpression 1IsAn 2ImportantTopic 3Inpython\n"
     ]
    }
   ],
   "source": [
    "Txt='RegularExpression1IsAn2ImportantTopic3Inpython'\n",
    "exp=re.sub(r'([A-Za-z])(\\d)', r'\\1 \\2',Txt)\n",
    "print(exp)"
   ]
  },
  {
   "cell_type": "markdown",
   "id": "ee1deb55",
   "metadata": {},
   "source": [
    "#9 Question"
   ]
  },
  {
   "cell_type": "code",
   "execution_count": 25,
   "id": "32a60e49",
   "metadata": {},
   "outputs": [
    {
     "name": "stdout",
     "output_type": "stream",
     "text": [
      "RegularExpression 1 IsAn 2 ImportantTopic 3 Inpython\n"
     ]
    }
   ],
   "source": [
    "tt='RegularExpression1IsAn2ImportantTopic3Inpython'\n",
    "ex=re.sub(r'([0-9])([A-Za-z])',r\" \\1 \\2\",tt)\n",
    "print(ex)"
   ]
  },
  {
   "cell_type": "markdown",
   "id": "f41d6303",
   "metadata": {},
   "source": [
    "#10 Question"
   ]
  },
  {
   "cell_type": "code",
   "execution_count": 26,
   "id": "203c8cdf",
   "metadata": {},
   "outputs": [],
   "source": [
    "ds=pd.read_csv('country.csv')"
   ]
  },
  {
   "cell_type": "code",
   "execution_count": 27,
   "id": "9b1b3bd4",
   "metadata": {},
   "outputs": [],
   "source": [
    "df=pd.DataFrame(ds)"
   ]
  },
  {
   "cell_type": "code",
   "execution_count": 28,
   "id": "d53d18af",
   "metadata": {},
   "outputs": [
    {
     "data": {
      "text/html": [
       "<div>\n",
       "<style scoped>\n",
       "    .dataframe tbody tr th:only-of-type {\n",
       "        vertical-align: middle;\n",
       "    }\n",
       "\n",
       "    .dataframe tbody tr th {\n",
       "        vertical-align: top;\n",
       "    }\n",
       "\n",
       "    .dataframe thead th {\n",
       "        text-align: right;\n",
       "    }\n",
       "</style>\n",
       "<table border=\"1\" class=\"dataframe\">\n",
       "  <thead>\n",
       "    <tr style=\"text-align: right;\">\n",
       "      <th></th>\n",
       "      <th>Country</th>\n",
       "      <th>Region</th>\n",
       "      <th>Happiness Rank</th>\n",
       "      <th>Happiness Score</th>\n",
       "      <th>Standard Error</th>\n",
       "      <th>Economy (GDP per Capita)</th>\n",
       "      <th>Family</th>\n",
       "      <th>Health (Life Expectancy)</th>\n",
       "      <th>Freedom</th>\n",
       "      <th>Trust (Government Corruption)</th>\n",
       "      <th>Generosity</th>\n",
       "      <th>Dystopia Residual</th>\n",
       "    </tr>\n",
       "  </thead>\n",
       "  <tbody>\n",
       "    <tr>\n",
       "      <th>0</th>\n",
       "      <td>Switzerland</td>\n",
       "      <td>Western Europe</td>\n",
       "      <td>1</td>\n",
       "      <td>7.587</td>\n",
       "      <td>0.03411</td>\n",
       "      <td>1.39651</td>\n",
       "      <td>1.34951</td>\n",
       "      <td>0.94143</td>\n",
       "      <td>0.66557</td>\n",
       "      <td>0.41978</td>\n",
       "      <td>0.29678</td>\n",
       "      <td>2.51738</td>\n",
       "    </tr>\n",
       "    <tr>\n",
       "      <th>1</th>\n",
       "      <td>Iceland</td>\n",
       "      <td>Western Europe</td>\n",
       "      <td>2</td>\n",
       "      <td>7.561</td>\n",
       "      <td>0.04884</td>\n",
       "      <td>1.30232</td>\n",
       "      <td>1.40223</td>\n",
       "      <td>0.94784</td>\n",
       "      <td>0.62877</td>\n",
       "      <td>0.14145</td>\n",
       "      <td>0.43630</td>\n",
       "      <td>2.70201</td>\n",
       "    </tr>\n",
       "    <tr>\n",
       "      <th>2</th>\n",
       "      <td>Denmark</td>\n",
       "      <td>Western Europe</td>\n",
       "      <td>3</td>\n",
       "      <td>7.527</td>\n",
       "      <td>0.03328</td>\n",
       "      <td>1.32548</td>\n",
       "      <td>1.36058</td>\n",
       "      <td>0.87464</td>\n",
       "      <td>0.64938</td>\n",
       "      <td>0.48357</td>\n",
       "      <td>0.34139</td>\n",
       "      <td>2.49204</td>\n",
       "    </tr>\n",
       "    <tr>\n",
       "      <th>3</th>\n",
       "      <td>Norway</td>\n",
       "      <td>Western Europe</td>\n",
       "      <td>4</td>\n",
       "      <td>7.522</td>\n",
       "      <td>0.03880</td>\n",
       "      <td>1.45900</td>\n",
       "      <td>1.33095</td>\n",
       "      <td>0.88521</td>\n",
       "      <td>0.66973</td>\n",
       "      <td>0.36503</td>\n",
       "      <td>0.34699</td>\n",
       "      <td>2.46531</td>\n",
       "    </tr>\n",
       "    <tr>\n",
       "      <th>4</th>\n",
       "      <td>Canada</td>\n",
       "      <td>North America</td>\n",
       "      <td>5</td>\n",
       "      <td>7.427</td>\n",
       "      <td>0.03553</td>\n",
       "      <td>1.32629</td>\n",
       "      <td>1.32261</td>\n",
       "      <td>0.90563</td>\n",
       "      <td>0.63297</td>\n",
       "      <td>0.32957</td>\n",
       "      <td>0.45811</td>\n",
       "      <td>2.45176</td>\n",
       "    </tr>\n",
       "    <tr>\n",
       "      <th>...</th>\n",
       "      <td>...</td>\n",
       "      <td>...</td>\n",
       "      <td>...</td>\n",
       "      <td>...</td>\n",
       "      <td>...</td>\n",
       "      <td>...</td>\n",
       "      <td>...</td>\n",
       "      <td>...</td>\n",
       "      <td>...</td>\n",
       "      <td>...</td>\n",
       "      <td>...</td>\n",
       "      <td>...</td>\n",
       "    </tr>\n",
       "    <tr>\n",
       "      <th>153</th>\n",
       "      <td>Rwanda</td>\n",
       "      <td>Sub-Saharan Africa</td>\n",
       "      <td>154</td>\n",
       "      <td>3.465</td>\n",
       "      <td>0.03464</td>\n",
       "      <td>0.22208</td>\n",
       "      <td>0.77370</td>\n",
       "      <td>0.42864</td>\n",
       "      <td>0.59201</td>\n",
       "      <td>0.55191</td>\n",
       "      <td>0.22628</td>\n",
       "      <td>0.67042</td>\n",
       "    </tr>\n",
       "    <tr>\n",
       "      <th>154</th>\n",
       "      <td>Benin</td>\n",
       "      <td>Sub-Saharan Africa</td>\n",
       "      <td>155</td>\n",
       "      <td>3.340</td>\n",
       "      <td>0.03656</td>\n",
       "      <td>0.28665</td>\n",
       "      <td>0.35386</td>\n",
       "      <td>0.31910</td>\n",
       "      <td>0.48450</td>\n",
       "      <td>0.08010</td>\n",
       "      <td>0.18260</td>\n",
       "      <td>1.63328</td>\n",
       "    </tr>\n",
       "    <tr>\n",
       "      <th>155</th>\n",
       "      <td>Syria</td>\n",
       "      <td>Middle East and Northern Africa</td>\n",
       "      <td>156</td>\n",
       "      <td>3.006</td>\n",
       "      <td>0.05015</td>\n",
       "      <td>0.66320</td>\n",
       "      <td>0.47489</td>\n",
       "      <td>0.72193</td>\n",
       "      <td>0.15684</td>\n",
       "      <td>0.18906</td>\n",
       "      <td>0.47179</td>\n",
       "      <td>0.32858</td>\n",
       "    </tr>\n",
       "    <tr>\n",
       "      <th>156</th>\n",
       "      <td>Burundi</td>\n",
       "      <td>Sub-Saharan Africa</td>\n",
       "      <td>157</td>\n",
       "      <td>2.905</td>\n",
       "      <td>0.08658</td>\n",
       "      <td>0.01530</td>\n",
       "      <td>0.41587</td>\n",
       "      <td>0.22396</td>\n",
       "      <td>0.11850</td>\n",
       "      <td>0.10062</td>\n",
       "      <td>0.19727</td>\n",
       "      <td>1.83302</td>\n",
       "    </tr>\n",
       "    <tr>\n",
       "      <th>157</th>\n",
       "      <td>Togo</td>\n",
       "      <td>Sub-Saharan Africa</td>\n",
       "      <td>158</td>\n",
       "      <td>2.839</td>\n",
       "      <td>0.06727</td>\n",
       "      <td>0.20868</td>\n",
       "      <td>0.13995</td>\n",
       "      <td>0.28443</td>\n",
       "      <td>0.36453</td>\n",
       "      <td>0.10731</td>\n",
       "      <td>0.16681</td>\n",
       "      <td>1.56726</td>\n",
       "    </tr>\n",
       "  </tbody>\n",
       "</table>\n",
       "<p>158 rows × 12 columns</p>\n",
       "</div>"
      ],
      "text/plain": [
       "         Country                           Region  Happiness Rank  \\\n",
       "0    Switzerland                   Western Europe               1   \n",
       "1        Iceland                   Western Europe               2   \n",
       "2        Denmark                   Western Europe               3   \n",
       "3         Norway                   Western Europe               4   \n",
       "4         Canada                    North America               5   \n",
       "..           ...                              ...             ...   \n",
       "153       Rwanda               Sub-Saharan Africa             154   \n",
       "154        Benin               Sub-Saharan Africa             155   \n",
       "155        Syria  Middle East and Northern Africa             156   \n",
       "156      Burundi               Sub-Saharan Africa             157   \n",
       "157         Togo               Sub-Saharan Africa             158   \n",
       "\n",
       "     Happiness Score  Standard Error  Economy (GDP per Capita)   Family  \\\n",
       "0              7.587         0.03411                   1.39651  1.34951   \n",
       "1              7.561         0.04884                   1.30232  1.40223   \n",
       "2              7.527         0.03328                   1.32548  1.36058   \n",
       "3              7.522         0.03880                   1.45900  1.33095   \n",
       "4              7.427         0.03553                   1.32629  1.32261   \n",
       "..               ...             ...                       ...      ...   \n",
       "153            3.465         0.03464                   0.22208  0.77370   \n",
       "154            3.340         0.03656                   0.28665  0.35386   \n",
       "155            3.006         0.05015                   0.66320  0.47489   \n",
       "156            2.905         0.08658                   0.01530  0.41587   \n",
       "157            2.839         0.06727                   0.20868  0.13995   \n",
       "\n",
       "     Health (Life Expectancy)  Freedom  Trust (Government Corruption)  \\\n",
       "0                     0.94143  0.66557                        0.41978   \n",
       "1                     0.94784  0.62877                        0.14145   \n",
       "2                     0.87464  0.64938                        0.48357   \n",
       "3                     0.88521  0.66973                        0.36503   \n",
       "4                     0.90563  0.63297                        0.32957   \n",
       "..                        ...      ...                            ...   \n",
       "153                   0.42864  0.59201                        0.55191   \n",
       "154                   0.31910  0.48450                        0.08010   \n",
       "155                   0.72193  0.15684                        0.18906   \n",
       "156                   0.22396  0.11850                        0.10062   \n",
       "157                   0.28443  0.36453                        0.10731   \n",
       "\n",
       "     Generosity  Dystopia Residual  \n",
       "0       0.29678            2.51738  \n",
       "1       0.43630            2.70201  \n",
       "2       0.34139            2.49204  \n",
       "3       0.34699            2.46531  \n",
       "4       0.45811            2.45176  \n",
       "..          ...                ...  \n",
       "153     0.22628            0.67042  \n",
       "154     0.18260            1.63328  \n",
       "155     0.47179            0.32858  \n",
       "156     0.19727            1.83302  \n",
       "157     0.16681            1.56726  \n",
       "\n",
       "[158 rows x 12 columns]"
      ]
     },
     "execution_count": 28,
     "metadata": {},
     "output_type": "execute_result"
    }
   ],
   "source": [
    "df"
   ]
  },
  {
   "cell_type": "code",
   "execution_count": 29,
   "id": "41df6bd2",
   "metadata": {},
   "outputs": [
    {
     "data": {
      "text/html": [
       "<div>\n",
       "<style scoped>\n",
       "    .dataframe tbody tr th:only-of-type {\n",
       "        vertical-align: middle;\n",
       "    }\n",
       "\n",
       "    .dataframe tbody tr th {\n",
       "        vertical-align: top;\n",
       "    }\n",
       "\n",
       "    .dataframe thead th {\n",
       "        text-align: right;\n",
       "    }\n",
       "</style>\n",
       "<table border=\"1\" class=\"dataframe\">\n",
       "  <thead>\n",
       "    <tr style=\"text-align: right;\">\n",
       "      <th></th>\n",
       "      <th>Country</th>\n",
       "      <th>Region</th>\n",
       "      <th>Happiness Rank</th>\n",
       "      <th>Happiness Score</th>\n",
       "      <th>Standard Error</th>\n",
       "      <th>Economy (GDP per Capita)</th>\n",
       "      <th>Family</th>\n",
       "      <th>Health (Life Expectancy)</th>\n",
       "      <th>Freedom</th>\n",
       "      <th>Trust (Government Corruption)</th>\n",
       "      <th>Generosity</th>\n",
       "      <th>Dystopia Residual</th>\n",
       "    </tr>\n",
       "  </thead>\n",
       "  <tbody>\n",
       "    <tr>\n",
       "      <th>0</th>\n",
       "      <td>Switzerland</td>\n",
       "      <td>Western Europe</td>\n",
       "      <td>1</td>\n",
       "      <td>7.587</td>\n",
       "      <td>0.03411</td>\n",
       "      <td>1.39651</td>\n",
       "      <td>1.34951</td>\n",
       "      <td>0.94143</td>\n",
       "      <td>0.66557</td>\n",
       "      <td>0.41978</td>\n",
       "      <td>0.29678</td>\n",
       "      <td>2.51738</td>\n",
       "    </tr>\n",
       "    <tr>\n",
       "      <th>1</th>\n",
       "      <td>Iceland</td>\n",
       "      <td>Western Europe</td>\n",
       "      <td>2</td>\n",
       "      <td>7.561</td>\n",
       "      <td>0.04884</td>\n",
       "      <td>1.30232</td>\n",
       "      <td>1.40223</td>\n",
       "      <td>0.94784</td>\n",
       "      <td>0.62877</td>\n",
       "      <td>0.14145</td>\n",
       "      <td>0.43630</td>\n",
       "      <td>2.70201</td>\n",
       "    </tr>\n",
       "    <tr>\n",
       "      <th>2</th>\n",
       "      <td>Denmark</td>\n",
       "      <td>Western Europe</td>\n",
       "      <td>3</td>\n",
       "      <td>7.527</td>\n",
       "      <td>0.03328</td>\n",
       "      <td>1.32548</td>\n",
       "      <td>1.36058</td>\n",
       "      <td>0.87464</td>\n",
       "      <td>0.64938</td>\n",
       "      <td>0.48357</td>\n",
       "      <td>0.34139</td>\n",
       "      <td>2.49204</td>\n",
       "    </tr>\n",
       "    <tr>\n",
       "      <th>3</th>\n",
       "      <td>Norway</td>\n",
       "      <td>Western Europe</td>\n",
       "      <td>4</td>\n",
       "      <td>7.522</td>\n",
       "      <td>0.03880</td>\n",
       "      <td>1.45900</td>\n",
       "      <td>1.33095</td>\n",
       "      <td>0.88521</td>\n",
       "      <td>0.66973</td>\n",
       "      <td>0.36503</td>\n",
       "      <td>0.34699</td>\n",
       "      <td>2.46531</td>\n",
       "    </tr>\n",
       "    <tr>\n",
       "      <th>4</th>\n",
       "      <td>Canada</td>\n",
       "      <td>North America</td>\n",
       "      <td>5</td>\n",
       "      <td>7.427</td>\n",
       "      <td>0.03553</td>\n",
       "      <td>1.32629</td>\n",
       "      <td>1.32261</td>\n",
       "      <td>0.90563</td>\n",
       "      <td>0.63297</td>\n",
       "      <td>0.32957</td>\n",
       "      <td>0.45811</td>\n",
       "      <td>2.45176</td>\n",
       "    </tr>\n",
       "  </tbody>\n",
       "</table>\n",
       "</div>"
      ],
      "text/plain": [
       "       Country          Region  Happiness Rank  Happiness Score  \\\n",
       "0  Switzerland  Western Europe               1            7.587   \n",
       "1      Iceland  Western Europe               2            7.561   \n",
       "2      Denmark  Western Europe               3            7.527   \n",
       "3       Norway  Western Europe               4            7.522   \n",
       "4       Canada   North America               5            7.427   \n",
       "\n",
       "   Standard Error  Economy (GDP per Capita)   Family  \\\n",
       "0         0.03411                   1.39651  1.34951   \n",
       "1         0.04884                   1.30232  1.40223   \n",
       "2         0.03328                   1.32548  1.36058   \n",
       "3         0.03880                   1.45900  1.33095   \n",
       "4         0.03553                   1.32629  1.32261   \n",
       "\n",
       "   Health (Life Expectancy)  Freedom  Trust (Government Corruption)  \\\n",
       "0                   0.94143  0.66557                        0.41978   \n",
       "1                   0.94784  0.62877                        0.14145   \n",
       "2                   0.87464  0.64938                        0.48357   \n",
       "3                   0.88521  0.66973                        0.36503   \n",
       "4                   0.90563  0.63297                        0.32957   \n",
       "\n",
       "   Generosity  Dystopia Residual  \n",
       "0     0.29678            2.51738  \n",
       "1     0.43630            2.70201  \n",
       "2     0.34139            2.49204  \n",
       "3     0.34699            2.46531  \n",
       "4     0.45811            2.45176  "
      ]
     },
     "execution_count": 29,
     "metadata": {},
     "output_type": "execute_result"
    }
   ],
   "source": [
    "df.head(5)"
   ]
  },
  {
   "cell_type": "code",
   "execution_count": 30,
   "id": "c64f7dd2",
   "metadata": {},
   "outputs": [],
   "source": [
    "def letters (test):\n",
    "    start6=re.findall(r'\\w{6}',test)\n",
    "    return start6"
   ]
  },
  {
   "cell_type": "code",
   "execution_count": 31,
   "id": "da54c6ec",
   "metadata": {},
   "outputs": [],
   "source": [
    "df['Country']=df['Country'].apply(letters)"
   ]
  },
  {
   "cell_type": "code",
   "execution_count": 32,
   "id": "5ba7fb19",
   "metadata": {},
   "outputs": [
    {
     "data": {
      "text/html": [
       "<div>\n",
       "<style scoped>\n",
       "    .dataframe tbody tr th:only-of-type {\n",
       "        vertical-align: middle;\n",
       "    }\n",
       "\n",
       "    .dataframe tbody tr th {\n",
       "        vertical-align: top;\n",
       "    }\n",
       "\n",
       "    .dataframe thead th {\n",
       "        text-align: right;\n",
       "    }\n",
       "</style>\n",
       "<table border=\"1\" class=\"dataframe\">\n",
       "  <thead>\n",
       "    <tr style=\"text-align: right;\">\n",
       "      <th></th>\n",
       "      <th>Country</th>\n",
       "      <th>Region</th>\n",
       "      <th>Happiness Rank</th>\n",
       "      <th>Happiness Score</th>\n",
       "      <th>Standard Error</th>\n",
       "      <th>Economy (GDP per Capita)</th>\n",
       "      <th>Family</th>\n",
       "      <th>Health (Life Expectancy)</th>\n",
       "      <th>Freedom</th>\n",
       "      <th>Trust (Government Corruption)</th>\n",
       "      <th>Generosity</th>\n",
       "      <th>Dystopia Residual</th>\n",
       "    </tr>\n",
       "  </thead>\n",
       "  <tbody>\n",
       "    <tr>\n",
       "      <th>0</th>\n",
       "      <td>[Switze]</td>\n",
       "      <td>Western Europe</td>\n",
       "      <td>1</td>\n",
       "      <td>7.587</td>\n",
       "      <td>0.03411</td>\n",
       "      <td>1.39651</td>\n",
       "      <td>1.34951</td>\n",
       "      <td>0.94143</td>\n",
       "      <td>0.66557</td>\n",
       "      <td>0.41978</td>\n",
       "      <td>0.29678</td>\n",
       "      <td>2.51738</td>\n",
       "    </tr>\n",
       "    <tr>\n",
       "      <th>1</th>\n",
       "      <td>[Icelan]</td>\n",
       "      <td>Western Europe</td>\n",
       "      <td>2</td>\n",
       "      <td>7.561</td>\n",
       "      <td>0.04884</td>\n",
       "      <td>1.30232</td>\n",
       "      <td>1.40223</td>\n",
       "      <td>0.94784</td>\n",
       "      <td>0.62877</td>\n",
       "      <td>0.14145</td>\n",
       "      <td>0.43630</td>\n",
       "      <td>2.70201</td>\n",
       "    </tr>\n",
       "    <tr>\n",
       "      <th>2</th>\n",
       "      <td>[Denmar]</td>\n",
       "      <td>Western Europe</td>\n",
       "      <td>3</td>\n",
       "      <td>7.527</td>\n",
       "      <td>0.03328</td>\n",
       "      <td>1.32548</td>\n",
       "      <td>1.36058</td>\n",
       "      <td>0.87464</td>\n",
       "      <td>0.64938</td>\n",
       "      <td>0.48357</td>\n",
       "      <td>0.34139</td>\n",
       "      <td>2.49204</td>\n",
       "    </tr>\n",
       "    <tr>\n",
       "      <th>3</th>\n",
       "      <td>[Norway]</td>\n",
       "      <td>Western Europe</td>\n",
       "      <td>4</td>\n",
       "      <td>7.522</td>\n",
       "      <td>0.03880</td>\n",
       "      <td>1.45900</td>\n",
       "      <td>1.33095</td>\n",
       "      <td>0.88521</td>\n",
       "      <td>0.66973</td>\n",
       "      <td>0.36503</td>\n",
       "      <td>0.34699</td>\n",
       "      <td>2.46531</td>\n",
       "    </tr>\n",
       "    <tr>\n",
       "      <th>4</th>\n",
       "      <td>[Canada]</td>\n",
       "      <td>North America</td>\n",
       "      <td>5</td>\n",
       "      <td>7.427</td>\n",
       "      <td>0.03553</td>\n",
       "      <td>1.32629</td>\n",
       "      <td>1.32261</td>\n",
       "      <td>0.90563</td>\n",
       "      <td>0.63297</td>\n",
       "      <td>0.32957</td>\n",
       "      <td>0.45811</td>\n",
       "      <td>2.45176</td>\n",
       "    </tr>\n",
       "    <tr>\n",
       "      <th>...</th>\n",
       "      <td>...</td>\n",
       "      <td>...</td>\n",
       "      <td>...</td>\n",
       "      <td>...</td>\n",
       "      <td>...</td>\n",
       "      <td>...</td>\n",
       "      <td>...</td>\n",
       "      <td>...</td>\n",
       "      <td>...</td>\n",
       "      <td>...</td>\n",
       "      <td>...</td>\n",
       "      <td>...</td>\n",
       "    </tr>\n",
       "    <tr>\n",
       "      <th>153</th>\n",
       "      <td>[Rwanda]</td>\n",
       "      <td>Sub-Saharan Africa</td>\n",
       "      <td>154</td>\n",
       "      <td>3.465</td>\n",
       "      <td>0.03464</td>\n",
       "      <td>0.22208</td>\n",
       "      <td>0.77370</td>\n",
       "      <td>0.42864</td>\n",
       "      <td>0.59201</td>\n",
       "      <td>0.55191</td>\n",
       "      <td>0.22628</td>\n",
       "      <td>0.67042</td>\n",
       "    </tr>\n",
       "    <tr>\n",
       "      <th>154</th>\n",
       "      <td>[]</td>\n",
       "      <td>Sub-Saharan Africa</td>\n",
       "      <td>155</td>\n",
       "      <td>3.340</td>\n",
       "      <td>0.03656</td>\n",
       "      <td>0.28665</td>\n",
       "      <td>0.35386</td>\n",
       "      <td>0.31910</td>\n",
       "      <td>0.48450</td>\n",
       "      <td>0.08010</td>\n",
       "      <td>0.18260</td>\n",
       "      <td>1.63328</td>\n",
       "    </tr>\n",
       "    <tr>\n",
       "      <th>155</th>\n",
       "      <td>[]</td>\n",
       "      <td>Middle East and Northern Africa</td>\n",
       "      <td>156</td>\n",
       "      <td>3.006</td>\n",
       "      <td>0.05015</td>\n",
       "      <td>0.66320</td>\n",
       "      <td>0.47489</td>\n",
       "      <td>0.72193</td>\n",
       "      <td>0.15684</td>\n",
       "      <td>0.18906</td>\n",
       "      <td>0.47179</td>\n",
       "      <td>0.32858</td>\n",
       "    </tr>\n",
       "    <tr>\n",
       "      <th>156</th>\n",
       "      <td>[Burund]</td>\n",
       "      <td>Sub-Saharan Africa</td>\n",
       "      <td>157</td>\n",
       "      <td>2.905</td>\n",
       "      <td>0.08658</td>\n",
       "      <td>0.01530</td>\n",
       "      <td>0.41587</td>\n",
       "      <td>0.22396</td>\n",
       "      <td>0.11850</td>\n",
       "      <td>0.10062</td>\n",
       "      <td>0.19727</td>\n",
       "      <td>1.83302</td>\n",
       "    </tr>\n",
       "    <tr>\n",
       "      <th>157</th>\n",
       "      <td>[]</td>\n",
       "      <td>Sub-Saharan Africa</td>\n",
       "      <td>158</td>\n",
       "      <td>2.839</td>\n",
       "      <td>0.06727</td>\n",
       "      <td>0.20868</td>\n",
       "      <td>0.13995</td>\n",
       "      <td>0.28443</td>\n",
       "      <td>0.36453</td>\n",
       "      <td>0.10731</td>\n",
       "      <td>0.16681</td>\n",
       "      <td>1.56726</td>\n",
       "    </tr>\n",
       "  </tbody>\n",
       "</table>\n",
       "<p>158 rows × 12 columns</p>\n",
       "</div>"
      ],
      "text/plain": [
       "      Country                           Region  Happiness Rank  \\\n",
       "0    [Switze]                   Western Europe               1   \n",
       "1    [Icelan]                   Western Europe               2   \n",
       "2    [Denmar]                   Western Europe               3   \n",
       "3    [Norway]                   Western Europe               4   \n",
       "4    [Canada]                    North America               5   \n",
       "..        ...                              ...             ...   \n",
       "153  [Rwanda]               Sub-Saharan Africa             154   \n",
       "154        []               Sub-Saharan Africa             155   \n",
       "155        []  Middle East and Northern Africa             156   \n",
       "156  [Burund]               Sub-Saharan Africa             157   \n",
       "157        []               Sub-Saharan Africa             158   \n",
       "\n",
       "     Happiness Score  Standard Error  Economy (GDP per Capita)   Family  \\\n",
       "0              7.587         0.03411                   1.39651  1.34951   \n",
       "1              7.561         0.04884                   1.30232  1.40223   \n",
       "2              7.527         0.03328                   1.32548  1.36058   \n",
       "3              7.522         0.03880                   1.45900  1.33095   \n",
       "4              7.427         0.03553                   1.32629  1.32261   \n",
       "..               ...             ...                       ...      ...   \n",
       "153            3.465         0.03464                   0.22208  0.77370   \n",
       "154            3.340         0.03656                   0.28665  0.35386   \n",
       "155            3.006         0.05015                   0.66320  0.47489   \n",
       "156            2.905         0.08658                   0.01530  0.41587   \n",
       "157            2.839         0.06727                   0.20868  0.13995   \n",
       "\n",
       "     Health (Life Expectancy)  Freedom  Trust (Government Corruption)  \\\n",
       "0                     0.94143  0.66557                        0.41978   \n",
       "1                     0.94784  0.62877                        0.14145   \n",
       "2                     0.87464  0.64938                        0.48357   \n",
       "3                     0.88521  0.66973                        0.36503   \n",
       "4                     0.90563  0.63297                        0.32957   \n",
       "..                        ...      ...                            ...   \n",
       "153                   0.42864  0.59201                        0.55191   \n",
       "154                   0.31910  0.48450                        0.08010   \n",
       "155                   0.72193  0.15684                        0.18906   \n",
       "156                   0.22396  0.11850                        0.10062   \n",
       "157                   0.28443  0.36453                        0.10731   \n",
       "\n",
       "     Generosity  Dystopia Residual  \n",
       "0       0.29678            2.51738  \n",
       "1       0.43630            2.70201  \n",
       "2       0.34139            2.49204  \n",
       "3       0.34699            2.46531  \n",
       "4       0.45811            2.45176  \n",
       "..          ...                ...  \n",
       "153     0.22628            0.67042  \n",
       "154     0.18260            1.63328  \n",
       "155     0.47179            0.32858  \n",
       "156     0.19727            1.83302  \n",
       "157     0.16681            1.56726  \n",
       "\n",
       "[158 rows x 12 columns]"
      ]
     },
     "execution_count": 32,
     "metadata": {},
     "output_type": "execute_result"
    }
   ],
   "source": [
    "df"
   ]
  },
  {
   "cell_type": "code",
   "execution_count": 33,
   "id": "bf42256d",
   "metadata": {},
   "outputs": [
    {
     "data": {
      "text/plain": [
       "0      [Switze]\n",
       "1      [Icelan]\n",
       "2      [Denmar]\n",
       "3      [Norway]\n",
       "4      [Canada]\n",
       "         ...   \n",
       "153    [Rwanda]\n",
       "154          []\n",
       "155          []\n",
       "156    [Burund]\n",
       "157          []\n",
       "Name: Country, Length: 158, dtype: object"
      ]
     },
     "execution_count": 33,
     "metadata": {},
     "output_type": "execute_result"
    }
   ],
   "source": [
    "first_five_letters=df.iloc[:,0]\n",
    "first_five_letters"
   ]
  },
  {
   "cell_type": "code",
   "execution_count": 34,
   "id": "cc2b6791",
   "metadata": {},
   "outputs": [
    {
     "data": {
      "text/html": [
       "<div>\n",
       "<style scoped>\n",
       "    .dataframe tbody tr th:only-of-type {\n",
       "        vertical-align: middle;\n",
       "    }\n",
       "\n",
       "    .dataframe tbody tr th {\n",
       "        vertical-align: top;\n",
       "    }\n",
       "\n",
       "    .dataframe thead th {\n",
       "        text-align: right;\n",
       "    }\n",
       "</style>\n",
       "<table border=\"1\" class=\"dataframe\">\n",
       "  <thead>\n",
       "    <tr style=\"text-align: right;\">\n",
       "      <th></th>\n",
       "      <th>Country</th>\n",
       "    </tr>\n",
       "  </thead>\n",
       "  <tbody>\n",
       "    <tr>\n",
       "      <th>0</th>\n",
       "      <td>[Switze]</td>\n",
       "    </tr>\n",
       "    <tr>\n",
       "      <th>1</th>\n",
       "      <td>[Icelan]</td>\n",
       "    </tr>\n",
       "    <tr>\n",
       "      <th>2</th>\n",
       "      <td>[Denmar]</td>\n",
       "    </tr>\n",
       "    <tr>\n",
       "      <th>3</th>\n",
       "      <td>[Norway]</td>\n",
       "    </tr>\n",
       "    <tr>\n",
       "      <th>4</th>\n",
       "      <td>[Canada]</td>\n",
       "    </tr>\n",
       "    <tr>\n",
       "      <th>...</th>\n",
       "      <td>...</td>\n",
       "    </tr>\n",
       "    <tr>\n",
       "      <th>153</th>\n",
       "      <td>[Rwanda]</td>\n",
       "    </tr>\n",
       "    <tr>\n",
       "      <th>154</th>\n",
       "      <td>[]</td>\n",
       "    </tr>\n",
       "    <tr>\n",
       "      <th>155</th>\n",
       "      <td>[]</td>\n",
       "    </tr>\n",
       "    <tr>\n",
       "      <th>156</th>\n",
       "      <td>[Burund]</td>\n",
       "    </tr>\n",
       "    <tr>\n",
       "      <th>157</th>\n",
       "      <td>[]</td>\n",
       "    </tr>\n",
       "  </tbody>\n",
       "</table>\n",
       "<p>158 rows × 1 columns</p>\n",
       "</div>"
      ],
      "text/plain": [
       "      Country\n",
       "0    [Switze]\n",
       "1    [Icelan]\n",
       "2    [Denmar]\n",
       "3    [Norway]\n",
       "4    [Canada]\n",
       "..        ...\n",
       "153  [Rwanda]\n",
       "154        []\n",
       "155        []\n",
       "156  [Burund]\n",
       "157        []\n",
       "\n",
       "[158 rows x 1 columns]"
      ]
     },
     "execution_count": 34,
     "metadata": {},
     "output_type": "execute_result"
    }
   ],
   "source": [
    "first_five_letters=pd.DataFrame(first_five_letters)\n",
    "first_five_letters"
   ]
  },
  {
   "cell_type": "markdown",
   "id": "7f4a61d7",
   "metadata": {},
   "source": [
    "#11 Question"
   ]
  },
  {
   "cell_type": "code",
   "execution_count": 35,
   "id": "84b6ce9e",
   "metadata": {},
   "outputs": [],
   "source": [
    "def match_string(text):\n",
    "    prn=r'^[a-zA-Z0-9_]*$'\n",
    "    if re.match(prn,text):\n",
    "        return True\n",
    "    else:\n",
    "        return False    "
   ]
  },
  {
   "cell_type": "code",
   "execution_count": 36,
   "id": "a0ef1e41",
   "metadata": {},
   "outputs": [
    {
     "name": "stdout",
     "output_type": "stream",
     "text": [
      "False\n"
     ]
    }
   ],
   "source": [
    "text='Python is a Programming Language in 2024'\n",
    "print(match_string(text))"
   ]
  },
  {
   "cell_type": "code",
   "execution_count": 37,
   "id": "caba30c9",
   "metadata": {},
   "outputs": [
    {
     "name": "stdout",
     "output_type": "stream",
     "text": [
      "True\n"
     ]
    }
   ],
   "source": [
    "text='PythonisaProgrammingLanguagein2024_'\n",
    "print(match_string(text))"
   ]
  },
  {
   "cell_type": "markdown",
   "id": "360c6015",
   "metadata": {},
   "source": [
    "#12 Question"
   ]
  },
  {
   "cell_type": "code",
   "execution_count": 38,
   "id": "56c16277",
   "metadata": {},
   "outputs": [
    {
     "name": "stdout",
     "output_type": "stream",
     "text": [
      "['24', '5', '1']\n"
     ]
    }
   ],
   "source": [
    "Text='There are 24 members in the office and 5 manager and 1 Hod'\n",
    "matches=re.findall(r'\\d+',Text)\n",
    "print(matches)"
   ]
  },
  {
   "cell_type": "markdown",
   "id": "67e80017",
   "metadata": {},
   "source": [
    "#13 Question"
   ]
  },
  {
   "cell_type": "code",
   "execution_count": 39,
   "id": "ba4ded08",
   "metadata": {},
   "outputs": [
    {
     "name": "stdout",
     "output_type": "stream",
     "text": [
      "remove_leading_zero = 215.21.2.4\n"
     ]
    }
   ],
   "source": [
    "ip_address='215.021.002.004'\n",
    "remove_leading_zero=re.sub(r'\\b0+(\\d+)\\b', r'\\1',ip_address)\n",
    "print('remove_leading_zero =',remove_leading_zero)"
   ]
  },
  {
   "cell_type": "markdown",
   "id": "10f8dc5d",
   "metadata": {},
   "source": [
    "#14 Question"
   ]
  },
  {
   "cell_type": "code",
   "execution_count": 40,
   "id": "58a0b1a6",
   "metadata": {},
   "outputs": [],
   "source": [
    "text='On August 15th 1947 that India was declared independent from British colonialism, and the reins of control were handed over to the leaders of the Country'\n",
    "with open(\"text.txt\",'w') as file:\n",
    "    file.write(text)"
   ]
  },
  {
   "cell_type": "code",
   "execution_count": 41,
   "id": "0365dd3f",
   "metadata": {},
   "outputs": [
    {
     "name": "stdout",
     "output_type": "stream",
     "text": [
      "Expected Result:  ['August 15th 1947']\n"
     ]
    }
   ],
   "source": [
    "with open (\"text.txt\",'r') as file:\n",
    "    Date=file.read()\n",
    "pattern=r'\\b(?:January|February|March|April|May|June|July|August|September|October|November|December)\\s+\\d{1,2}(?:st|nd|rd|th)?\\s+\\d{4}\\b'\n",
    "\n",
    "Result=re.findall(pattern,Date)\n",
    "print('Expected Result: ', Result)"
   ]
  },
  {
   "cell_type": "markdown",
   "id": "af526d79",
   "metadata": {},
   "source": [
    "#15 Question"
   ]
  },
  {
   "cell_type": "code",
   "execution_count": 42,
   "id": "73b22bbc",
   "metadata": {},
   "outputs": [
    {
     "name": "stdout",
     "output_type": "stream",
     "text": [
      "words_found: fox, dog\n"
     ]
    }
   ],
   "source": [
    "def search_str(text,words):\n",
    "    words_found=[]\n",
    "    for word in words:\n",
    "        if word in text:\n",
    "            words_found.append(word)\n",
    "    return words_found\n",
    "\n",
    "text='The quick brown fox jumps over the lazy dog'\n",
    "word=['fox','dog']\n",
    "\n",
    "words_found=search_str(text,word)\n",
    "\n",
    "if words_found:\n",
    "    print(f'words_found: {\", \".join(words_found)}')\n",
    "else:\n",
    "    print('No words found.')\n",
    "            \n",
    "            "
   ]
  },
  {
   "cell_type": "markdown",
   "id": "758eabd9",
   "metadata": {},
   "source": [
    "#16 Question"
   ]
  },
  {
   "cell_type": "code",
   "execution_count": 43,
   "id": "bd7873b5",
   "metadata": {},
   "outputs": [
    {
     "name": "stdout",
     "output_type": "stream",
     "text": [
      "<regex.Match object; span=(16, 19), match='fox'>\n"
     ]
    }
   ],
   "source": [
    "smpl_text='The quick brown fox jumps over the lazy dog'\n",
    "ptn=re.search('fox',smpl_text)\n",
    "print(ptn)"
   ]
  },
  {
   "cell_type": "markdown",
   "id": "cf6005e8",
   "metadata": {},
   "source": [
    "#17 Question"
   ]
  },
  {
   "cell_type": "code",
   "execution_count": 44,
   "id": "2b8add7e",
   "metadata": {},
   "outputs": [
    {
     "name": "stdout",
     "output_type": "stream",
     "text": [
      "['exercises']\n"
     ]
    }
   ],
   "source": [
    "spl_text='Python exercises, PHP exercises, c# exercises'\n",
    "ptn=re.findall('\\w{9}$',spl_text)\n",
    "print(ptn)"
   ]
  },
  {
   "cell_type": "markdown",
   "id": "b42d35da",
   "metadata": {},
   "source": [
    "#18 Question"
   ]
  },
  {
   "cell_type": "code",
   "execution_count": 45,
   "id": "5895b5db",
   "metadata": {},
   "outputs": [],
   "source": [
    "def find(main_str,substring):\n",
    "    occurence=0\n",
    "    position=[]\n",
    "    \n",
    "    start_index=main_str.find(substring)\n",
    "    \n",
    "    while start_index !=-1:\n",
    "        occurence += 1\n",
    "        position.append(start_index)\n",
    "        start_index=main_str.find(substring,start_index + 1)\n",
    "    \n",
    "    return occurence, position\n",
    "    "
   ]
  },
  {
   "cell_type": "code",
   "execution_count": 46,
   "id": "ed632afa",
   "metadata": {},
   "outputs": [],
   "source": [
    "spl_txt=\"Python exercises, PHP exercises, C# exercises\"\n",
    "ptn= 'exercises'"
   ]
  },
  {
   "cell_type": "code",
   "execution_count": 47,
   "id": "0d0c07f4",
   "metadata": {},
   "outputs": [],
   "source": [
    "num_occurence, position= find(spl_txt,ptn)"
   ]
  },
  {
   "cell_type": "code",
   "execution_count": 48,
   "id": "50c18093",
   "metadata": {},
   "outputs": [
    {
     "name": "stdout",
     "output_type": "stream",
     "text": [
      "substring 'exercises' found 3 times at position: [7, 22, 36]\n"
     ]
    }
   ],
   "source": [
    "if num_occurence >0:\n",
    "    print(f\"substring '{ptn}' found {num_occurence} times at position: {position}\")\n",
    "else:\n",
    "    print(f\"substring '{ptn}' not found in the string.\")"
   ]
  },
  {
   "cell_type": "markdown",
   "id": "ca352067",
   "metadata": {},
   "source": [
    "#19 Question "
   ]
  },
  {
   "cell_type": "code",
   "execution_count": 49,
   "id": "3a89d57d",
   "metadata": {},
   "outputs": [],
   "source": [
    "import time"
   ]
  },
  {
   "cell_type": "code",
   "execution_count": 50,
   "id": "a67d3be7",
   "metadata": {},
   "outputs": [
    {
     "name": "stdout",
     "output_type": "stream",
     "text": [
      "2024-02-01\n"
     ]
    }
   ],
   "source": [
    "#YYYY-MM-DD Format\n",
    "print(time.strftime('%Y-%m-%d'))"
   ]
  },
  {
   "cell_type": "code",
   "execution_count": 51,
   "id": "58c8647d",
   "metadata": {},
   "outputs": [
    {
     "name": "stdout",
     "output_type": "stream",
     "text": [
      "01-02-2024\n"
     ]
    }
   ],
   "source": [
    "#DD-MM-YYYY\n",
    "print(time.strftime('%d-%m-%Y'))"
   ]
  },
  {
   "cell_type": "markdown",
   "id": "2823b581",
   "metadata": {},
   "source": [
    "#20 Question"
   ]
  },
  {
   "cell_type": "code",
   "execution_count": 52,
   "id": "2e731c54",
   "metadata": {},
   "outputs": [
    {
     "name": "stdout",
     "output_type": "stream",
     "text": [
      "['01.12', '145.8', '3.01', '27.25', '0.25']\n"
     ]
    }
   ],
   "source": [
    "sample=\"01.12 0132.123 2.31875 145.8 3.01 27.25 0.25\"\n",
    "ptrn=(r'\\b\\d+\\.\\d{1,2}\\b')\n",
    "#Compling Pattern \n",
    "exp_res=re.compile(ptrn)\n",
    "expected_result=exp_res.findall(sample)\n",
    "print(expected_result)"
   ]
  },
  {
   "cell_type": "markdown",
   "id": "6cb44b26",
   "metadata": {},
   "source": [
    "#21 Question"
   ]
  },
  {
   "cell_type": "code",
   "execution_count": 53,
   "id": "e7597150",
   "metadata": {},
   "outputs": [
    {
     "name": "stdout",
     "output_type": "stream",
     "text": [
      "01.12 \n",
      "Index Position 0\n",
      "0132.123 \n",
      "Index Position 6\n",
      "2.31875 \n",
      "Index Position 15\n",
      "145.8 \n",
      "Index Position 23\n",
      "3.01 \n",
      "Index Position 29\n",
      "27.25 \n",
      "Index Position 34\n",
      "0.25\n",
      "Index Position 40\n"
     ]
    }
   ],
   "source": [
    "string=\"01.12 0132.123 2.31875 145.8 3.01 27.25 0.25\"\n",
    "for m in re.finditer(r'\\d+(\\.\\d+)\\s?',string):\n",
    "    print(m.group(0))\n",
    "    print('Index Position',m.start())"
   ]
  },
  {
   "cell_type": "markdown",
   "id": "7c4f986d",
   "metadata": {},
   "source": [
    "#22 Question"
   ]
  },
  {
   "cell_type": "code",
   "execution_count": 54,
   "id": "2e5160f6",
   "metadata": {},
   "outputs": [
    {
     "name": "stdout",
     "output_type": "stream",
     "text": [
      "Max_number 950\n"
     ]
    }
   ],
   "source": [
    "str='My marks in each semester are:947,896,926,524,734,950,642'\n",
    "max_number=re.findall('\\d+',str)\n",
    "\n",
    "nos=map(int,max_number)\n",
    "print('Max_number',max(max_number))"
   ]
  },
  {
   "cell_type": "markdown",
   "id": "8eccfc3f",
   "metadata": {},
   "source": [
    "#23 Question"
   ]
  },
  {
   "cell_type": "code",
   "execution_count": 55,
   "id": "9f866384",
   "metadata": {},
   "outputs": [],
   "source": [
    "ptrn1=re.compile(r'[A-Z][a-z]+')"
   ]
  },
  {
   "cell_type": "code",
   "execution_count": 56,
   "id": "bb905342",
   "metadata": {},
   "outputs": [
    {
     "name": "stdout",
     "output_type": "stream",
     "text": [
      "['Regular', 'Expression', 'Is', 'Important', 'Topic', 'In', 'Python']\n"
     ]
    }
   ],
   "source": [
    "Sample_test='RegularExpressionIsANImportantTopicInPython'\n",
    "ptrn=ptrn1.findall(Sample_test)\n",
    "print(ptrn)"
   ]
  },
  {
   "cell_type": "markdown",
   "id": "9ba1dbb9",
   "metadata": {},
   "source": [
    "#24 Question"
   ]
  },
  {
   "cell_type": "code",
   "execution_count": 57,
   "id": "329d1f87",
   "metadata": {},
   "outputs": [
    {
     "name": "stdout",
     "output_type": "stream",
     "text": [
      "<regex.Match object; span=(0, 7), match='Regular'>\n",
      "<regex.Match object; span=(0, 10), match='Expression'>\n",
      "None\n",
      "<regex.Match object; span=(0, 9), match='Important'>\n",
      "<regex.Match object; span=(0, 5), match='Topic'>\n",
      "None\n",
      "<regex.Match object; span=(0, 6), match='Python'>\n"
     ]
    }
   ],
   "source": [
    "strg=['Regular',\n",
    "     'Expression',\n",
    "     'is',\n",
    "     'Important',\n",
    "     'Topic',\n",
    "     'in',\n",
    "     'Python!']\n",
    "for string in strg:\n",
    "    ptn=re.search(r'[A-Z]+[a-z]+',string)\n",
    "    print(ptn)"
   ]
  },
  {
   "cell_type": "markdown",
   "id": "4548250f",
   "metadata": {},
   "source": [
    "#25 Question"
   ]
  },
  {
   "cell_type": "code",
   "execution_count": 58,
   "id": "ad177e03",
   "metadata": {},
   "outputs": [
    {
     "name": "stdout",
     "output_type": "stream",
     "text": [
      "Hello hello world\n"
     ]
    }
   ],
   "source": [
    "stxt='Hello hello world world'\n",
    "ptn=re.sub(r'\\b(\\w+)(\\s+\\1)+\\b',r'\\1',stxt)\n",
    "print(ptn)"
   ]
  },
  {
   "cell_type": "markdown",
   "id": "95a1bc8b",
   "metadata": {},
   "source": [
    "#26 Question"
   ]
  },
  {
   "cell_type": "code",
   "execution_count": 59,
   "id": "189a606d",
   "metadata": {},
   "outputs": [
    {
     "name": "stdout",
     "output_type": "stream",
     "text": [
      "<regex.Match object; span=(0, 33), match='123abc is an alphanumeric 4566bca'>\n"
     ]
    }
   ],
   "source": [
    "sapl='123abc is an alphanumeric 4566bca'\n",
    "ptrn=r'.*[a-zA-Z0-9]$'\n",
    "result=re.match(ptrn,sapl)\n",
    "print(result)"
   ]
  },
  {
   "cell_type": "markdown",
   "id": "6de24af9",
   "metadata": {},
   "source": [
    "#27 Question"
   ]
  },
  {
   "cell_type": "code",
   "execution_count": 60,
   "id": "4d8f71fb",
   "metadata": {},
   "outputs": [
    {
     "name": "stdout",
     "output_type": "stream",
     "text": [
      "['#Dotiwal', '#xyzabc', '#Demonetization']\n"
     ]
    }
   ],
   "source": [
    "sample=\"\"\"RT @kapil_kausik: #Dotiwal I mean #xyzabc is 'hurt' by #Demonetization as the same has rendered USELESS\n",
    "<ed><U+00A0><U+00BD><ed><U+00B1><U+0089> 'acuired funds' No wo\"\"\"\n",
    "pattern=re.findall('#\\w+',sample)\n",
    "print(pattern)"
   ]
  },
  {
   "cell_type": "markdown",
   "id": "21c9eedf",
   "metadata": {},
   "source": [
    "#28 Question"
   ]
  },
  {
   "cell_type": "code",
   "execution_count": 61,
   "id": "1b08f5c2",
   "metadata": {},
   "outputs": [
    {
     "name": "stdout",
     "output_type": "stream",
     "text": [
      "@Jags123456 Bharat band on 28??<ed><ed>Those who are protesting #demonetization are all different party leaders\n"
     ]
    }
   ],
   "source": [
    "Sample=\"@Jags123456 Bharat band on 28??<ed><U+00A0><U+00BD><ed><U+00B8><U+0082>Those who are protesting #demonetization are all different party leaders\"\n",
    "result=re.sub(r'<U\\+[A-Fa-f0-9]+>',\"\",Sample)\n",
    "print(result)"
   ]
  },
  {
   "cell_type": "markdown",
   "id": "03b7e189",
   "metadata": {},
   "source": [
    "#29 Question"
   ]
  },
  {
   "cell_type": "code",
   "execution_count": 62,
   "id": "c3671338",
   "metadata": {},
   "outputs": [],
   "source": [
    "text2='Ron was born on 12-09-1992 and he was admitted to school 15-12-1999'\n",
    "with open('text2.txt','w') as file:\n",
    "    file.write(text2)"
   ]
  },
  {
   "cell_type": "code",
   "execution_count": 63,
   "id": "eaa4637a",
   "metadata": {},
   "outputs": [
    {
     "name": "stdout",
     "output_type": "stream",
     "text": [
      "Expected_result: ['12-09-1992', '15-12-1999']\n"
     ]
    }
   ],
   "source": [
    "with open ('text2.txt','r') as file:\n",
    "    sample_text=file.read()\n",
    "pattern=r'\\d{2}-\\d{2}-\\d{4}'\n",
    "\n",
    "result=re.findall(pattern,sample_text)\n",
    "print(\"Expected_result:\",result)"
   ]
  },
  {
   "cell_type": "markdown",
   "id": "5be379b7",
   "metadata": {},
   "source": [
    "#30 Question"
   ]
  },
  {
   "cell_type": "code",
   "execution_count": 64,
   "id": "6ef765c5",
   "metadata": {},
   "outputs": [],
   "source": [
    "pattern=r'\\W*\\b\\w{2,4}\\b'\n",
    "# Compiling the pattern\n",
    "exp=re.compile(pattern)"
   ]
  },
  {
   "cell_type": "code",
   "execution_count": 65,
   "id": "6847b3a0",
   "metadata": {},
   "outputs": [
    {
     "name": "stdout",
     "output_type": "stream",
     "text": [
      "Expected Result:-->  following examples creates ArrayList a capacity elements.4 elements added ArrayList ArrayList trimmed accordingly.\n"
     ]
    }
   ],
   "source": [
    "Sample_txtt='The following examples creates an ArrayList with a capacity of 50 elements.4 elements are then added to the ArrayList and the ArrayList is trimmed accordingly.'\n",
    "result=re.sub(exp,'',Sample_txtt)\n",
    "print('Expected Result:-->',result)"
   ]
  }
 ],
 "metadata": {
  "kernelspec": {
   "display_name": "Python 3 (ipykernel)",
   "language": "python",
   "name": "python3"
  },
  "language_info": {
   "codemirror_mode": {
    "name": "ipython",
    "version": 3
   },
   "file_extension": ".py",
   "mimetype": "text/x-python",
   "name": "python",
   "nbconvert_exporter": "python",
   "pygments_lexer": "ipython3",
   "version": "3.11.5"
  }
 },
 "nbformat": 4,
 "nbformat_minor": 5
}
