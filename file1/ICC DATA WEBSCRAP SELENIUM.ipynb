{
 "cells": [
  {
   "cell_type": "code",
   "execution_count": 1,
   "id": "2583c6f9",
   "metadata": {},
   "outputs": [],
   "source": [
    "import selenium\n",
    "import pandas as pd\n",
    "from selenium import webdriver\n",
    "import warnings\n",
    "warnings.filterwarnings('ignore')\n",
    "from selenium.webdriver.common.by import By\n",
    "import time"
   ]
  },
  {
   "cell_type": "code",
   "execution_count": 2,
   "id": "9453160b",
   "metadata": {},
   "outputs": [],
   "source": [
    "driver=webdriver.Chrome()"
   ]
  },
  {
   "cell_type": "code",
   "execution_count": 3,
   "id": "fdd1d830",
   "metadata": {},
   "outputs": [],
   "source": [
    "driver.get('https://www.icc-cricket.com/rankings/team-rankings/mens/odi')"
   ]
  },
  {
   "cell_type": "code",
   "execution_count": 4,
   "id": "2e1d5f6e",
   "metadata": {},
   "outputs": [],
   "source": [
    "Position=[]\n",
    "Team=[]\n",
    "Rating=[]\n",
    "Points=[]\n",
    "Matches=[]"
   ]
  },
  {
   "cell_type": "code",
   "execution_count": 6,
   "id": "37080710",
   "metadata": {},
   "outputs": [],
   "source": [
    "position=driver.find_elements(By.XPATH,'//div[@class=\"si-table-data si-pos\"]')\n",
    "for i in position:\n",
    "    pos=i.text\n",
    "    Position.append(pos)\n",
    "    Position=Position[0:11]\n",
    "    \n",
    "team=driver.find_elements(By.XPATH,'//span[@class=\"si-fname si-text\"]')\n",
    "for i in team:\n",
    "    Teams=i.text\n",
    "    Team.append(Teams)\n",
    "    Team=Team[0:10]\n",
    "    \n",
    "rate=driver.find_elements(By.XPATH,'//div[@class=\"si-table-data si-rating\"]')\n",
    "for i in rate:\n",
    "    rates=i.text\n",
    "    Rating.append(rates)\n",
    "    Rating=Rating[0:11]\n",
    "    \n",
    "\n",
    "point=driver.find_elements(By.XPATH,'//div[@class=\"si-table-data si-pts\"]')\n",
    "for i in point:\n",
    "    pnt=i.text\n",
    "    Points.append(pnt)\n",
    "    Points=Points[0:11]\n",
    "    \n",
    "    \n",
    "match=driver.find_elements(By.XPATH,'//div[@class=\"si-table-data si-matches\"]')\n",
    "for i in match:\n",
    "    matches=i.text\n",
    "    Matches.append(matches)\n",
    "    Matches=Matches[0:11]\n",
    "    "
   ]
  },
  {
   "cell_type": "code",
   "execution_count": 7,
   "id": "bd60f948",
   "metadata": {},
   "outputs": [],
   "source": [
    "Position.remove('Pos')"
   ]
  },
  {
   "cell_type": "code",
   "execution_count": 8,
   "id": "fd97d7af",
   "metadata": {},
   "outputs": [],
   "source": [
    "Rating.remove('Rating')"
   ]
  },
  {
   "cell_type": "code",
   "execution_count": 9,
   "id": "8484cb4a",
   "metadata": {},
   "outputs": [],
   "source": [
    "Points.remove('Pts')"
   ]
  },
  {
   "cell_type": "code",
   "execution_count": 10,
   "id": "b358ce5b",
   "metadata": {},
   "outputs": [],
   "source": [
    "Matches.remove('Matches')"
   ]
  },
  {
   "cell_type": "code",
   "execution_count": 11,
   "id": "e47ee191",
   "metadata": {},
   "outputs": [
    {
     "name": "stdout",
     "output_type": "stream",
     "text": [
      "10 10 10 10 10\n"
     ]
    }
   ],
   "source": [
    "print(len(Position),len(Team),len(Rating),len(Points),len(Matches))\n"
   ]
  },
  {
   "cell_type": "code",
   "execution_count": 12,
   "id": "b8d6de71",
   "metadata": {},
   "outputs": [],
   "source": [
    "df=pd.DataFrame({'Position':Position,'Team':Team,'Rating':Rating,'Points':Points,'Matches':Matches})"
   ]
  },
  {
   "cell_type": "code",
   "execution_count": 13,
   "id": "0cc5b088",
   "metadata": {},
   "outputs": [
    {
     "data": {
      "text/html": [
       "<div>\n",
       "<style scoped>\n",
       "    .dataframe tbody tr th:only-of-type {\n",
       "        vertical-align: middle;\n",
       "    }\n",
       "\n",
       "    .dataframe tbody tr th {\n",
       "        vertical-align: top;\n",
       "    }\n",
       "\n",
       "    .dataframe thead th {\n",
       "        text-align: right;\n",
       "    }\n",
       "</style>\n",
       "<table border=\"1\" class=\"dataframe\">\n",
       "  <thead>\n",
       "    <tr style=\"text-align: right;\">\n",
       "      <th></th>\n",
       "      <th>Position</th>\n",
       "      <th>Team</th>\n",
       "      <th>Rating</th>\n",
       "      <th>Points</th>\n",
       "      <th>Matches</th>\n",
       "    </tr>\n",
       "  </thead>\n",
       "  <tbody>\n",
       "    <tr>\n",
       "      <th>0</th>\n",
       "      <td>01</td>\n",
       "      <td>INDIA</td>\n",
       "      <td>121</td>\n",
       "      <td>7020</td>\n",
       "      <td>58</td>\n",
       "    </tr>\n",
       "    <tr>\n",
       "      <th>1</th>\n",
       "      <td>02</td>\n",
       "      <td>AUSTRALIA</td>\n",
       "      <td>118</td>\n",
       "      <td>5309</td>\n",
       "      <td>45</td>\n",
       "    </tr>\n",
       "    <tr>\n",
       "      <th>2</th>\n",
       "      <td>03</td>\n",
       "      <td>SOUTH AFRICA</td>\n",
       "      <td>110</td>\n",
       "      <td>4062</td>\n",
       "      <td>37</td>\n",
       "    </tr>\n",
       "    <tr>\n",
       "      <th>3</th>\n",
       "      <td>04</td>\n",
       "      <td>PAKISTAN</td>\n",
       "      <td>109</td>\n",
       "      <td>3922</td>\n",
       "      <td>36</td>\n",
       "    </tr>\n",
       "    <tr>\n",
       "      <th>4</th>\n",
       "      <td>05</td>\n",
       "      <td>NEW ZEALAND</td>\n",
       "      <td>102</td>\n",
       "      <td>4708</td>\n",
       "      <td>46</td>\n",
       "    </tr>\n",
       "    <tr>\n",
       "      <th>5</th>\n",
       "      <td>06</td>\n",
       "      <td>ENGLAND</td>\n",
       "      <td>96</td>\n",
       "      <td>3934</td>\n",
       "      <td>41</td>\n",
       "    </tr>\n",
       "    <tr>\n",
       "      <th>6</th>\n",
       "      <td>07</td>\n",
       "      <td>SRI LANKA</td>\n",
       "      <td>91</td>\n",
       "      <td>4735</td>\n",
       "      <td>52</td>\n",
       "    </tr>\n",
       "    <tr>\n",
       "      <th>7</th>\n",
       "      <td>08</td>\n",
       "      <td>BANGLADESH</td>\n",
       "      <td>87</td>\n",
       "      <td>4095</td>\n",
       "      <td>47</td>\n",
       "    </tr>\n",
       "    <tr>\n",
       "      <th>8</th>\n",
       "      <td>09</td>\n",
       "      <td>AFGHANISTAN</td>\n",
       "      <td>80</td>\n",
       "      <td>2650</td>\n",
       "      <td>33</td>\n",
       "    </tr>\n",
       "    <tr>\n",
       "      <th>9</th>\n",
       "      <td>10</td>\n",
       "      <td>WEST INDIES</td>\n",
       "      <td>71</td>\n",
       "      <td>3109</td>\n",
       "      <td>44</td>\n",
       "    </tr>\n",
       "  </tbody>\n",
       "</table>\n",
       "</div>"
      ],
      "text/plain": [
       "  Position          Team Rating Points Matches\n",
       "0       01         INDIA    121   7020      58\n",
       "1       02     AUSTRALIA    118   5309      45\n",
       "2       03  SOUTH AFRICA    110   4062      37\n",
       "3       04      PAKISTAN    109   3922      36\n",
       "4       05   NEW ZEALAND    102   4708      46\n",
       "5       06       ENGLAND     96   3934      41\n",
       "6       07     SRI LANKA     91   4735      52\n",
       "7       08    BANGLADESH     87   4095      47\n",
       "8       09   AFGHANISTAN     80   2650      33\n",
       "9       10   WEST INDIES     71   3109      44"
      ]
     },
     "execution_count": 13,
     "metadata": {},
     "output_type": "execute_result"
    }
   ],
   "source": [
    "df"
   ]
  },
  {
   "cell_type": "markdown",
   "id": "5ed984a3",
   "metadata": {},
   "source": [
    "2) Write a python program to scrape product name, price and discounts from\n",
    "https://www.meesho.com/bags-ladies/pl/3jo?page=1"
   ]
  },
  {
   "cell_type": "code",
   "execution_count": 14,
   "id": "82e4ec6a",
   "metadata": {},
   "outputs": [],
   "source": [
    "driver=webdriver.Chrome()"
   ]
  },
  {
   "cell_type": "code",
   "execution_count": 15,
   "id": "69082e89",
   "metadata": {},
   "outputs": [],
   "source": [
    "driver.get('https://www.meesho.com/bags-ladies/pl/3jo?page=1')"
   ]
  },
  {
   "cell_type": "code",
   "execution_count": 41,
   "id": "aa4aca5f",
   "metadata": {},
   "outputs": [],
   "source": [
    "Name=[]\n",
    "Price=[]\n",
    "Rating=[]"
   ]
  },
  {
   "cell_type": "code",
   "execution_count": 42,
   "id": "669df415",
   "metadata": {},
   "outputs": [],
   "source": [
    "name=driver.find_elements(By.XPATH,'//div[@class=\"NewProductCardstyled__ProductHeaderWrapper-sc-6y2tys-30 gspQJ\"]/span/p')\n",
    "for i in name:\n",
    "    na=i.text\n",
    "    Name.append(na)\n",
    "\n",
    "price=driver.find_elements(By.XPATH,'//div[@class=\"sc-bcXHqe kTWHUQ NewProductCardstyled__PriceRow-sc-6y2tys-7 bIZpbw NewProductCardstyled__PriceRow-sc-6y2tys-7 bIZpbw\"]/h5')\n",
    "for i in price:\n",
    "    pc=i.text\n",
    "    Price.append(pc)\n",
    "    \n",
    "Rate=driver.find_elements(By.XPATH,'//span[@class=\"sc-gKPRtg hTYrlo\"]')\n",
    "Ratee=driver.find_elements(By.XPATH,'//span[@class=\"sc-gKPRtg kuvnkX\"]')\n",
    "for i in Rate and Ratee:\n",
    "    rate=i.text\n",
    "    Rating.append(rate)"
   ]
  },
  {
   "cell_type": "markdown",
   "id": "7b39863d",
   "metadata": {},
   "source": [
    "4) Write a python program to scrape details of all the posts from https://www.patreon.com/coreyms .Scrape the\n",
    "heading, date, content and the likes for the video from the link for the youtube video from the post.\n"
   ]
  },
  {
   "cell_type": "code",
   "execution_count": 44,
   "id": "d944f7fd",
   "metadata": {},
   "outputs": [],
   "source": [
    "driver=webdriver.Chrome()"
   ]
  },
  {
   "cell_type": "code",
   "execution_count": 45,
   "id": "011cfb0f",
   "metadata": {},
   "outputs": [],
   "source": [
    "driver.get(' https://www.patreon.com/coreyms ')"
   ]
  },
  {
   "cell_type": "code",
   "execution_count": 46,
   "id": "fb3ea64b",
   "metadata": {},
   "outputs": [],
   "source": [
    "Heading=[]\n",
    "Date=[]\n",
    "Likes=[]"
   ]
  },
  {
   "cell_type": "code",
   "execution_count": 48,
   "id": "dd791d51",
   "metadata": {},
   "outputs": [],
   "source": [
    "heading=driver.find_elements(By.XPATH,'//span[@class=\"sc-1hmaiaw-0 fIBzIT\"]')\n",
    "for i in heading:\n",
    "    head=i.text\n",
    "    Heading.append(head)\n",
    "    \n",
    "date=driver.find_elements(By.XPATH,'//p[@class=\"sc-fFeiMQ hGHQwf sc-mz8f26-1 bShzIK\"]/span/a')\n",
    "for i in date:\n",
    "    datee=i.text\n",
    "    Date.append(datee)\n",
    "    \n",
    "likes=driver.find_elements(By.XPATH,'//span[@class=\"sc-fFeiMQ hGHQwf\"]')\n",
    "for i in likes:\n",
    "    like=i.text\n",
    "    Likes.append(like)\n"
   ]
  },
  {
   "cell_type": "code",
   "execution_count": 49,
   "id": "7d669628",
   "metadata": {},
   "outputs": [],
   "source": [
    "ContentDF=pd.DataFrame({'Heading':Heading,'Date':Date,'Likes':Likes})"
   ]
  },
  {
   "cell_type": "code",
   "execution_count": 52,
   "id": "65f44069",
   "metadata": {},
   "outputs": [
    {
     "data": {
      "text/html": [
       "<div>\n",
       "<style scoped>\n",
       "    .dataframe tbody tr th:only-of-type {\n",
       "        vertical-align: middle;\n",
       "    }\n",
       "\n",
       "    .dataframe tbody tr th {\n",
       "        vertical-align: top;\n",
       "    }\n",
       "\n",
       "    .dataframe thead th {\n",
       "        text-align: right;\n",
       "    }\n",
       "</style>\n",
       "<table border=\"1\" class=\"dataframe\">\n",
       "  <thead>\n",
       "    <tr style=\"text-align: right;\">\n",
       "      <th></th>\n",
       "      <th>Heading</th>\n",
       "      <th>Date</th>\n",
       "      <th>Likes</th>\n",
       "    </tr>\n",
       "  </thead>\n",
       "  <tbody>\n",
       "    <tr>\n",
       "      <th>0</th>\n",
       "      <td>How to Use ChatGPT as a Powerful Tool for Prog...</td>\n",
       "      <td>21 May 2023</td>\n",
       "      <td>2</td>\n",
       "    </tr>\n",
       "    <tr>\n",
       "      <th>1</th>\n",
       "      <td>Python Tutorial: Simulate the Powerball lotter...</td>\n",
       "      <td>28 Jan 2023</td>\n",
       "      <td>2</td>\n",
       "    </tr>\n",
       "    <tr>\n",
       "      <th>2</th>\n",
       "      <td>(Early Access) Python YouTube API Tutorial: Ca...</td>\n",
       "      <td>9 Jun 2020</td>\n",
       "      <td>2</td>\n",
       "    </tr>\n",
       "    <tr>\n",
       "      <th>3</th>\n",
       "      <td>Python YouTube API Tutorial: Getting Started -...</td>\n",
       "      <td>29 May 2020</td>\n",
       "      <td>5</td>\n",
       "    </tr>\n",
       "    <tr>\n",
       "      <th>4</th>\n",
       "      <td>Python Tutorial: Real World Example - Using Pa...</td>\n",
       "      <td>24 May 2020</td>\n",
       "      <td>5</td>\n",
       "    </tr>\n",
       "  </tbody>\n",
       "</table>\n",
       "</div>"
      ],
      "text/plain": [
       "                                             Heading         Date Likes\n",
       "0  How to Use ChatGPT as a Powerful Tool for Prog...  21 May 2023     2\n",
       "1  Python Tutorial: Simulate the Powerball lotter...  28 Jan 2023     2\n",
       "2  (Early Access) Python YouTube API Tutorial: Ca...   9 Jun 2020     2\n",
       "3  Python YouTube API Tutorial: Getting Started -...  29 May 2020     5\n",
       "4  Python Tutorial: Real World Example - Using Pa...  24 May 2020     5"
      ]
     },
     "execution_count": 52,
     "metadata": {},
     "output_type": "execute_result"
    }
   ],
   "source": [
    "ContentDF.head(5)"
   ]
  },
  {
   "cell_type": "markdown",
   "id": "3a751084",
   "metadata": {},
   "source": [
    "Write a python program to scrape house details from mentioned URL. It should include house title, location,\n",
    "area, EMI and price from https://www.nobroker.in/ .Enter three localities which are Indira Nagar, Jayanagar,\n",
    "Rajaji Nagar."
   ]
  },
  {
   "cell_type": "code",
   "execution_count": 63,
   "id": "e053b391",
   "metadata": {},
   "outputs": [],
   "source": [
    "driver=webdriver.Chrome()"
   ]
  },
  {
   "cell_type": "code",
   "execution_count": 64,
   "id": "5cc8fd40",
   "metadata": {},
   "outputs": [],
   "source": [
    "driver.get('https://www.nobroker.in/')"
   ]
  },
  {
   "cell_type": "code",
   "execution_count": 86,
   "id": "ae84d5cf",
   "metadata": {},
   "outputs": [],
   "source": [
    "location=driver.find_element(By.XPATH,'/html/body/div[4]/div/div/div[2]/div[2]/div[4]/div/div/input')\n",
    "location.send_keys('Indiranagar,Bengaluru,Karnataka,India')\n",
    "\n",
    "looking=driver.find_element(By.XPATH,'/html/body/div[4]/div/div/div[2]/div[3]/div[2]/div[1]')\n",
    "looking.click()\n",
    "\n",
    "size=driver.find_element(By.XPATH,'/html/body/div[4]/div/div/div[2]/div[3]/div[3]/div[2]/div[3]')\n",
    "size.click()\n",
    "\n",
    "search=driver.find_element(By.XPATH,'/html/body/div[4]/div/div/div[2]/div[2]/button')\n",
    "search.click()"
   ]
  },
  {
   "cell_type": "code",
   "execution_count": 108,
   "id": "cdc9597b",
   "metadata": {},
   "outputs": [],
   "source": [
    "House_Title=[]\n",
    "Location=[]\n",
    "Area=[]\n",
    "Emi=[]\n",
    "Price=[]"
   ]
  },
  {
   "cell_type": "code",
   "execution_count": 109,
   "id": "ce7adaf6",
   "metadata": {},
   "outputs": [],
   "source": [
    "title_tag=driver.find_elements(By.XPATH,'//h2[@class=\"heading-6 flex items-center font-semi-bold m-0\"]/a')\n",
    "for i in title_tag:\n",
    "    title=i.text\n",
    "    House_Title.append(title)\n",
    "    House_Title[0:25]\n",
    "location=driver.find_elements(By.XPATH,'//div[@class=\"mt-0.5p overflow-hidden overflow-ellipsis whitespace-nowrap max-w-70 text-gray-light leading-4 po:mb-0.1p po:max-w-95\"]')\n",
    "for i in location:\n",
    "    loc=i.text\n",
    "    Location.append(loc)\n",
    "    Location[0:25]\n",
    "area=driver.find_elements(By.XPATH,'//div[@class=\"flex flex-col w-33pe items-center tp:w-half po:w-full \"]')\n",
    "for i in area:\n",
    "    areaa=i.text\n",
    "    Area.append(areaa)\n",
    "    Area[0:25]\n",
    "    Area=[item.replace('\\nBuiltup', '') for item in Area]\n",
    "    \n",
    "emi=driver.find_elements(By.XPATH,'//*[@id=\"minDeposit\"]/div[1]')\n",
    "for i in emi:\n",
    "    emii=i.text\n",
    "    Emi.append(emii)\n",
    "    Emi[0:25]\n",
    "    \n",
    "price=driver.find_elements(By.XPATH,'//*[@id=\"roomType\"]')\n",
    "for i in price:\n",
    "    prc=i.text\n",
    "    Price.append(prc)\n",
    "    Price[0:25]"
   ]
  },
  {
   "cell_type": "code",
   "execution_count": 110,
   "id": "bdc0fd10",
   "metadata": {},
   "outputs": [],
   "source": [
    "df=pd.DataFrame({'House_Title':House_Title,'Location':Location,'Area':Area,'Emi':Emi,'Price':Price})"
   ]
  },
  {
   "cell_type": "code",
   "execution_count": 112,
   "id": "ef4d6f63",
   "metadata": {},
   "outputs": [
    {
     "data": {
      "text/html": [
       "<div>\n",
       "<style scoped>\n",
       "    .dataframe tbody tr th:only-of-type {\n",
       "        vertical-align: middle;\n",
       "    }\n",
       "\n",
       "    .dataframe tbody tr th {\n",
       "        vertical-align: top;\n",
       "    }\n",
       "\n",
       "    .dataframe thead th {\n",
       "        text-align: right;\n",
       "    }\n",
       "</style>\n",
       "<table border=\"1\" class=\"dataframe\">\n",
       "  <thead>\n",
       "    <tr style=\"text-align: right;\">\n",
       "      <th></th>\n",
       "      <th>House_Title</th>\n",
       "      <th>Location</th>\n",
       "      <th>Area</th>\n",
       "      <th>Emi</th>\n",
       "      <th>Price</th>\n",
       "    </tr>\n",
       "  </thead>\n",
       "  <tbody>\n",
       "    <tr>\n",
       "      <th>0</th>\n",
       "      <td>2 BHK House For Rent In Indira Nagar Ii Stage,...</td>\n",
       "      <td>Independent House, 10th Main, 4th Cross, Indra...</td>\n",
       "      <td>1,350 sqft</td>\n",
       "      <td>₹ 36,000</td>\n",
       "      <td>₹2,00,000</td>\n",
       "    </tr>\n",
       "    <tr>\n",
       "      <th>1</th>\n",
       "      <td>2 BHK House For Rent In Indiranagar</td>\n",
       "      <td>Independent House, 11th Main Road</td>\n",
       "      <td>1,200 sqft</td>\n",
       "      <td>₹ 60,000 +</td>\n",
       "      <td>₹5,00,000</td>\n",
       "    </tr>\n",
       "    <tr>\n",
       "      <th>2</th>\n",
       "      <td>2 BHK In Kamala Nivas For Rent In Pulkeshi Nagar</td>\n",
       "      <td>Coles Road, near Domino's Pizza</td>\n",
       "      <td>750 sqft</td>\n",
       "      <td>₹ 18,000</td>\n",
       "      <td>₹1,80,000</td>\n",
       "    </tr>\n",
       "    <tr>\n",
       "      <th>3</th>\n",
       "      <td>2 BHK Flat For Rent In Indiranagar</td>\n",
       "      <td>Standalone Building, HAL 2nd StageNear New Hor...</td>\n",
       "      <td>1,000 sqft</td>\n",
       "      <td>₹ 16,000</td>\n",
       "      <td>₹1,00,000</td>\n",
       "    </tr>\n",
       "    <tr>\n",
       "      <th>4</th>\n",
       "      <td>2 BHK Flat In Apartment For Rent In Halasur</td>\n",
       "      <td>Old Madras Road near Adarsh Theater</td>\n",
       "      <td>500 sqft</td>\n",
       "      <td>₹ 12,000</td>\n",
       "      <td>₹80,000</td>\n",
       "    </tr>\n",
       "  </tbody>\n",
       "</table>\n",
       "</div>"
      ],
      "text/plain": [
       "                                         House_Title  \\\n",
       "0  2 BHK House For Rent In Indira Nagar Ii Stage,...   \n",
       "1                2 BHK House For Rent In Indiranagar   \n",
       "2   2 BHK In Kamala Nivas For Rent In Pulkeshi Nagar   \n",
       "3                 2 BHK Flat For Rent In Indiranagar   \n",
       "4        2 BHK Flat In Apartment For Rent In Halasur   \n",
       "\n",
       "                                            Location        Area         Emi  \\\n",
       "0  Independent House, 10th Main, 4th Cross, Indra...  1,350 sqft    ₹ 36,000   \n",
       "1                  Independent House, 11th Main Road  1,200 sqft  ₹ 60,000 +   \n",
       "2                    Coles Road, near Domino's Pizza    750 sqft    ₹ 18,000   \n",
       "3  Standalone Building, HAL 2nd StageNear New Hor...  1,000 sqft    ₹ 16,000   \n",
       "4                Old Madras Road near Adarsh Theater    500 sqft    ₹ 12,000   \n",
       "\n",
       "       Price  \n",
       "0  ₹2,00,000  \n",
       "1  ₹5,00,000  \n",
       "2  ₹1,80,000  \n",
       "3  ₹1,00,000  \n",
       "4    ₹80,000  "
      ]
     },
     "execution_count": 112,
     "metadata": {},
     "output_type": "execute_result"
    }
   ],
   "source": [
    "df.head()"
   ]
  },
  {
   "cell_type": "code",
   "execution_count": null,
   "id": "ace021fa",
   "metadata": {},
   "outputs": [],
   "source": []
  },
  {
   "cell_type": "code",
   "execution_count": null,
   "id": "d81bf301",
   "metadata": {},
   "outputs": [],
   "source": []
  },
  {
   "cell_type": "code",
   "execution_count": null,
   "id": "4df6f12b",
   "metadata": {},
   "outputs": [],
   "source": []
  }
 ],
 "metadata": {
  "kernelspec": {
   "display_name": "Python 3 (ipykernel)",
   "language": "python",
   "name": "python3"
  },
  "language_info": {
   "codemirror_mode": {
    "name": "ipython",
    "version": 3
   },
   "file_extension": ".py",
   "mimetype": "text/x-python",
   "name": "python",
   "nbconvert_exporter": "python",
   "pygments_lexer": "ipython3",
   "version": "3.11.5"
  }
 },
 "nbformat": 4,
 "nbformat_minor": 5
}
