{
 "cells": [
  {
   "cell_type": "markdown",
   "id": "51932ca9",
   "metadata": {},
   "source": [
    "# WEB SCRAPING-ASSIGNMENT3"
   ]
  },
  {
   "cell_type": "markdown",
   "id": "eb839558",
   "metadata": {},
   "source": [
    "IMPORTING LIBRARIES"
   ]
  },
  {
   "cell_type": "code",
   "execution_count": 1,
   "id": "dbb20d75",
   "metadata": {},
   "outputs": [],
   "source": [
    "import selenium\n",
    "import pandas as pd\n",
    "import time\n",
    "from bs4 import BeautifulSoup\n",
    "\n",
    "#Importing Selenium WebDriver\n",
    "from selenium import webdriver\n",
    "\n",
    "#Importing required Exceptions which needs to handle\n",
    "from selenium.common.exceptions import StaleElementReferenceException,NoSuchElementException\n",
    "\n",
    "#Importing Requests\n",
    "import requests\n",
    "from selenium.webdriver.common.by import By\n",
    "\n",
    "#Importing Warnings\n",
    "import warnings\n",
    "warnings.filterwarnings('ignore')"
   ]
  },
  {
   "cell_type": "markdown",
   "id": "6d28183d",
   "metadata": {},
   "source": [
    "QUESTION 1 and QUESTION 2"
   ]
  },
  {
   "cell_type": "code",
   "execution_count": 2,
   "id": "a2026ea7",
   "metadata": {},
   "outputs": [],
   "source": [
    "driver=webdriver.Chrome()"
   ]
  },
  {
   "cell_type": "code",
   "execution_count": 3,
   "id": "b39bcb39",
   "metadata": {},
   "outputs": [],
   "source": [
    "driver.get('https://www.amazon.in/')"
   ]
  },
  {
   "cell_type": "code",
   "execution_count": 4,
   "id": "7cfc0072",
   "metadata": {},
   "outputs": [],
   "source": [
    "search_field_designation=driver.find_element(By.XPATH,'/html/body/div[1]/header/div/div[1]/div[2]/div/form/div[2]/div[1]/input')\n",
    "search_field_designation.send_keys('guitar')\n"
   ]
  },
  {
   "cell_type": "code",
   "execution_count": 5,
   "id": "6046df38",
   "metadata": {},
   "outputs": [],
   "source": [
    "search_button=driver.find_element(By.XPATH,'/html/body/div[1]/header/div/div[1]/div[2]/div/form/div[3]/div/span/input')\n",
    "search_button.click()"
   ]
  },
  {
   "cell_type": "code",
   "execution_count": 6,
   "id": "da3e98ee",
   "metadata": {},
   "outputs": [],
   "source": [
    "# Fetching URL to open each Description of Guitar\n",
    "guitar_url=[]\n",
    "start=0\n",
    "end=3\n",
    "for page in range (start,end):\n",
    "    url=driver.find_elements(By.XPATH,'//a[@class=\"a-link-normal s-underline-text s-underline-link-text s-link-style a-text-normal\"]')\n",
    "    for i in url:\n",
    "        guitar_url.append(i.get_attribute('href'))\n",
    "        #To retrieve any link we use get_attribute\n",
    "    next_button=driver.find_elements(By.XPATH,'//a[@class=\"s-pagination-item s-pagination-next s-pagination-button s-pagination-separator\"]')"
   ]
  },
  {
   "cell_type": "code",
   "execution_count": 7,
   "id": "25358533",
   "metadata": {},
   "outputs": [
    {
     "data": {
      "text/plain": [
       "210"
      ]
     },
     "execution_count": 7,
     "metadata": {},
     "output_type": "execute_result"
    }
   ],
   "source": [
    "len(guitar_url)"
   ]
  },
  {
   "cell_type": "code",
   "execution_count": 8,
   "id": "985a59fe",
   "metadata": {},
   "outputs": [],
   "source": [
    "NameOfTheProduct=[]\n",
    "\n",
    "for i in guitar_url:\n",
    "    driver.get(i)\n",
    "    time.sleep(5)\n",
    "    \n",
    "    try:\n",
    "        name=driver.find_element(By.XPATH,'//*[@id=\"productTitle\"]')\n",
    "        NameOfTheProduct.append(name.text)\n",
    "        \n",
    "    except NoSuchElementException:\n",
    "        NameOfTheProduct.append('Not Present')"
   ]
  },
  {
   "cell_type": "code",
   "execution_count": 12,
   "id": "4f9aa9ac",
   "metadata": {},
   "outputs": [],
   "source": [
    "Price=[]\n",
    "Return_Exchange=[]\n",
    "ExpectedDelivery=[]\n",
    "Availability=[]\n",
    "\n",
    "for i in guitar_url:\n",
    "    driver.get(i)\n",
    "    time.sleep(3)\n",
    "    \n",
    "    try:\n",
    "        price=driver.find_element(By.XPATH,'/html/body/div[2]/div/div[5]/div[3]/div[4]/div[13]/div/div/div[4]/div[1]/span[3]/span[2]/span[2]')\n",
    "        Price.append(price.text)\n",
    "        \n",
    "    except NoSuchElementException:\n",
    "        Price.append(' - ')\n",
    "        \n",
    "    try:\n",
    "        return_exc=driver.find_element(By.XPATH,'/html/body/div[2]/div/div[6]/div[3]/div[4]/div[23]/div[2]/div/div/div/div[2]/div/ol/li[3]/div/span/div[2]/span')\n",
    "        Return_Exchange.append(return_exc.text)\n",
    "        \n",
    "    except NoSuchElementException:\n",
    "        Return_Exchange.append(' - ')\n",
    "        \n",
    "    try:\n",
    "        expect=driver.find_element(By.XPATH,'/html/body/div[2]/div/div[5]/div[3]/div[1]/div[3]/div/div[1]/div/div/div/form/div/div/div/div/div[4]/div/div[3]/div[10]/div[1]/div/div/div[1]/span/span')\n",
    "        ExpectedDelivery.append(expect.text)\n",
    "        \n",
    "    except NoSuchElementException:\n",
    "        ExpectedDelivery.append(' - ')\n",
    "        \n",
    "    try:\n",
    "        available=driver.find_element(By.XPATH,'/html/body/div[2]/div/div[5]/div[3]/div[1]/div[3]/div/div[1]/div/div/div/form/div/div/div/div/div[4]/div/div[5]/div/div[1]/span')\n",
    "        Availability.append(available.text)\n",
    "        \n",
    "    except NoSuchElementException:\n",
    "        Availability.append(' - ')"
   ]
  },
  {
   "cell_type": "code",
   "execution_count": 13,
   "id": "91f8208e",
   "metadata": {},
   "outputs": [
    {
     "data": {
      "text/plain": [
       "210"
      ]
     },
     "execution_count": 13,
     "metadata": {},
     "output_type": "execute_result"
    }
   ],
   "source": [
    "len(NameOfTheProduct)"
   ]
  },
  {
   "cell_type": "code",
   "execution_count": 14,
   "id": "55b9b25d",
   "metadata": {},
   "outputs": [
    {
     "data": {
      "text/plain": [
       "210"
      ]
     },
     "execution_count": 14,
     "metadata": {},
     "output_type": "execute_result"
    }
   ],
   "source": [
    "len(Price)"
   ]
  },
  {
   "cell_type": "code",
   "execution_count": 15,
   "id": "d474bd07",
   "metadata": {},
   "outputs": [
    {
     "data": {
      "text/plain": [
       "210"
      ]
     },
     "execution_count": 15,
     "metadata": {},
     "output_type": "execute_result"
    }
   ],
   "source": [
    "len(Return_Exchange)"
   ]
  },
  {
   "cell_type": "code",
   "execution_count": 16,
   "id": "04036855",
   "metadata": {},
   "outputs": [
    {
     "data": {
      "text/plain": [
       "210"
      ]
     },
     "execution_count": 16,
     "metadata": {},
     "output_type": "execute_result"
    }
   ],
   "source": [
    "len(ExpectedDelivery)"
   ]
  },
  {
   "cell_type": "code",
   "execution_count": 17,
   "id": "fad4d1cf",
   "metadata": {},
   "outputs": [
    {
     "data": {
      "text/plain": [
       "210"
      ]
     },
     "execution_count": 17,
     "metadata": {},
     "output_type": "execute_result"
    }
   ],
   "source": [
    "len(Availability)"
   ]
  },
  {
   "cell_type": "code",
   "execution_count": 18,
   "id": "6c0f89c8",
   "metadata": {},
   "outputs": [],
   "source": [
    "Dataframe=pd.DataFrame({\"Name of product\":NameOfTheProduct,'Price':Price,'Return/Exchange':Return_Exchange,\n",
    "                       \"Expected Delivery\":ExpectedDelivery,'Availability':Availability,'URL':guitar_url})"
   ]
  },
  {
   "cell_type": "code",
   "execution_count": 19,
   "id": "0c9c4974",
   "metadata": {},
   "outputs": [
    {
     "data": {
      "text/html": [
       "<div>\n",
       "<style scoped>\n",
       "    .dataframe tbody tr th:only-of-type {\n",
       "        vertical-align: middle;\n",
       "    }\n",
       "\n",
       "    .dataframe tbody tr th {\n",
       "        vertical-align: top;\n",
       "    }\n",
       "\n",
       "    .dataframe thead th {\n",
       "        text-align: right;\n",
       "    }\n",
       "</style>\n",
       "<table border=\"1\" class=\"dataframe\">\n",
       "  <thead>\n",
       "    <tr style=\"text-align: right;\">\n",
       "      <th></th>\n",
       "      <th>Name of product</th>\n",
       "      <th>Price</th>\n",
       "      <th>Return/Exchange</th>\n",
       "      <th>Expected Delivery</th>\n",
       "      <th>Availability</th>\n",
       "      <th>URL</th>\n",
       "    </tr>\n",
       "  </thead>\n",
       "  <tbody>\n",
       "    <tr>\n",
       "      <th>0</th>\n",
       "      <td>Henrix 38C 38 Inch Cutaway Acoustic Guitar Wit...</td>\n",
       "      <td>3,099</td>\n",
       "      <td>-</td>\n",
       "      <td>Friday, 22 March</td>\n",
       "      <td>In stock</td>\n",
       "      <td>https://www.amazon.in/sspa/click?ie=UTF8&amp;spc=M...</td>\n",
       "    </tr>\n",
       "    <tr>\n",
       "      <th>1</th>\n",
       "      <td>Kadence rosewood Guitar Frontier Series, Elect...</td>\n",
       "      <td>5,499</td>\n",
       "      <td>-</td>\n",
       "      <td>Friday, 22 March</td>\n",
       "      <td>In stock</td>\n",
       "      <td>https://www.amazon.in/sspa/click?ie=UTF8&amp;spc=M...</td>\n",
       "    </tr>\n",
       "    <tr>\n",
       "      <th>2</th>\n",
       "      <td>DEVICE OF URBAN INFOTECH 40 inch Guitar for Be...</td>\n",
       "      <td>5,339</td>\n",
       "      <td>-</td>\n",
       "      <td>Friday, 22 March</td>\n",
       "      <td>In stock</td>\n",
       "      <td>https://www.amazon.in/sspa/click?ie=UTF8&amp;spc=M...</td>\n",
       "    </tr>\n",
       "    <tr>\n",
       "      <th>3</th>\n",
       "      <td>Kadence Frontier guitar with Online Guitar lea...</td>\n",
       "      <td>4,499</td>\n",
       "      <td>-</td>\n",
       "      <td>Friday, 22 March</td>\n",
       "      <td>In stock</td>\n",
       "      <td>https://www.amazon.in/sspa/click?ie=UTF8&amp;spc=M...</td>\n",
       "    </tr>\n",
       "    <tr>\n",
       "      <th>4</th>\n",
       "      <td>Intern INT-38C Right hand Acoustic Guitar Kit,...</td>\n",
       "      <td>1,999</td>\n",
       "      <td>-</td>\n",
       "      <td>Saturday, 23 March</td>\n",
       "      <td>In stock</td>\n",
       "      <td>https://www.amazon.in/Intern-INT-38C-Acoustic-...</td>\n",
       "    </tr>\n",
       "  </tbody>\n",
       "</table>\n",
       "</div>"
      ],
      "text/plain": [
       "                                     Name of product  Price Return/Exchange  \\\n",
       "0  Henrix 38C 38 Inch Cutaway Acoustic Guitar Wit...  3,099              -    \n",
       "1  Kadence rosewood Guitar Frontier Series, Elect...  5,499              -    \n",
       "2  DEVICE OF URBAN INFOTECH 40 inch Guitar for Be...  5,339              -    \n",
       "3  Kadence Frontier guitar with Online Guitar lea...  4,499              -    \n",
       "4  Intern INT-38C Right hand Acoustic Guitar Kit,...  1,999              -    \n",
       "\n",
       "    Expected Delivery Availability  \\\n",
       "0    Friday, 22 March     In stock   \n",
       "1    Friday, 22 March     In stock   \n",
       "2    Friday, 22 March     In stock   \n",
       "3    Friday, 22 March     In stock   \n",
       "4  Saturday, 23 March     In stock   \n",
       "\n",
       "                                                 URL  \n",
       "0  https://www.amazon.in/sspa/click?ie=UTF8&spc=M...  \n",
       "1  https://www.amazon.in/sspa/click?ie=UTF8&spc=M...  \n",
       "2  https://www.amazon.in/sspa/click?ie=UTF8&spc=M...  \n",
       "3  https://www.amazon.in/sspa/click?ie=UTF8&spc=M...  \n",
       "4  https://www.amazon.in/Intern-INT-38C-Acoustic-...  "
      ]
     },
     "execution_count": 19,
     "metadata": {},
     "output_type": "execute_result"
    }
   ],
   "source": [
    "Dataframe.head()"
   ]
  },
  {
   "cell_type": "code",
   "execution_count": 20,
   "id": "86f91629",
   "metadata": {},
   "outputs": [],
   "source": [
    "Dataframe.to_csv('Amazon_Dataa.csv')\n"
   ]
  },
  {
   "cell_type": "markdown",
   "id": "fd332e6a",
   "metadata": {},
   "source": [
    "QUESTION 3"
   ]
  },
  {
   "cell_type": "code",
   "execution_count": 21,
   "id": "751b6029",
   "metadata": {},
   "outputs": [],
   "source": [
    "driver=webdriver.Chrome()"
   ]
  },
  {
   "cell_type": "code",
   "execution_count": 22,
   "id": "5a189033",
   "metadata": {},
   "outputs": [],
   "source": [
    "driver.get('https://images.google.com/')"
   ]
  },
  {
   "cell_type": "code",
   "execution_count": 23,
   "id": "40bbdfd9",
   "metadata": {},
   "outputs": [],
   "source": [
    "designation=driver.find_element(By.XPATH,'/html/body/div[1]/div[3]/form/div[1]/div[1]/div[1]/div/div[2]/textarea')\n",
    "designation.send_keys('fruits')"
   ]
  },
  {
   "cell_type": "code",
   "execution_count": 25,
   "id": "5f186151",
   "metadata": {},
   "outputs": [],
   "source": [
    "search=driver.find_element(By.XPATH,'/html/body/div[1]/div[3]/form/div[1]/div[1]/div[1]/button/div/span')\n",
    "search.click()"
   ]
  },
  {
   "cell_type": "code",
   "execution_count": 26,
   "id": "9d6e9117",
   "metadata": {},
   "outputs": [],
   "source": [
    "draw=driver.find_element(By.XPATH,'/html/body/div[2]/c-wiz/div[2]/div[2]/div[2]/c-wiz/scrolling-carousel/div[1]/span/span/div[1]/a/span')\n",
    "draw.click()"
   ]
  },
  {
   "cell_type": "code",
   "execution_count": 27,
   "id": "a4f2bc2f",
   "metadata": {},
   "outputs": [],
   "source": [
    "Fruits_Image=[]\n",
    "fruit=driver.find_elements(By.XPATH,'//img[@class=\"rg_i Q4LuWd\"]')\n",
    "for i in fruit :\n",
    "    img=i.get_attribute('src')\n",
    "    Fruits_Image.append(img)\n",
    "    Fruits_Image=Fruits_Image[0:10]"
   ]
  },
  {
   "cell_type": "code",
   "execution_count": 28,
   "id": "6ca99420",
   "metadata": {},
   "outputs": [
    {
     "data": {
      "text/plain": [
       "10"
      ]
     },
     "execution_count": 28,
     "metadata": {},
     "output_type": "execute_result"
    }
   ],
   "source": [
    "len(Fruits_Image)"
   ]
  },
  {
   "cell_type": "code",
   "execution_count": 29,
   "id": "688474ac",
   "metadata": {},
   "outputs": [],
   "source": [
    "srch=driver.find_element(By.XPATH,'/html/body/c-wiz/c-wiz/div/div[3]/div[2]/div/div[1]/form/div[1]/div[2]/div/div[2]/input')\n",
    "srch.send_keys('cars')"
   ]
  },
  {
   "cell_type": "code",
   "execution_count": 30,
   "id": "fb52b824",
   "metadata": {},
   "outputs": [],
   "source": [
    "button=driver.find_element(By.XPATH,'/html/body/c-wiz/c-wiz/div/div[3]/div[2]/div/div[1]/form/div[1]/div[2]/button/div/span')\n",
    "button.click()"
   ]
  },
  {
   "cell_type": "code",
   "execution_count": 31,
   "id": "22a8b2bd",
   "metadata": {},
   "outputs": [],
   "source": [
    "car_image=[]\n",
    "car=driver.find_elements(By.XPATH,'//img[@class=\"rg_i Q4LuWd\"]')\n",
    "for i in car:\n",
    "    imgg=i.get_attribute('src')\n",
    "    car_image.append(imgg)\n",
    "    car_image=car_image[0:10]"
   ]
  },
  {
   "cell_type": "code",
   "execution_count": 32,
   "id": "d9b04f92",
   "metadata": {},
   "outputs": [
    {
     "data": {
      "text/plain": [
       "10"
      ]
     },
     "execution_count": 32,
     "metadata": {},
     "output_type": "execute_result"
    }
   ],
   "source": [
    "len(car_image)"
   ]
  },
  {
   "cell_type": "code",
   "execution_count": 33,
   "id": "a5fbb6cc",
   "metadata": {},
   "outputs": [],
   "source": [
    "search=driver.find_element(By.XPATH,'/html/body/c-wiz/c-wiz/div/div[3]/div[2]/div/div[1]/form/div[1]/div[2]/div/div[2]/input')\n",
    "search.send_keys('Machine Learning')\n",
    "button=driver.find_element(By.XPATH,'/html/body/c-wiz/c-wiz/div/div[3]/div[2]/div/div[1]/form/div[1]/div[2]/button/div/span')\n",
    "button.click()"
   ]
  },
  {
   "cell_type": "code",
   "execution_count": 34,
   "id": "80c07df4",
   "metadata": {},
   "outputs": [],
   "source": [
    "ML_Image=[]\n",
    "ML=driver.find_elements(By.XPATH,'//img[@class=\"rg_i Q4LuWd\"]')\n",
    "for i in ML:\n",
    "    image=i.get_attribute('src')\n",
    "    ML_Image.append(image)\n",
    "    ML_Image=ML_Image[0:10]"
   ]
  },
  {
   "cell_type": "code",
   "execution_count": 35,
   "id": "0bc0bc9a",
   "metadata": {},
   "outputs": [
    {
     "data": {
      "text/plain": [
       "10"
      ]
     },
     "execution_count": 35,
     "metadata": {},
     "output_type": "execute_result"
    }
   ],
   "source": [
    "len(ML_Image)"
   ]
  },
  {
   "cell_type": "code",
   "execution_count": 36,
   "id": "5835833a",
   "metadata": {},
   "outputs": [],
   "source": [
    "search=driver.find_element(By.XPATH,'/html/body/c-wiz/c-wiz/div/div[3]/div[2]/div/div[1]/form/div[1]/div[2]/div/div[2]/input')\n",
    "search.send_keys('guitar')\n",
    "button=driver.find_element(By.XPATH,'/html/body/c-wiz/c-wiz/div/div[3]/div[2]/div/div[1]/form/div[1]/div[2]/button/div/span')\n",
    "button.click()"
   ]
  },
  {
   "cell_type": "code",
   "execution_count": 37,
   "id": "18016c20",
   "metadata": {},
   "outputs": [],
   "source": [
    "guitar_image=[]\n",
    "guitar=driver.find_elements(By.XPATH,'//img[@class=\"rg_i Q4LuWd\"]')\n",
    "for i in guitar:\n",
    "    image=i.get_attribute('src')\n",
    "    guitar_image.append(image)\n",
    "    guitar_image=guitar_image[0:10]"
   ]
  },
  {
   "cell_type": "code",
   "execution_count": 38,
   "id": "280d804e",
   "metadata": {},
   "outputs": [
    {
     "data": {
      "text/plain": [
       "10"
      ]
     },
     "execution_count": 38,
     "metadata": {},
     "output_type": "execute_result"
    }
   ],
   "source": [
    "len(guitar_image)"
   ]
  },
  {
   "cell_type": "code",
   "execution_count": 39,
   "id": "492ff5c5",
   "metadata": {},
   "outputs": [],
   "source": [
    "search=driver.find_element(By.XPATH,'/html/body/c-wiz/c-wiz/div/div[3]/div[2]/div/div[1]/form/div[1]/div[2]/div/div[2]/input')\n",
    "search.send_keys('cakes')\n",
    "button=driver.find_element(By.XPATH,'/html/body/c-wiz/c-wiz/div/div[3]/div[2]/div/div[1]/form/div[1]/div[2]/button/div/span')\n",
    "button.click()"
   ]
  },
  {
   "cell_type": "code",
   "execution_count": 40,
   "id": "7a964612",
   "metadata": {},
   "outputs": [],
   "source": [
    "cakes=[]\n",
    "cake=driver.find_elements(By.XPATH,'//img[@class=\"rg_i Q4LuWd\"]')\n",
    "for i in cake:\n",
    "    cakee=i.get_attribute('src')\n",
    "    cakes.append(cakee)\n",
    "    cakes=cakes[0:10]"
   ]
  },
  {
   "cell_type": "code",
   "execution_count": 41,
   "id": "5196a6f4",
   "metadata": {},
   "outputs": [
    {
     "data": {
      "text/plain": [
       "10"
      ]
     },
     "execution_count": 41,
     "metadata": {},
     "output_type": "execute_result"
    }
   ],
   "source": [
    "len(cakes)"
   ]
  },
  {
   "cell_type": "markdown",
   "id": "18a7e80e",
   "metadata": {},
   "source": [
    "QUESTION - 4"
   ]
  },
  {
   "cell_type": "code",
   "execution_count": 42,
   "id": "ab89bbd4",
   "metadata": {},
   "outputs": [],
   "source": [
    "driver=webdriver.Chrome()"
   ]
  },
  {
   "cell_type": "code",
   "execution_count": 43,
   "id": "191a4866",
   "metadata": {},
   "outputs": [],
   "source": [
    "driver.get('http://www.flipkart.com/')"
   ]
  },
  {
   "cell_type": "code",
   "execution_count": 44,
   "id": "c2455d03",
   "metadata": {},
   "outputs": [],
   "source": [
    "search_phone=driver.find_element(By.XPATH,'/html/body/div[1]/div/div[1]/div/div/div/div/div[1]/div/div[1]/div/div[1]/div[1]/header/div[1]/div[2]/form/div/div/input')\n",
    "search_phone.send_keys('Oneplus Nord')\n",
    "button=driver.find_element(By.XPATH,'/html/body/div[1]/div/div[1]/div/div/div/div/div[1]/div/div[1]/div/div[1]/div[1]/header/div[1]/div[2]/form/div/button')\n",
    "button.click()"
   ]
  },
  {
   "cell_type": "code",
   "execution_count": 47,
   "id": "564604e1",
   "metadata": {},
   "outputs": [],
   "source": [
    "product_url=[]\n",
    "url=driver.find_elements(By.XPATH,'//a[@class=\"s1Q9rs\"]')\n",
    "for i in url:\n",
    "    product_url.append(i.get_attribute('href'))"
   ]
  },
  {
   "cell_type": "code",
   "execution_count": 48,
   "id": "24607d98",
   "metadata": {},
   "outputs": [
    {
     "data": {
      "text/plain": [
       "40"
      ]
     },
     "execution_count": 48,
     "metadata": {},
     "output_type": "execute_result"
    }
   ],
   "source": [
    "len(product_url)"
   ]
  },
  {
   "cell_type": "code",
   "execution_count": 49,
   "id": "8101bff9",
   "metadata": {},
   "outputs": [],
   "source": [
    "Smartphone_Name=[]\n",
    "Colour=[]\n",
    "RAM=[]\n",
    "Storage=[]\n",
    "Primary_Camera=[]\n",
    "Display_Size=[]\n",
    "Battery_Capacity=[]\n",
    "Price=[]"
   ]
  },
  {
   "cell_type": "code",
   "execution_count": 50,
   "id": "bf58b83a",
   "metadata": {},
   "outputs": [],
   "source": [
    "for i in product_url:\n",
    "    driver.get(i)\n",
    "    time.sleep(3)\n",
    "    \n",
    "    try:\n",
    "        name=driver.find_element(By.XPATH,'/html/body/div[1]/div/div[3]/div[1]/div[2]/div[2]/div/div[1]/h1/span')\n",
    "        Smartphone_Name.append(name.text)\n",
    "        \n",
    "    except NoSuchElementException:\n",
    "        Smartphone_Name.append('-')\n",
    "        \n",
    "    try:\n",
    "        color=driver.find_element(By.XPATH,'/html/body/div[1]/div/div[3]/div[1]/div[2]/div[8]/div[4]/div/div[2]/div[1]/div[1]/table/tbody/tr[4]/td[2]/ul/li')\n",
    "        Colour.append(color.text)\n",
    "        \n",
    "    except NoSuchElementException:\n",
    "         Colour.append('-')\n",
    "            \n",
    "    try:\n",
    "        ram=driver.find_element(By.XPATH,'/html/body/div[1]/div/div[3]/div[1]/div[2]/div[5]/div/div[3]/div[1]/div/ul/li[1]')\n",
    "        RAM.append(ram.text)\n",
    "        \n",
    "    except NoSuchElementException:\n",
    "        RAM.append('-')\n",
    "        \n",
    "    try:\n",
    "        storage=driver.find_element(By.XPATH,'/html/body/div[1]/div/div[3]/div[1]/div[2]/div[5]/div/div[2]/div[1]/div/ul/li[1]')\n",
    "        Storage.append(storage.text)\n",
    "        \n",
    "    except NoSuchElementException:\n",
    "        Storage.append('-')\n",
    "        \n",
    "    try:\n",
    "        PC=driver.find_element(By.XPATH,'/html/body/div[1]/div/div[3]/div[1]/div[2]/div[7]/div[1]/div/div[2]/ul/li[3]')\n",
    "        Primary_Camera.append(PC.text)\n",
    "        \n",
    "    except NoSuchElementException:\n",
    "        Primary_Camera.append('-')\n",
    "        \n",
    "    try:\n",
    "        display=driver.find_element(By.XPATH,'/html/body/div[1]/div/div[3]/div[1]/div[2]/div[7]/div[1]/div/div[2]/ul/li[2]')\n",
    "        Display_Size.append(display.text)\n",
    "        \n",
    "    except NoSuchElementException:\n",
    "        Display_Size.append('-')\n",
    "        \n",
    "    try:\n",
    "        battery=driver.find_element(By.XPATH,'/html/body/div[1]/div/div[3]/div[1]/div[2]/div[7]/div[1]/div/div[2]/ul/li[4]')\n",
    "        Battery_Capacity.append(battery.text)\n",
    "        \n",
    "    except NoSuchElementException:\n",
    "        Battery_Capacity.append('-')\n",
    "        \n",
    "    try:\n",
    "        price=driver.find_element(By.XPATH,'/html/body/div[1]/div/div[3]/div[1]/div[2]/div[2]/div/div[3]/div[1]/div/div[1]')\n",
    "        Price.append(price.text)\n",
    "        \n",
    "    except NoSuchElementException:\n",
    "        Price.append('-')"
   ]
  },
  {
   "cell_type": "code",
   "execution_count": 51,
   "id": "6daf8fc0",
   "metadata": {},
   "outputs": [],
   "source": [
    "mobileDF=pd.DataFrame({\"Smartphone_Name\":Smartphone_Name,\"Colour\":Colour,\"RAM\":RAM,'Storage':Storage,'Primary_Camera':Primary_Camera\n",
    "                      ,'Display_Size':Display_Size,'Battery_Capacity':Battery_Capacity,\"Price\":Price})"
   ]
  },
  {
   "cell_type": "code",
   "execution_count": 52,
   "id": "b624b2b5",
   "metadata": {},
   "outputs": [
    {
     "data": {
      "text/html": [
       "<div>\n",
       "<style scoped>\n",
       "    .dataframe tbody tr th:only-of-type {\n",
       "        vertical-align: middle;\n",
       "    }\n",
       "\n",
       "    .dataframe tbody tr th {\n",
       "        vertical-align: top;\n",
       "    }\n",
       "\n",
       "    .dataframe thead th {\n",
       "        text-align: right;\n",
       "    }\n",
       "</style>\n",
       "<table border=\"1\" class=\"dataframe\">\n",
       "  <thead>\n",
       "    <tr style=\"text-align: right;\">\n",
       "      <th></th>\n",
       "      <th>Smartphone_Name</th>\n",
       "      <th>Colour</th>\n",
       "      <th>RAM</th>\n",
       "      <th>Storage</th>\n",
       "      <th>Primary_Camera</th>\n",
       "      <th>Display_Size</th>\n",
       "      <th>Battery_Capacity</th>\n",
       "      <th>Price</th>\n",
       "    </tr>\n",
       "  </thead>\n",
       "  <tbody>\n",
       "    <tr>\n",
       "      <th>7</th>\n",
       "      <td>OnePlus Nord 3 5G (Misty Green, 128 GB)  (8 GB...</td>\n",
       "      <td>Misty Green</td>\n",
       "      <td>-</td>\n",
       "      <td>-</td>\n",
       "      <td>50MP Rear Camera</td>\n",
       "      <td>17.12 cm (6.74 inch) Display</td>\n",
       "      <td>5000 mAh Battery</td>\n",
       "      <td>-</td>\n",
       "    </tr>\n",
       "    <tr>\n",
       "      <th>21</th>\n",
       "      <td>OnePlus Nord CE 5G (Charcoal Ink, 256 GB)  (12...</td>\n",
       "      <td>Charcoal Ink</td>\n",
       "      <td>8 GB</td>\n",
       "      <td>128 GB</td>\n",
       "      <td>64MP Rear Camera</td>\n",
       "      <td>16.33 cm (6.43 inch) Display</td>\n",
       "      <td>4500 mAh Battery</td>\n",
       "      <td>₹24,980</td>\n",
       "    </tr>\n",
       "    <tr>\n",
       "      <th>28</th>\n",
       "      <td>OnePlus Nord CE 2 Lite 5G (Black Dusk, 128 GB)...</td>\n",
       "      <td>-</td>\n",
       "      <td>-</td>\n",
       "      <td>6 GB</td>\n",
       "      <td>64MP Rear Camera | 16MP Front Camera</td>\n",
       "      <td>16.74 cm (6.59 inch) Display</td>\n",
       "      <td>5000 mAh Battery</td>\n",
       "      <td>-</td>\n",
       "    </tr>\n",
       "    <tr>\n",
       "      <th>5</th>\n",
       "      <td>OnePlus Nord 3 5G (Misty Green, 256 GB)  (16 G...</td>\n",
       "      <td>-</td>\n",
       "      <td>8 GB</td>\n",
       "      <td>128 GB</td>\n",
       "      <td>50MP Rear Camera</td>\n",
       "      <td>17.12 cm (6.74 inch) Display</td>\n",
       "      <td>5000 mAh Battery</td>\n",
       "      <td>₹37,630</td>\n",
       "    </tr>\n",
       "    <tr>\n",
       "      <th>37</th>\n",
       "      <td>OnePlus Nord CE 2 5G (Gray Mirror, 128 GB)  (8...</td>\n",
       "      <td>-</td>\n",
       "      <td>-</td>\n",
       "      <td>-</td>\n",
       "      <td>64MP Rear Camera</td>\n",
       "      <td>16.33 cm (6.43 inch) Display</td>\n",
       "      <td>4500 mAh Battery</td>\n",
       "      <td>₹17,999</td>\n",
       "    </tr>\n",
       "  </tbody>\n",
       "</table>\n",
       "</div>"
      ],
      "text/plain": [
       "                                      Smartphone_Name        Colour   RAM  \\\n",
       "7   OnePlus Nord 3 5G (Misty Green, 128 GB)  (8 GB...   Misty Green     -   \n",
       "21  OnePlus Nord CE 5G (Charcoal Ink, 256 GB)  (12...  Charcoal Ink  8 GB   \n",
       "28  OnePlus Nord CE 2 Lite 5G (Black Dusk, 128 GB)...             -     -   \n",
       "5   OnePlus Nord 3 5G (Misty Green, 256 GB)  (16 G...             -  8 GB   \n",
       "37  OnePlus Nord CE 2 5G (Gray Mirror, 128 GB)  (8...             -     -   \n",
       "\n",
       "   Storage                        Primary_Camera  \\\n",
       "7        -                      50MP Rear Camera   \n",
       "21  128 GB                      64MP Rear Camera   \n",
       "28    6 GB  64MP Rear Camera | 16MP Front Camera   \n",
       "5   128 GB                      50MP Rear Camera   \n",
       "37       -                      64MP Rear Camera   \n",
       "\n",
       "                    Display_Size  Battery_Capacity    Price  \n",
       "7   17.12 cm (6.74 inch) Display  5000 mAh Battery        -  \n",
       "21  16.33 cm (6.43 inch) Display  4500 mAh Battery  ₹24,980  \n",
       "28  16.74 cm (6.59 inch) Display  5000 mAh Battery        -  \n",
       "5   17.12 cm (6.74 inch) Display  5000 mAh Battery  ₹37,630  \n",
       "37  16.33 cm (6.43 inch) Display  4500 mAh Battery  ₹17,999  "
      ]
     },
     "execution_count": 52,
     "metadata": {},
     "output_type": "execute_result"
    }
   ],
   "source": [
    "mobileDF.sample(5)"
   ]
  },
  {
   "cell_type": "code",
   "execution_count": 53,
   "id": "c5fc0d6f",
   "metadata": {},
   "outputs": [],
   "source": [
    "mobileDF.to_csv('FlipkartDaata.csv')"
   ]
  },
  {
   "cell_type": "markdown",
   "id": "34b87510",
   "metadata": {},
   "source": [
    "QUESTION - 6"
   ]
  },
  {
   "cell_type": "code",
   "execution_count": 54,
   "id": "d52006d1",
   "metadata": {},
   "outputs": [],
   "source": [
    "driver=webdriver.Chrome()"
   ]
  },
  {
   "cell_type": "code",
   "execution_count": 55,
   "id": "770d755a",
   "metadata": {},
   "outputs": [],
   "source": [
    "driver.get('https://www.digit.in/')"
   ]
  },
  {
   "cell_type": "code",
   "execution_count": 56,
   "id": "298d9aef",
   "metadata": {},
   "outputs": [],
   "source": [
    "search=driver.find_element(By.XPATH,'/html/body/div[5]/div/form/input[1]')\n",
    "search.send_keys('gaming laptop')"
   ]
  },
  {
   "cell_type": "code",
   "execution_count": 57,
   "id": "c70f3bac",
   "metadata": {},
   "outputs": [],
   "source": [
    "button=driver.find_element(By.XPATH,'/html/body/div[5]/div/form/button/i')\n",
    "button.click()"
   ]
  },
  {
   "cell_type": "code",
   "execution_count": 58,
   "id": "bc67db1f",
   "metadata": {},
   "outputs": [],
   "source": [
    "Best_Gaming_Laptop=[]\n",
    "laptop=driver.find_elements(By.XPATH,'//h3[@class=\" text-clamp text-clamp-2\"]/a')\n",
    "for i in laptop:\n",
    "    best=i.get_attribute('href')\n",
    "    Best_Gaming_Laptop.append(best)"
   ]
  },
  {
   "cell_type": "code",
   "execution_count": 59,
   "id": "6df71112",
   "metadata": {},
   "outputs": [
    {
     "data": {
      "text/plain": [
       "['https://www.digit.in/laptops/hp-omen-gaming-laptop-16-xd0007ax.html',\n",
       " 'https://www.digit.in/laptops/dell-g15-5520-gaming-laptop.html',\n",
       " 'https://www.digit.in/laptops/acer-predator-helios-neo-16-gaming-laptop.html',\n",
       " 'https://www.digit.in/laptops/hp-omen-gaming-laptop-xf0060ax.html',\n",
       " 'https://www.digit.in/laptops/dell-alienware-m16-r1-gaming-laptop-price-350853.html',\n",
       " 'https://www.digit.in/laptops/dell-alienware-x14-r2-gaming-laptop-price-350232.html',\n",
       " 'https://www.digit.in/laptops/hp-victus-gaming-laptop-16-r0075tx-price-349620.html',\n",
       " 'https://www.digit.in/laptops/alienware-x14-gaming-laptop-price-318804.html',\n",
       " 'https://www.digit.in/laptops/asus-tuf-gaming-laptop-fx506li-hn270t-price-256693.html',\n",
       " 'https://www.digit.in/laptops/lenovo-ideapad-gaming-3-11th-gen-core-i5-11320h-82k101l7in-price-350430.html',\n",
       " 'https://www.digit.in/laptops/lenovo-ideapad-gaming-3-15iah7-price-341574.html',\n",
       " 'https://www.digit.in/laptops/asus-tuf-gaming-f15-fx507ze-hn038w-12th-gen-core-i7-12700h-2022-price-324167.html']"
      ]
     },
     "execution_count": 59,
     "metadata": {},
     "output_type": "execute_result"
    }
   ],
   "source": [
    "Best_Gaming_Laptop"
   ]
  },
  {
   "cell_type": "markdown",
   "id": "2b1a40d9",
   "metadata": {},
   "source": [
    "QUESTION - 7"
   ]
  },
  {
   "cell_type": "code",
   "execution_count": 60,
   "id": "9966cdfa",
   "metadata": {},
   "outputs": [],
   "source": [
    "driver=webdriver.Chrome()"
   ]
  },
  {
   "cell_type": "code",
   "execution_count": 61,
   "id": "7a0b31f9",
   "metadata": {},
   "outputs": [],
   "source": [
    "driver.get('https://www.forbes.com/?sh=31ff41bc2254')"
   ]
  },
  {
   "cell_type": "code",
   "execution_count": 64,
   "id": "27e88f9c",
   "metadata": {},
   "outputs": [],
   "source": [
    "three_dots=driver.find_element(By.XPATH,'/html/body/div[1]/header/nav/div[1]/div[1]/div/div')\n",
    "three_dots.click()"
   ]
  },
  {
   "cell_type": "code",
   "execution_count": 65,
   "id": "93815835",
   "metadata": {},
   "outputs": [],
   "source": [
    "billionaire=driver.find_element(By.XPATH,'/html/body/div[1]/header/nav/div[1]/div[1]/div/div[2]/ul/li[2]/div[1]')\n",
    "billionaire.click()"
   ]
  },
  {
   "cell_type": "code",
   "execution_count": 66,
   "id": "be9e089f",
   "metadata": {},
   "outputs": [],
   "source": [
    "world_top=driver.find_element(By.XPATH,'/html/body/div[1]/header/nav/div[1]/div[1]/div/div[2]/ul/li[2]/div[2]/div[3]/ul/li[1]')\n",
    "world_top.click()"
   ]
  },
  {
   "cell_type": "code",
   "execution_count": 77,
   "id": "a157bc2d",
   "metadata": {},
   "outputs": [],
   "source": [
    "Rank=[]\n",
    "Name=[]\n",
    "Net_Worth=[]\n",
    "Age=[]\n",
    "Citizenship=[]\n",
    "Source=[]\n",
    "Industry=[]"
   ]
  },
  {
   "cell_type": "code",
   "execution_count": 78,
   "id": "a41557b2",
   "metadata": {},
   "outputs": [],
   "source": [
    "rank=driver.find_elements(By.XPATH,'//div[@class=\"TableRow_cell__db-hv Table_cell__houv9\"][1]')\n",
    "for i in rank:\n",
    "    rk=i.text\n",
    "    Rank.append(rk)\n",
    "    \n",
    "name=driver.find_elements(By.XPATH,'//div[@class=\"TableRow_cell__db-hv Table_cell__houv9\"][2]')\n",
    "for i in name:\n",
    "    nme=i.text\n",
    "    Name.append(nme)\n",
    "    \n",
    "net=driver.find_elements(By.XPATH,'//div[@class=\"TableRow_cell__db-hv Table_cell__houv9\"][3]')\n",
    "for i in net:\n",
    "    wrth=i.text\n",
    "    Net_Worth.append(wrth)\n",
    "    \n",
    "age=driver.find_elements(By.XPATH,'//div[@class=\"TableRow_cell__db-hv Table_cell__houv9\"][4]')\n",
    "for i in age:\n",
    "    agee=i.text\n",
    "    Age.append(agee)\n",
    "    \n",
    "citizen=driver.find_elements(By.XPATH,'//div[@class=\"TableRow_cell__db-hv Table_cell__houv9\"][5]')\n",
    "for i in citizen:\n",
    "    ctzn=i.text\n",
    "    Citizenship.append(ctzn)\n",
    "    \n",
    "source=driver.find_elements(By.XPATH,'//div[@class=\"TableRow_cell__db-hv Table_cell__houv9\"][6]')\n",
    "for i in source:\n",
    "    src=i.text\n",
    "    Source.append(src)\n",
    "    \n",
    "industry=driver.find_elements(By.XPATH,'//div[@class=\"TableRow_cell__db-hv Table_cell__houv9\"][7]')\n",
    "for i in industry:\n",
    "    ids=i.text\n",
    "    Industry.append(ids)"
   ]
  },
  {
   "cell_type": "code",
   "execution_count": 79,
   "id": "7ac67416",
   "metadata": {},
   "outputs": [],
   "source": [
    "forbesDF=pd.DataFrame({\"Rank\":Rank,\"Name\":Name,\"Net Worth\":Net_Worth,\"Age\":Age,\"Citizenship\":Citizenship,\"Source\":Source,\n",
    "                      \"Industry\":Industry})"
   ]
  },
  {
   "cell_type": "code",
   "execution_count": 80,
   "id": "dd4e47fb",
   "metadata": {},
   "outputs": [
    {
     "data": {
      "text/html": [
       "<div>\n",
       "<style scoped>\n",
       "    .dataframe tbody tr th:only-of-type {\n",
       "        vertical-align: middle;\n",
       "    }\n",
       "\n",
       "    .dataframe tbody tr th {\n",
       "        vertical-align: top;\n",
       "    }\n",
       "\n",
       "    .dataframe thead th {\n",
       "        text-align: right;\n",
       "    }\n",
       "</style>\n",
       "<table border=\"1\" class=\"dataframe\">\n",
       "  <thead>\n",
       "    <tr style=\"text-align: right;\">\n",
       "      <th></th>\n",
       "      <th>Rank</th>\n",
       "      <th>Name</th>\n",
       "      <th>Net Worth</th>\n",
       "      <th>Age</th>\n",
       "      <th>Citizenship</th>\n",
       "      <th>Source</th>\n",
       "      <th>Industry</th>\n",
       "    </tr>\n",
       "  </thead>\n",
       "  <tbody>\n",
       "    <tr>\n",
       "      <th>0</th>\n",
       "      <td></td>\n",
       "      <td>Bernard Arnault &amp; family</td>\n",
       "      <td>$211 B</td>\n",
       "      <td>74</td>\n",
       "      <td>France</td>\n",
       "      <td>LVMH</td>\n",
       "      <td>Fashion &amp; Retail</td>\n",
       "    </tr>\n",
       "    <tr>\n",
       "      <th>1</th>\n",
       "      <td></td>\n",
       "      <td></td>\n",
       "      <td>$180 B</td>\n",
       "      <td>51</td>\n",
       "      <td>United States</td>\n",
       "      <td>Tesla, SpaceX</td>\n",
       "      <td>Automotive</td>\n",
       "    </tr>\n",
       "    <tr>\n",
       "      <th>2</th>\n",
       "      <td></td>\n",
       "      <td></td>\n",
       "      <td>$114 B</td>\n",
       "      <td>59</td>\n",
       "      <td>United States</td>\n",
       "      <td>Amazon</td>\n",
       "      <td>Technology</td>\n",
       "    </tr>\n",
       "    <tr>\n",
       "      <th>3</th>\n",
       "      <td></td>\n",
       "      <td>Larry Ellison</td>\n",
       "      <td>$107 B</td>\n",
       "      <td>78</td>\n",
       "      <td>United States</td>\n",
       "      <td>Oracle</td>\n",
       "      <td>Technology</td>\n",
       "    </tr>\n",
       "    <tr>\n",
       "      <th>4</th>\n",
       "      <td></td>\n",
       "      <td>Warren Buffett</td>\n",
       "      <td>$106 B</td>\n",
       "      <td>92</td>\n",
       "      <td>United States</td>\n",
       "      <td>Berkshire Hathaway</td>\n",
       "      <td>Finance &amp; Investments</td>\n",
       "    </tr>\n",
       "    <tr>\n",
       "      <th>...</th>\n",
       "      <td>...</td>\n",
       "      <td>...</td>\n",
       "      <td>...</td>\n",
       "      <td>...</td>\n",
       "      <td>...</td>\n",
       "      <td>...</td>\n",
       "      <td>...</td>\n",
       "    </tr>\n",
       "    <tr>\n",
       "      <th>195</th>\n",
       "      <td></td>\n",
       "      <td></td>\n",
       "      <td>$9.6 B</td>\n",
       "      <td>70</td>\n",
       "      <td>China</td>\n",
       "      <td>Solar panels</td>\n",
       "      <td>Energy</td>\n",
       "    </tr>\n",
       "    <tr>\n",
       "      <th>196</th>\n",
       "      <td></td>\n",
       "      <td>Luo Liguo &amp; family</td>\n",
       "      <td>$9.6 B</td>\n",
       "      <td>67</td>\n",
       "      <td>China</td>\n",
       "      <td>Chemicals</td>\n",
       "      <td>Manufacturing</td>\n",
       "    </tr>\n",
       "    <tr>\n",
       "      <th>197</th>\n",
       "      <td></td>\n",
       "      <td>Marijke Mars</td>\n",
       "      <td>$9.6 B</td>\n",
       "      <td>58</td>\n",
       "      <td>United States</td>\n",
       "      <td>Candy, pet food</td>\n",
       "      <td>Food &amp; Beverage</td>\n",
       "    </tr>\n",
       "    <tr>\n",
       "      <th>198</th>\n",
       "      <td></td>\n",
       "      <td>Pamela Mars</td>\n",
       "      <td>$9.6 B</td>\n",
       "      <td>62</td>\n",
       "      <td>United States</td>\n",
       "      <td>Candy, pet food</td>\n",
       "      <td>Food &amp; Beverage</td>\n",
       "    </tr>\n",
       "    <tr>\n",
       "      <th>199</th>\n",
       "      <td></td>\n",
       "      <td>Valerie Mars</td>\n",
       "      <td>$9.6 B</td>\n",
       "      <td>64</td>\n",
       "      <td>United States</td>\n",
       "      <td>Candy, pet food</td>\n",
       "      <td>Food &amp; Beverage</td>\n",
       "    </tr>\n",
       "  </tbody>\n",
       "</table>\n",
       "<p>200 rows × 7 columns</p>\n",
       "</div>"
      ],
      "text/plain": [
       "    Rank                      Name Net Worth Age    Citizenship  \\\n",
       "0         Bernard Arnault & family    $211 B  74         France   \n",
       "1                                     $180 B  51  United States   \n",
       "2                                     $114 B  59  United States   \n",
       "3                    Larry Ellison    $107 B  78  United States   \n",
       "4                   Warren Buffett    $106 B  92  United States   \n",
       "..   ...                       ...       ...  ..            ...   \n",
       "195                                   $9.6 B  70          China   \n",
       "196             Luo Liguo & family    $9.6 B  67          China   \n",
       "197                   Marijke Mars    $9.6 B  58  United States   \n",
       "198                    Pamela Mars    $9.6 B  62  United States   \n",
       "199                   Valerie Mars    $9.6 B  64  United States   \n",
       "\n",
       "                 Source               Industry  \n",
       "0                  LVMH       Fashion & Retail  \n",
       "1         Tesla, SpaceX             Automotive  \n",
       "2                Amazon             Technology  \n",
       "3                Oracle             Technology  \n",
       "4    Berkshire Hathaway  Finance & Investments  \n",
       "..                  ...                    ...  \n",
       "195        Solar panels                 Energy  \n",
       "196           Chemicals          Manufacturing  \n",
       "197     Candy, pet food        Food & Beverage  \n",
       "198     Candy, pet food        Food & Beverage  \n",
       "199     Candy, pet food        Food & Beverage  \n",
       "\n",
       "[200 rows x 7 columns]"
      ]
     },
     "execution_count": 80,
     "metadata": {},
     "output_type": "execute_result"
    }
   ],
   "source": [
    "forbesDF"
   ]
  },
  {
   "cell_type": "code",
   "execution_count": 81,
   "id": "700c6371",
   "metadata": {},
   "outputs": [],
   "source": [
    "forbesDF.to_csv('FORBESTOPBILLIONAIRE.csv')"
   ]
  },
  {
   "cell_type": "markdown",
   "id": "c616efee",
   "metadata": {},
   "source": [
    "QUESTION - 8"
   ]
  },
  {
   "cell_type": "code",
   "execution_count": 82,
   "id": "6e7f4f4d",
   "metadata": {},
   "outputs": [],
   "source": [
    "driver=webdriver.Chrome()"
   ]
  },
  {
   "cell_type": "code",
   "execution_count": 83,
   "id": "821bfc79",
   "metadata": {},
   "outputs": [],
   "source": [
    "driver.get('https://www.youtube.com/')"
   ]
  },
  {
   "cell_type": "code",
   "execution_count": 89,
   "id": "901e8cc4",
   "metadata": {},
   "outputs": [],
   "source": [
    "search=driver.find_element(By.XPATH,'/html/body/ytd-app/div[1]/div/ytd-masthead/div[4]/div[2]/ytd-searchbox/form/div[1]/div[1]/input')\n",
    "search.send_keys('amit bhadana')\n"
   ]
  },
  {
   "cell_type": "code",
   "execution_count": 90,
   "id": "9972b1f9",
   "metadata": {},
   "outputs": [],
   "source": [
    "button=driver.find_element(By.XPATH,'/html/body/ytd-app/div[1]/div/ytd-masthead/div[4]/div[2]/ytd-searchbox/button/yt-icon/yt-icon-shape/icon-shape/div')\n",
    "button.click()"
   ]
  },
  {
   "cell_type": "code",
   "execution_count": 91,
   "id": "005d1752",
   "metadata": {},
   "outputs": [],
   "source": [
    "click=driver.find_element(By.XPATH,'/html/body/ytd-app/div[1]/ytd-page-manager/ytd-search/div[1]/ytd-two-column-search-results-renderer/div/ytd-section-list-renderer/div[2]/ytd-item-section-renderer/div[3]/ytd-shelf-renderer[1]/div[1]/div[2]/ytd-vertical-list-renderer/div[1]/ytd-video-renderer[1]/div[1]/div/div[1]/div/h3/a/yt-formatted-string')\n",
    "click.click()"
   ]
  },
  {
   "cell_type": "code",
   "execution_count": 92,
   "id": "ea207131",
   "metadata": {},
   "outputs": [],
   "source": [
    "UPVOTE=[]\n",
    "TIME=[]"
   ]
  },
  {
   "cell_type": "code",
   "execution_count": 93,
   "id": "231e8d22",
   "metadata": {},
   "outputs": [],
   "source": [
    "upvote=driver.find_elements(By.XPATH,'//h3[@class=\"style-scope ytd-comment-renderer\"]/a')\n",
    "for i in upvote:\n",
    "    vote=i.text\n",
    "    UPVOTE.append(vote)\n",
    "    UPVOTE=UPVOTE[0:500]\n",
    "COMMENT=[]\n",
    "comment=driver.find_elements(By.XPATH,'//div[@class=\"style-scope ytd-expander\"]')\n",
    "for i in comment:\n",
    "    cmnt=i.text\n",
    "    COMMENT.append(cmnt)\n",
    "    COMMENT=COMMENT[0:500]\n",
    "time=driver.find_elements(By.XPATH,'//*[@id=\"header-author\"]/yt-formatted-string')\n",
    "for i in time:\n",
    "    timee=i.text\n",
    "    TIME.append(timee)\n",
    "    TIME=TIME[0:500]"
   ]
  },
  {
   "cell_type": "code",
   "execution_count": 94,
   "id": "fc6de20b",
   "metadata": {},
   "outputs": [],
   "source": [
    "YoutubeDF=pd.DataFrame({\"Upvote\":UPVOTE,'Comment':COMMENT,'Time':TIME})"
   ]
  },
  {
   "cell_type": "code",
   "execution_count": 96,
   "id": "53c115d2",
   "metadata": {},
   "outputs": [
    {
     "data": {
      "text/html": [
       "<div>\n",
       "<style scoped>\n",
       "    .dataframe tbody tr th:only-of-type {\n",
       "        vertical-align: middle;\n",
       "    }\n",
       "\n",
       "    .dataframe tbody tr th {\n",
       "        vertical-align: top;\n",
       "    }\n",
       "\n",
       "    .dataframe thead th {\n",
       "        text-align: right;\n",
       "    }\n",
       "</style>\n",
       "<table border=\"1\" class=\"dataframe\">\n",
       "  <thead>\n",
       "    <tr style=\"text-align: right;\">\n",
       "      <th></th>\n",
       "      <th>Upvote</th>\n",
       "      <th>Comment</th>\n",
       "      <th>Time</th>\n",
       "    </tr>\n",
       "  </thead>\n",
       "  <tbody>\n",
       "    <tr>\n",
       "      <th>267</th>\n",
       "      <td>@viralvideo1821</td>\n",
       "      <td>Complete video best video</td>\n",
       "      <td>2 weeks ago</td>\n",
       "    </tr>\n",
       "    <tr>\n",
       "      <th>383</th>\n",
       "      <td>@rajeshray-kz7dj</td>\n",
       "      <td>Part 2 jaldi lao</td>\n",
       "      <td>9 days ago</td>\n",
       "    </tr>\n",
       "    <tr>\n",
       "      <th>253</th>\n",
       "      <td>@ChiranjiviBorra</td>\n",
       "      <td>भाई हलवा और चप्पल वाली बात बहुत अच्छी लगी</td>\n",
       "      <td>1 month ago</td>\n",
       "    </tr>\n",
       "    <tr>\n",
       "      <th>164</th>\n",
       "      <td>@Ravan00007</td>\n",
       "      <td>आपका अभिनय और जिस भी चलचित्र में आप कार्य करते...</td>\n",
       "      <td>3 weeks ago</td>\n",
       "    </tr>\n",
       "    <tr>\n",
       "      <th>158</th>\n",
       "      <td>@TheStroyFacts</td>\n",
       "      <td>Mayank and badana Bhai  is the to best</td>\n",
       "      <td>1 month ago</td>\n",
       "    </tr>\n",
       "  </tbody>\n",
       "</table>\n",
       "</div>"
      ],
      "text/plain": [
       "               Upvote                                            Comment  \\\n",
       "267   @viralvideo1821                          Complete video best video   \n",
       "383  @rajeshray-kz7dj                                  Part 2 jaldi lao    \n",
       "253  @ChiranjiviBorra         भाई हलवा और चप्पल वाली बात बहुत अच्छी लगी    \n",
       "164       @Ravan00007  आपका अभिनय और जिस भी चलचित्र में आप कार्य करते...   \n",
       "158    @TheStroyFacts            Mayank and badana Bhai  is the to best    \n",
       "\n",
       "            Time  \n",
       "267  2 weeks ago  \n",
       "383   9 days ago  \n",
       "253  1 month ago  \n",
       "164  3 weeks ago  \n",
       "158  1 month ago  "
      ]
     },
     "execution_count": 96,
     "metadata": {},
     "output_type": "execute_result"
    }
   ],
   "source": [
    "YoutubeDF.sample(5)"
   ]
  },
  {
   "cell_type": "code",
   "execution_count": 97,
   "id": "3a28dd5d",
   "metadata": {},
   "outputs": [],
   "source": [
    "YoutubeDF.to_csv(\"YoutubeVideo.csv\")"
   ]
  },
  {
   "cell_type": "markdown",
   "id": "9fd919ba",
   "metadata": {},
   "source": [
    "QUESTION - 9"
   ]
  },
  {
   "cell_type": "code",
   "execution_count": 197,
   "id": "9f3674bf",
   "metadata": {},
   "outputs": [],
   "source": [
    "driver=webdriver.Chrome()"
   ]
  },
  {
   "cell_type": "code",
   "execution_count": 198,
   "id": "dc37f0e5",
   "metadata": {},
   "outputs": [],
   "source": [
    "driver.get('https://www.hostelworld.com/')"
   ]
  },
  {
   "cell_type": "code",
   "execution_count": 199,
   "id": "a280fed2",
   "metadata": {},
   "outputs": [],
   "source": [
    "location=driver.find_element(By.XPATH,'/html/body/div[3]/div/div/div[2]/div[2]/div[2]/div/div/div/div[1]/div/div/div[2]/input')\n",
    "location.send_keys('London')"
   ]
  },
  {
   "cell_type": "code",
   "execution_count": 200,
   "id": "7b4f72c5",
   "metadata": {},
   "outputs": [],
   "source": [
    "button=driver.find_element(By.XPATH,'/html/body/div[3]/div/div/div[2]/div[2]/div[2]/div/div/div/div[5]/button[1]')\n",
    "button.click()"
   ]
  },
  {
   "cell_type": "code",
   "execution_count": 201,
   "id": "48587f3b",
   "metadata": {},
   "outputs": [],
   "source": [
    "hostel_url=[]\n",
    "url=driver.find_elements(By.XPATH,'//a[@class=\"property-card-container horizontal\"]')\n",
    "for i in url:\n",
    "    urrl=i.get_attribute('href')\n",
    "    hostel_url.append(urrl)"
   ]
  },
  {
   "cell_type": "code",
   "execution_count": 202,
   "id": "f5f8e080",
   "metadata": {},
   "outputs": [
    {
     "data": {
      "text/plain": [
       "30"
      ]
     },
     "execution_count": 202,
     "metadata": {},
     "output_type": "execute_result"
    }
   ],
   "source": [
    "len(hostel_url)"
   ]
  },
  {
   "cell_type": "code",
   "execution_count": 211,
   "id": "010d6818",
   "metadata": {},
   "outputs": [],
   "source": [
    "Private_from_price=[]\n",
    "Dorms_from_Price=[]\n",
    "\n",
    "private=driver.find_elements(By.XPATH,'//*[@id=\"__layout\"]/div/div[2]/div[2]/div[1]/div/div/div[6]/div/a/a/div/div/div/div[1]/div/strong')\n",
    "for i in private:\n",
    "    pvt=i.text\n",
    "    Private_from_price.append(pvt)\n",
    "    \n",
    "dorms=driver.find_elements(By.XPATH,'//*[@id=\"__layout\"]/div/div[2]/div[2]/div[1]/div/div/div[6]/div/a/a/div/div/div/div[2]/div/strong')\n",
    "for i in dorms:\n",
    "    dorm=i.text\n",
    "    Dorms_from_Price.append(dorm)    "
   ]
  },
  {
   "cell_type": "code",
   "execution_count": 212,
   "id": "ed9f9cb4",
   "metadata": {},
   "outputs": [],
   "source": [
    "Hostel_Name=[]\n",
    "Distance_from_city=[]\n",
    "Total_Review=[]\n",
    "    \n",
    "name=driver.find_elements(By.XPATH,'//div[@class=\"property-name\"]/span')\n",
    "for i in name:\n",
    "    name=i.text\n",
    "    Hostel_Name.append(name)\n",
    "\n",
    "distance=driver.find_elements(By.XPATH,'//span[@class=\"distance-description\"]')\n",
    "for i in distance:\n",
    "    dstn=i.text\n",
    "    Distance_from_city.append(dstn)\n",
    "\n",
    "total_review=driver.find_elements(By.XPATH,'//div[@class=\"review\"]')\n",
    "for i in total_review:\n",
    "    review=i.text\n",
    "    Total_Review.append(review)\n",
    "    \n",
    "Rating=[]\n",
    "Overall_Review=[]\n",
    "Private_from_Price=[]\n",
    "Dorms_from_Price=[]\n",
    "Facility=[]\n",
    "Property_Description=[]\n",
    "\n",
    "for i in hostel_url:\n",
    "    driver.get(i)\n",
    "    try:\n",
    "        rating=driver.find_element(By.XPATH,'/html/body/div[3]/div/div/div[2]/div[1]/div[2]/div[1]/div[2]/div/div[1]/span[1]')\n",
    "        Rating.append(rating.text)\n",
    "        \n",
    "    except NoSuchElementException:\n",
    "        Rating.append('-')\n",
    "        \n",
    "    try:\n",
    "        review=driver.find_element(By.XPATH,'/html/body/div[3]/div/div/div[2]/div[1]/div[2]/div[1]/div[2]/div/div[1]/span[2]')\n",
    "        Overall_Review.append(review.text)\n",
    "        \n",
    "    except NoSuchElementException:\n",
    "        Overall_Review.append('-')\n",
    "    \n",
    "        \n",
    "    try:\n",
    "        facility=driver.find_element(By.XPATH,'/html/body/div[3]/div/div/div[2]/section/div[14]/div/ul/li[1]/ul')\n",
    "        Facility.append(facility.text)\n",
    "        \n",
    "    except NoSuchElementException:\n",
    "        Facility.append('-')\n",
    "    \n",
    "    try:\n",
    "        description=driver.find_element(By.XPATH,'/html/body/div[3]/div/div/div[2]/section/div[10]/div/div[2]/div[6]/div/div[2]')\n",
    "        Property_Description.append(description.text)\n",
    "        \n",
    "    except NoSuchElementException:\n",
    "        Property_Description.append('-')"
   ]
  },
  {
   "cell_type": "markdown",
   "id": "42a9b5e6",
   "metadata": {},
   "source": [
    "QUESTION - 5"
   ]
  },
  {
   "cell_type": "code",
   "execution_count": 219,
   "id": "5af90212",
   "metadata": {},
   "outputs": [],
   "source": [
    "from selenium.webdriver.support.ui import WebDriverWait\n",
    "from selenium.webdriver.common.by import By\n",
    "from selenium.webdriver.support import expected_conditions as EC"
   ]
  },
  {
   "cell_type": "code",
   "execution_count": 228,
   "id": "5f56cf4b",
   "metadata": {},
   "outputs": [],
   "source": [
    "driver=webdriver.Chrome()\n",
    "delay = WebDriverWait(driver, 10)\n",
    "driver.get(\"https://www.google.com/maps\")\n",
    "delay.until(EC.element_to_be_clickable((By.ID, \"searchboxinput\"))).send_keys(\"New York\")\n",
    "delay.until(EC.element_to_be_clickable((By.ID, \"searchbox-searchbutton\"))).click()"
   ]
  },
  {
   "cell_type": "code",
   "execution_count": 229,
   "id": "3236d012",
   "metadata": {},
   "outputs": [],
   "source": [
    "Latitude_Longitude=[]\n",
    "lngt=driver.find_elements(By.XPATH,'//*[@id=\"action-menu\"]/div[1]/div')\n",
    "for i in lngt:\n",
    "    lng=i.text\n",
    "    Latitude_Longitude.append(lng)"
   ]
  },
  {
   "cell_type": "code",
   "execution_count": 230,
   "id": "911807a0",
   "metadata": {},
   "outputs": [
    {
     "data": {
      "text/plain": [
       "['40.73397, -73.89118']"
      ]
     },
     "execution_count": 230,
     "metadata": {},
     "output_type": "execute_result"
    }
   ],
   "source": [
    "Latitude_Longitude"
   ]
  }
 ],
 "metadata": {
  "kernelspec": {
   "display_name": "Python 3 (ipykernel)",
   "language": "python",
   "name": "python3"
  },
  "language_info": {
   "codemirror_mode": {
    "name": "ipython",
    "version": 3
   },
   "file_extension": ".py",
   "mimetype": "text/x-python",
   "name": "python",
   "nbconvert_exporter": "python",
   "pygments_lexer": "ipython3",
   "version": "3.11.5"
  }
 },
 "nbformat": 4,
 "nbformat_minor": 5
}
